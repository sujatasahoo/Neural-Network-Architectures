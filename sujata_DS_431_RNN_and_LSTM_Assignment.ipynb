{
  "nbformat": 4,
  "nbformat_minor": 0,
  "metadata": {
    "kernelspec": {
      "display_name": "py37  (Python3)",
      "language": "python",
      "name": "py37"
    },
    "language_info": {
      "codemirror_mode": {
        "name": "ipython",
        "version": 3
      },
      "file_extension": ".py",
      "mimetype": "text/x-python",
      "name": "python",
      "nbconvert_exporter": "python",
      "pygments_lexer": "ipython3",
      "version": "3.7.0"
    },
    "nteract": {
      "version": "0.23.3"
    },
    "colab": {
      "name": "sujata_DS_431_RNN_and_LSTM_Assignment.ipynb",
      "provenance": [],
      "collapsed_sections": [],
      "include_colab_link": true
    },
    "accelerator": "GPU"
  },
  "cells": [
    {
      "cell_type": "markdown",
      "metadata": {
        "id": "view-in-github",
        "colab_type": "text"
      },
      "source": [
        "<a href=\"https://colab.research.google.com/github/sujatasahoo/Neural-Network-Architectures/blob/main/sujata_DS_431_RNN_and_LSTM_Assignment.ipynb\" target=\"_parent\"><img src=\"https://colab.research.google.com/assets/colab-badge.svg\" alt=\"Open In Colab\"/></a>"
      ]
    },
    {
      "cell_type": "markdown",
      "metadata": {
        "id": "_nbsDADwcqLJ"
      },
      "source": [
        "\n",
        "## *Data Science Unit 4 Sprint 3 Assignment 1*\n",
        "\n",
        "# Recurrent Neural Networks and Long Short Term Memory (LSTM)\n",
        "\n",
        "![Monkey at a typewriter](https://upload.wikimedia.org/wikipedia/commons/thumb/3/3c/Chimpanzee_seated_at_typewriter.jpg/603px-Chimpanzee_seated_at_typewriter.jpg)\n",
        "\n",
        "The French mathematician Emile Borel once mused that [**infinite monkeys typing for an infinite amount of time**](https://en.wikipedia.org/wiki/Infinite_monkey_theorem) will eventually type the complete works of William Shakespeare. Let's see if we can get there a bit faster, with the power of **Recurrent Neural Networks and LSTMs**!\n",
        "\n",
        "Our goal in this projectis to build a **Shakespeare Sonnet Generator**.<br>\n",
        "Given a prompt of a few words as input, its task is to generate follow-on text that reads like a Shakespeare Sonnet!<br>\n",
        "\n",
        "To build our Sonnet Generator we will use a type of model called a **sequence model**. Given a short sequence, a sequence  model predicts the **most likely next item in the sequence**. Sequence models are astonishingly versatile and powerful, because the **sequence** we want to predict can be quite general! It can be composed of **words**, or of **characters**, or of **musical notes**, or of data points in a **time series** such as EKG voltages, or stock prices, or even a sequence of **DNA nucleotides**! \n",
        "\n",
        "We will train our model on the entire corpus of Shakespeare's Sonnets, and the model will learn from that data the most likely patterns of characters."
      ]
    },
    {
      "cell_type": "code",
      "source": [
        "%tensorflow_version 2.x\n",
        "import tensorflow as tf\n",
        "device_name = tf.test.gpu_device_name()\n",
        "if device_name != '/device:GPU:0':\n",
        "  raise SystemError('GPU device not found')\n",
        "print('Found GPU at: {}'.format(device_name))"
      ],
      "metadata": {
        "colab": {
          "base_uri": "https://localhost:8080/"
        },
        "id": "iDLGsExmZatv",
        "outputId": "b62c5ccb-57cf-4ac5-8a76-8702cb400247"
      },
      "execution_count": null,
      "outputs": [
        {
          "output_type": "stream",
          "name": "stdout",
          "text": [
            "Found GPU at: /device:GPU:0\n"
          ]
        }
      ]
    },
    {
      "cell_type": "code",
      "metadata": {
        "execution": {
          "iopub.execute_input": "2020-06-15T18:18:20.453Z",
          "iopub.status.busy": "2020-06-15T18:18:20.442Z",
          "iopub.status.idle": "2020-06-15T18:18:20.513Z",
          "shell.execute_reply": "2020-06-15T18:18:20.523Z"
        },
        "id": "L-AX4IBIcqLK",
        "colab": {
          "base_uri": "https://localhost:8080/"
        },
        "outputId": "f7491182-2db5-4601-cdc3-b99bd85e7939"
      },
      "source": [
        "import random\n",
        "import sys\n",
        "import os\n",
        "\n",
        "import requests\n",
        "import pandas as pd\n",
        "import numpy as np\n",
        "import matplotlib.pyplot as plt\n",
        "from tensorflow.keras.callbacks import LambdaCallback\n",
        "\n",
        "from tensorflow.keras.preprocessing import sequence\n",
        "from tensorflow.keras.models import Sequential\n",
        "from tensorflow.keras.layers import Dense, Embedding, Bidirectional\n",
        "from tensorflow.keras.layers import LSTM\n",
        "\n",
        "%matplotlib inline\n",
        "\n",
        "# import a custom text data preparation class\n",
        "!wget https://raw.githubusercontent.com/LambdaSchool/DS-Unit-4-Sprint-3-Deep-Learning/main/module1-rnn-and-lstm/data_cleaning_toolkit_class.py\n",
        "from data_cleaning_toolkit_class import data_cleaning_toolkit"
      ],
      "execution_count": null,
      "outputs": [
        {
          "output_type": "stream",
          "name": "stdout",
          "text": [
            "--2022-04-28 13:14:52--  https://raw.githubusercontent.com/LambdaSchool/DS-Unit-4-Sprint-3-Deep-Learning/main/module1-rnn-and-lstm/data_cleaning_toolkit_class.py\n",
            "Resolving raw.githubusercontent.com (raw.githubusercontent.com)... 185.199.109.133, 185.199.110.133, 185.199.111.133, ...\n",
            "Connecting to raw.githubusercontent.com (raw.githubusercontent.com)|185.199.109.133|:443... connected.\n",
            "HTTP request sent, awaiting response... 200 OK\n",
            "Length: 6666 (6.5K) [text/plain]\n",
            "Saving to: ‘data_cleaning_toolkit_class.py’\n",
            "\n",
            "data_cleaning_toolk 100%[===================>]   6.51K  --.-KB/s    in 0s      \n",
            "\n",
            "2022-04-28 13:14:53 (71.8 MB/s) - ‘data_cleaning_toolkit_class.py’ saved [6666/6666]\n",
            "\n"
          ]
        }
      ]
    },
    {
      "cell_type": "markdown",
      "metadata": {
        "id": "Db6enoAacqLL"
      },
      "source": [
        "### Use `request` to pull data from a URL\n",
        "\n",
        "[**Read through the request documentation**](https://requests.readthedocs.io/en/master/user/quickstart/#make-a-request) to learn how to download the Shakespeare Sonnets from the Gutenberg website. \n"
      ]
    },
    {
      "cell_type": "code",
      "metadata": {
        "deletable": false,
        "nbgrader": {
          "cell_type": "code",
          "checksum": "6ac79c2e9a53d747ebf8fb41f4b39340",
          "grade": false,
          "grade_id": "cell-b8ececfad1f60557",
          "locked": false,
          "schema_version": 3,
          "solution": true,
          "task": false
        },
        "id": "nMf2XrJbcqLM"
      },
      "source": [
        "# download all of Shakespeare's Sonnets from the Project Gutenberg website\n",
        "\n",
        "# here's the link for the sonnets\n",
        "url_shakespeare_sonnets = \"https://www.gutenberg.org/cache/epub/1041/pg1041.txt\"\n",
        "\n",
        "# use requests and the url to download all of the sonnets - save the result to `data`\n",
        "data = requests.get(url_shakespeare_sonnets)\n"
      ],
      "execution_count": null,
      "outputs": []
    },
    {
      "cell_type": "code",
      "metadata": {
        "deletable": false,
        "nbgrader": {
          "cell_type": "code",
          "checksum": "4ab4f4f14188a9f3703d43d223bfa150",
          "grade": false,
          "grade_id": "cell-0cd0c8509bc8e8cf",
          "locked": false,
          "schema_version": 3,
          "solution": true,
          "task": false
        },
        "id": "dcXTQ5RTcqLM"
      },
      "source": [
        "# extract the downloaded text from the requests object and save it to `raw_text_data`\n",
        "# hint: take a look at the attributes of `data`\n",
        "# YOUR CODE HERE\n",
        "raw_text_data = data.text\n"
      ],
      "execution_count": null,
      "outputs": []
    },
    {
      "cell_type": "code",
      "source": [
        "type(raw_text_data)"
      ],
      "metadata": {
        "colab": {
          "base_uri": "https://localhost:8080/"
        },
        "id": "a7lyE1rTZ6-U",
        "outputId": "9b66f7dc-c61c-4ec1-ebbe-3aed5d351deb"
      },
      "execution_count": null,
      "outputs": [
        {
          "output_type": "execute_result",
          "data": {
            "text/plain": [
              "str"
            ]
          },
          "metadata": {},
          "execution_count": 6
        }
      ]
    },
    {
      "cell_type": "code",
      "metadata": {
        "id": "pW4mj8eScqLN"
      },
      "source": [
        "# check the data type of `raw_text_data`\n",
        "assert(type(raw_text_data)==str)"
      ],
      "execution_count": null,
      "outputs": []
    },
    {
      "cell_type": "markdown",
      "metadata": {
        "id": "DwAX_OwEcqLN"
      },
      "source": [
        "### Data Cleaning"
      ]
    },
    {
      "cell_type": "code",
      "metadata": {
        "id": "4j7G1zqncqLO",
        "colab": {
          "base_uri": "https://localhost:8080/",
          "height": 160
        },
        "outputId": "bba65d40-b68e-46f8-b6f8-dc97d5f5656b"
      },
      "source": [
        "# as usual, we need to clean up the messy data\n",
        "raw_text_data[:3000]"
      ],
      "execution_count": null,
      "outputs": [
        {
          "output_type": "execute_result",
          "data": {
            "text/plain": [
              "'\\ufeffThe Project Gutenberg eBook of The Sonnets, by William Shakespeare\\r\\n\\r\\nThis eBook is for the use of anyone anywhere in the United States and\\r\\nmost other parts of the world at no cost and with almost no restrictions\\r\\nwhatsoever. You may copy it, give it away or re-use it under the terms\\r\\nof the Project Gutenberg License included with this eBook or online at\\r\\nwww.gutenberg.org. If you are not located in the United States, you\\r\\nwill have to check the laws of the country where you are located before\\r\\nusing this eBook.\\r\\n\\r\\nTitle: The Sonnets\\r\\n\\r\\nAuthor: William Shakespeare\\r\\n\\r\\nRelease Date: September, 1997 [eBook #1041]\\r\\n[Most recently updated: November 25, 2021]\\r\\n\\r\\nLanguage: English\\r\\n\\r\\n\\r\\nProduced by:  the Project Gutenberg Shakespeare Team\\r\\n\\r\\n*** START OF THE PROJECT GUTENBERG EBOOK THE SONNETS ***\\r\\n\\r\\n\\r\\n\\r\\n\\r\\nTHE SONNETS\\r\\n\\r\\nby William Shakespeare\\r\\n\\r\\n\\r\\n\\r\\n\\r\\n  I\\r\\n\\r\\n  From fairest creatures we desire increase,\\r\\n  That thereby beauty’s rose might never die,\\r\\n  But as the riper should by time decease,\\r\\n  His tender heir might bear his memory:\\r\\n  But thou, contracted to thine own bright eyes,\\r\\n  Feed’st thy light’s flame with self-substantial fuel,\\r\\n  Making a famine where abundance lies,\\r\\n  Thy self thy foe, to thy sweet self too cruel:\\r\\n  Thou that art now the world’s fresh ornament,\\r\\n  And only herald to the gaudy spring,\\r\\n  Within thine own bud buriest thy content,\\r\\n  And tender churl mak’st waste in niggarding:\\r\\n    Pity the world, or else this glutton be,\\r\\n    To eat the world’s due, by the grave and thee.\\r\\n\\r\\n  II\\r\\n\\r\\n  When forty winters shall besiege thy brow,\\r\\n  And dig deep trenches in thy beauty’s field,\\r\\n  Thy youth’s proud livery so gazed on now,\\r\\n  Will be a tatter’d weed of small worth held:\\r\\n  Then being asked, where all thy beauty lies,\\r\\n  Where all the treasure of thy lusty days;\\r\\n  To say, within thine own deep sunken eyes,\\r\\n  Were an all-eating shame, and thriftless praise.\\r\\n  How much more praise deserv’d thy beauty’s use,\\r\\n  If thou couldst answer ‘This fair child of mine\\r\\n  Shall sum my count, and make my old excuse,’\\r\\n  Proving his beauty by succession thine!\\r\\n    This were to be new made when thou art old,\\r\\n    And see thy blood warm when thou feel’st it cold.\\r\\n\\r\\n  III\\r\\n\\r\\n  Look in thy glass and tell the face thou viewest\\r\\n  Now is the time that face should form another;\\r\\n  Whose fresh repair if now thou not renewest,\\r\\n  Thou dost beguile the world, unbless some mother.\\r\\n  For where is she so fair whose unear’d womb\\r\\n  Disdains the tillage of thy husbandry?\\r\\n  Or who is he so fond will be the tomb,\\r\\n  Of his self-love to stop posterity?\\r\\n  Thou art thy mother’s glass and she in thee\\r\\n  Calls back the lovely April of her prime;\\r\\n  So thou through windows of thine age shalt see,\\r\\n  Despite of wrinkles this thy golden time.\\r\\n    But if thou live, remember’d not to be,\\r\\n    Die single and thine image dies with thee.\\r\\n\\r\\n  IV\\r\\n\\r\\n  Unthrifty loveliness, why dost thou spend\\r\\n  Upon thy self thy beauty’s legacy?\\r\\n  Nature’s bequest gives nothing, '"
            ],
            "application/vnd.google.colaboratory.intrinsic+json": {
              "type": "string"
            }
          },
          "metadata": {},
          "execution_count": 8
        }
      ]
    },
    {
      "cell_type": "code",
      "metadata": {
        "deletable": false,
        "nbgrader": {
          "cell_type": "code",
          "checksum": "13b66e41cc64459f0757f6f53a78e08f",
          "grade": false,
          "grade_id": "cell-916f742d2cea299a",
          "locked": false,
          "schema_version": 3,
          "solution": true,
          "task": false
        },
        "id": "JolH-nrVcqLP"
      },
      "source": [
        "# Which characters could we use with the split() method to split the text into lines?\n",
        "\n",
        "# split the text into **lines** and save the result to `split_data`\n",
        "\n",
        "# YOUR CODE HERE\n",
        "split_chars = '\\r\\n'\n",
        "split_data = raw_text_data.split(split_chars)"
      ],
      "execution_count": null,
      "outputs": []
    },
    {
      "cell_type": "code",
      "metadata": {
        "id": "UuGAL77acqLQ",
        "colab": {
          "base_uri": "https://localhost:8080/"
        },
        "outputId": "831131b0-cd32-4233-ce5e-5e5ae58384d2"
      },
      "source": [
        "# we need to drop all the boiler plate text (i.e. titles and descriptions) as well as extra white spaces\n",
        "# so that we are left with only the sonnets themselves \n",
        "split_data[:80] "
      ],
      "execution_count": null,
      "outputs": [
        {
          "output_type": "execute_result",
          "data": {
            "text/plain": [
              "['\\ufeffThe Project Gutenberg eBook of The Sonnets, by William Shakespeare',\n",
              " '',\n",
              " 'This eBook is for the use of anyone anywhere in the United States and',\n",
              " 'most other parts of the world at no cost and with almost no restrictions',\n",
              " 'whatsoever. You may copy it, give it away or re-use it under the terms',\n",
              " 'of the Project Gutenberg License included with this eBook or online at',\n",
              " 'www.gutenberg.org. If you are not located in the United States, you',\n",
              " 'will have to check the laws of the country where you are located before',\n",
              " 'using this eBook.',\n",
              " '',\n",
              " 'Title: The Sonnets',\n",
              " '',\n",
              " 'Author: William Shakespeare',\n",
              " '',\n",
              " 'Release Date: September, 1997 [eBook #1041]',\n",
              " '[Most recently updated: November 25, 2021]',\n",
              " '',\n",
              " 'Language: English',\n",
              " '',\n",
              " '',\n",
              " 'Produced by:  the Project Gutenberg Shakespeare Team',\n",
              " '',\n",
              " '*** START OF THE PROJECT GUTENBERG EBOOK THE SONNETS ***',\n",
              " '',\n",
              " '',\n",
              " '',\n",
              " '',\n",
              " 'THE SONNETS',\n",
              " '',\n",
              " 'by William Shakespeare',\n",
              " '',\n",
              " '',\n",
              " '',\n",
              " '',\n",
              " '  I',\n",
              " '',\n",
              " '  From fairest creatures we desire increase,',\n",
              " '  That thereby beauty’s rose might never die,',\n",
              " '  But as the riper should by time decease,',\n",
              " '  His tender heir might bear his memory:',\n",
              " '  But thou, contracted to thine own bright eyes,',\n",
              " '  Feed’st thy light’s flame with self-substantial fuel,',\n",
              " '  Making a famine where abundance lies,',\n",
              " '  Thy self thy foe, to thy sweet self too cruel:',\n",
              " '  Thou that art now the world’s fresh ornament,',\n",
              " '  And only herald to the gaudy spring,',\n",
              " '  Within thine own bud buriest thy content,',\n",
              " '  And tender churl mak’st waste in niggarding:',\n",
              " '    Pity the world, or else this glutton be,',\n",
              " '    To eat the world’s due, by the grave and thee.',\n",
              " '',\n",
              " '  II',\n",
              " '',\n",
              " '  When forty winters shall besiege thy brow,',\n",
              " '  And dig deep trenches in thy beauty’s field,',\n",
              " '  Thy youth’s proud livery so gazed on now,',\n",
              " '  Will be a tatter’d weed of small worth held:',\n",
              " '  Then being asked, where all thy beauty lies,',\n",
              " '  Where all the treasure of thy lusty days;',\n",
              " '  To say, within thine own deep sunken eyes,',\n",
              " '  Were an all-eating shame, and thriftless praise.',\n",
              " '  How much more praise deserv’d thy beauty’s use,',\n",
              " '  If thou couldst answer ‘This fair child of mine',\n",
              " '  Shall sum my count, and make my old excuse,’',\n",
              " '  Proving his beauty by succession thine!',\n",
              " '    This were to be new made when thou art old,',\n",
              " '    And see thy blood warm when thou feel’st it cold.',\n",
              " '',\n",
              " '  III',\n",
              " '',\n",
              " '  Look in thy glass and tell the face thou viewest',\n",
              " '  Now is the time that face should form another;',\n",
              " '  Whose fresh repair if now thou not renewest,',\n",
              " '  Thou dost beguile the world, unbless some mother.',\n",
              " '  For where is she so fair whose unear’d womb',\n",
              " '  Disdains the tillage of thy husbandry?',\n",
              " '  Or who is he so fond will be the tomb,',\n",
              " '  Of his self-love to stop posterity?',\n",
              " '  Thou art thy mother’s glass and she in thee',\n",
              " '  Calls back the lovely April of her prime;']"
            ]
          },
          "metadata": {},
          "execution_count": 10
        }
      ]
    },
    {
      "cell_type": "markdown",
      "metadata": {
        "id": "5fsYTC76cqLQ"
      },
      "source": [
        "**Use list index slicing to remove the titles and descriptions, so we only have the sonnets.**\n"
      ]
    },
    {
      "cell_type": "code",
      "metadata": {
        "deletable": false,
        "nbgrader": {
          "cell_type": "code",
          "checksum": "00ead0a1024ff72116c24f6b473c1aac",
          "grade": false,
          "grade_id": "cell-1f388b88b0eec24a",
          "locked": false,
          "schema_version": 3,
          "solution": true,
          "task": false
        },
        "id": "NLaFgX08cqLR"
      },
      "source": [
        "# we need to drop all the boilerplate text (i.e., titles and descriptions) as well as extra white spaces\n",
        "# so that we are left with only the sonnets themselves \n",
        "\n",
        "# find index boundaries (start, end)so that \n",
        "# sonnets exist between these indices \n",
        "# titles and descriptions exist outside of these indices\n",
        "start_index = 45\n",
        "end_index = -369\n",
        "# use index slicing to isolate the sonnet lines from the text - save the result to `sonnets`\n",
        "# YOUR CODE HERE\n",
        "sonnets = split_data[start_index:end_index]"
      ],
      "execution_count": null,
      "outputs": []
    },
    {
      "cell_type": "markdown",
      "metadata": {
        "id": "_mJReim_43Ma"
      },
      "source": [
        "Notice that there are many lines that should not be counted as sonnets!"
      ]
    },
    {
      "cell_type": "code",
      "metadata": {
        "id": "th9BuvVlcqLR",
        "colab": {
          "base_uri": "https://localhost:8080/"
        },
        "outputId": "a94e1885-d366-457d-83da-d4f827e8ecba"
      },
      "source": [
        "# these non-sonnet lines have far fewer characters than the actual sonnet lines?\n",
        "\n",
        "sonnets[200:240]"
      ],
      "execution_count": null,
      "outputs": [
        {
          "output_type": "execute_result",
          "data": {
            "text/plain": [
              "['  So should that beauty which you hold in lease',\n",
              " '  Find no determination; then you were',\n",
              " '  Yourself again, after yourself’s decease,',\n",
              " '  When your sweet issue your sweet form should bear.',\n",
              " '  Who lets so fair a house fall to decay,',\n",
              " '  Which husbandry in honour might uphold,',\n",
              " '  Against the stormy gusts of winter’s day',\n",
              " '  And barren rage of death’s eternal cold?',\n",
              " '    O! none but unthrifts. Dear my love, you know,',\n",
              " '    You had a father: let your son say so.',\n",
              " '',\n",
              " '  XIV',\n",
              " '',\n",
              " '  Not from the stars do I my judgement pluck;',\n",
              " '  And yet methinks I have astronomy,',\n",
              " '  But not to tell of good or evil luck,',\n",
              " '  Of plagues, of dearths, or seasons’ quality;',\n",
              " '  Nor can I fortune to brief minutes tell,',\n",
              " '  Pointing to each his thunder, rain and wind,',\n",
              " '  Or say with princes if it shall go well',\n",
              " '  By oft predict that I in heaven find:',\n",
              " '  But from thine eyes my knowledge I derive,',\n",
              " '  And constant stars in them I read such art',\n",
              " '  As ‘Truth and beauty shall together thrive,',\n",
              " '  If from thyself, to store thou wouldst convert’;',\n",
              " '    Or else of thee this I prognosticate:',\n",
              " '    ‘Thy end is truth’s and beauty’s doom and date.’',\n",
              " '',\n",
              " '  XV',\n",
              " '',\n",
              " '  When I consider every thing that grows',\n",
              " '  Holds in perfection but a little moment,',\n",
              " '  That this huge stage presenteth nought but shows',\n",
              " '  Whereon the stars in secret influence comment;',\n",
              " '  When I perceive that men as plants increase,',\n",
              " '  Cheered and checked even by the self-same sky,',\n",
              " '  Vaunt in their youthful sap, at height decrease,',\n",
              " '  And wear their brave state out of memory;',\n",
              " '  Then the conceit of this inconstant stay',\n",
              " '  Sets you most rich in youth before my sight,']"
            ]
          },
          "metadata": {},
          "execution_count": 12
        }
      ]
    },
    {
      "cell_type": "code",
      "source": [
        "len(split_data)"
      ],
      "metadata": {
        "colab": {
          "base_uri": "https://localhost:8080/"
        },
        "id": "IEMWTyvJLTQJ",
        "outputId": "aba1b07b-7265-459c-8b26-25cc7b8dfe98"
      },
      "execution_count": null,
      "outputs": [
        {
          "output_type": "execute_result",
          "data": {
            "text/plain": [
              "3004"
            ]
          },
          "metadata": {},
          "execution_count": 13
        }
      ]
    },
    {
      "cell_type": "code",
      "metadata": {
        "deletable": false,
        "nbgrader": {
          "cell_type": "code",
          "checksum": "649cf52260448a5faf539ad6b6e8e6e8",
          "grade": false,
          "grade_id": "cell-84c4b3cf1f3c032a",
          "locked": false,
          "schema_version": 3,
          "solution": true,
          "task": false
        },
        "id": "OiOfyPexcqLS"
      },
      "source": [
        "# use your judgement to decide on a good value for  \n",
        "#   the  minimum number of characters that a sonnet should have\n",
        "#   call it n_chars\n",
        "n_chars = 10\n",
        "\n",
        "# Let's use that observation to filter out all the non-sonnet lines!\n",
        "#    save results to `filtered_sonnets`\n",
        "# Hint: use a list comprehension\n",
        "filtered_sonnets = [line.lstrip(\" \") for line in sonnets if len(line) > n_chars]\n",
        "\n",
        "# YOUR CODE HERE\n",
        "filtered_sonnets = [line.lstrip(\" \") for line in sonnets if len(line) > n_chars]"
      ],
      "execution_count": null,
      "outputs": []
    },
    {
      "cell_type": "code",
      "source": [
        "#filtered_sonnets "
      ],
      "metadata": {
        "id": "PSNrU3nYMCB2"
      },
      "execution_count": null,
      "outputs": []
    },
    {
      "cell_type": "code",
      "metadata": {
        "id": "xW_AFhCUcqLS"
      },
      "source": [
        "# ok - much better!\n",
        "# but we still need to remove all the punctuation and case normalize the text\n",
        "#filtered_sonnets"
      ],
      "execution_count": null,
      "outputs": []
    },
    {
      "cell_type": "markdown",
      "metadata": {
        "id": "1iD4oqhVcqLT"
      },
      "source": [
        "### Use Custom Data Cleaning Tool \n",
        "\n",
        "Use one of the methods in the `data_cleaning_toolkit` to clean your data.\n",
        "\n",
        "There is an example of this in the guided project."
      ]
    },
    {
      "cell_type": "code",
      "metadata": {
        "deletable": false,
        "nbgrader": {
          "cell_type": "code",
          "checksum": "a722083a29139936744ff9a341e1c9a3",
          "grade": false,
          "grade_id": "cell-775c14b456d8a724",
          "locked": false,
          "schema_version": 3,
          "solution": true,
          "task": false
        },
        "id": "S7V1Q0h_cqLT"
      },
      "source": [
        "# instantiate the data_cleaning_toolkit class - save result to `dctk`\n",
        "\n",
        "# YOUR CODE HERE\n",
        "dctk = data_cleaning_toolkit()"
      ],
      "execution_count": null,
      "outputs": []
    },
    {
      "cell_type": "code",
      "metadata": {
        "deletable": false,
        "nbgrader": {
          "cell_type": "code",
          "checksum": "ab91e612cd08068f3a36172979157d5d",
          "grade": false,
          "grade_id": "cell-684010b6a7360876",
          "locked": false,
          "schema_version": 3,
          "solution": true,
          "task": false
        },
        "id": "YquHh21GcqLT"
      },
      "source": [
        "# use data_cleaning_toolkit to remove punctuation and to case normalize - save results to `clean_sonnets`\n",
        "\n",
        "# YOUR CODE HERE\n",
        "clean_sonnets = [dctk.clean_data(line) for line in filtered_sonnets]"
      ],
      "execution_count": null,
      "outputs": []
    },
    {
      "cell_type": "code",
      "metadata": {
        "id": "dN3vWjofcqLT"
      },
      "source": [
        "# much better!\n",
        "display(clean_sonnets)\n",
        "print(len(clean_sonnets))"
      ],
      "execution_count": null,
      "outputs": []
    },
    {
      "cell_type": "markdown",
      "metadata": {
        "id": "WSfirtmYcqLT"
      },
      "source": [
        "### Use Your Data Tool to Create Character Sequences \n",
        "for the LSTM model\n",
        "\n",
        "We'll need the `create_char_sequences` method for this task. <br>\n",
        "However, this method requires a parameter called `maxlen,` which is responsible for setting the maximum sequence length. \n",
        "\n",
        "So what would be a good sequence length, exactly? \n",
        "\n",
        "To answer that question, let's do some statistics! "
      ]
    },
    {
      "cell_type": "code",
      "metadata": {
        "deletable": false,
        "nbgrader": {
          "cell_type": "code",
          "checksum": "1deebea2ada0a7dc7d2eb08295ee1e2b",
          "grade": false,
          "grade_id": "cell-9ebdaa2654dd29ab",
          "locked": false,
          "schema_version": 3,
          "solution": true,
          "task": false
        },
        "id": "O7Buzpw3cqLU"
      },
      "source": [
        "def calc_stats(corpus):\n",
        "    \"\"\"\n",
        "    Calculates statistics on the length of every line in the sonnets\n",
        "    \"\"\"\n",
        "    \n",
        "    # write a list comprehension that calculates each sonnet's line length - save the results to `doc_lens` \n",
        "\n",
        "    # use numpy to calculate and return the mean, median, std, max, min of the doc lens - all in one line of code\n",
        "\n",
        "    # YOUR CODE HERE\n",
        "    doc_lens = [len(line) for line in corpus]\n",
        "    return np.mean(doc_lens), np.median(doc_lens), np.std(doc_lens), np.max(doc_lens), np.min(doc_lens)"
      ],
      "execution_count": null,
      "outputs": []
    },
    {
      "cell_type": "code",
      "metadata": {
        "id": "6DGCJO_QcqLU",
        "colab": {
          "base_uri": "https://localhost:8080/"
        },
        "outputId": "3f00a6d9-eeb1-41d2-a1fc-873cabba480f"
      },
      "source": [
        "# sonnet line length statistics \n",
        "mean, med, std, max_, min_ = calc_stats(clean_sonnets)\n",
        "mean, med, std, max_, min_ "
      ],
      "execution_count": null,
      "outputs": [
        {
          "output_type": "execute_result",
          "data": {
            "text/plain": [
              "(40.883208255159474, 41.0, 4.040828151025878, 57, 27)"
            ]
          },
          "metadata": {},
          "execution_count": 19
        }
      ]
    },
    {
      "cell_type": "code",
      "metadata": {
        "deletable": false,
        "nbgrader": {
          "cell_type": "code",
          "checksum": "690957e46b6f2f32c1f17756d8ceab5b",
          "grade": false,
          "grade_id": "cell-35185e26897aad7e",
          "locked": false,
          "schema_version": 3,
          "solution": true,
          "task": false
        },
        "id": "WOCylsbLcqLU",
        "colab": {
          "base_uri": "https://localhost:8080/"
        },
        "outputId": "d7d4f15e-cd0f-4665-e03b-d81fd247a506"
      },
      "source": [
        "# from the results of the sonnet line length statistics, use your judgement to select a value for maxlen\n",
        "#   hint -- a good value might be half the median length of a sonnet line\n",
        "# use .create_char_sequences() to create sequences\n",
        "\n",
        "# YOUR CODE HERE\n",
        "maxlen = 40\n",
        "dctk.create_char_sequences(clean_sonnets, maxlen=maxlen)"
      ],
      "execution_count": null,
      "outputs": [
        {
          "output_type": "stream",
          "name": "stdout",
          "text": [
            "Created 17851 sequences.\n"
          ]
        }
      ]
    },
    {
      "cell_type": "markdown",
      "metadata": {
        "id": "1hutUpE9cqLV"
      },
      "source": [
        "Take a look at the `data_cleaning_toolkit_class.py` file. \n",
        "\n",
        "In the first 4 lines of code in the `create_char_sequences` method, class attributes `n_features` and `unique_chars` are created. <br>\n",
        "Let's call them in the cells below."
      ]
    },
    {
      "cell_type": "code",
      "metadata": {
        "id": "C8BNLJuhcqLV",
        "colab": {
          "base_uri": "https://localhost:8080/"
        },
        "outputId": "ce84b3b6-c8ff-4504-ddf7-8c66fb4afbca"
      },
      "source": [
        "# number of input features for our LSTM model\n",
        "dctk.n_features "
      ],
      "execution_count": null,
      "outputs": [
        {
          "output_type": "execute_result",
          "data": {
            "text/plain": [
              "27"
            ]
          },
          "metadata": {},
          "execution_count": 21
        }
      ]
    },
    {
      "cell_type": "code",
      "metadata": {
        "id": "uQrPRQy3cqLV",
        "colab": {
          "base_uri": "https://localhost:8080/"
        },
        "outputId": "149ded65-22e3-406d-c66b-4847a5b74b28"
      },
      "source": [
        "# unique characters that appear in our sonnets \n",
        "dctk.unique_chars"
      ],
      "execution_count": null,
      "outputs": [
        {
          "output_type": "execute_result",
          "data": {
            "text/plain": [
              "['q',\n",
              " 'm',\n",
              " 'h',\n",
              " 'k',\n",
              " 'n',\n",
              " 'p',\n",
              " 'x',\n",
              " ' ',\n",
              " 'o',\n",
              " 'r',\n",
              " 'c',\n",
              " 'z',\n",
              " 'b',\n",
              " 'f',\n",
              " 'u',\n",
              " 'e',\n",
              " 's',\n",
              " 'g',\n",
              " 'y',\n",
              " 'i',\n",
              " 'l',\n",
              " 't',\n",
              " 'v',\n",
              " 'w',\n",
              " 'j',\n",
              " 'd',\n",
              " 'a']"
            ]
          },
          "metadata": {},
          "execution_count": 22
        }
      ]
    },
    {
      "cell_type": "markdown",
      "metadata": {
        "id": "x5EaCiiBcqLV"
      },
      "source": [
        "## Time for Questions \n",
        "\n",
        "----\n",
        "**Question 1:** \n",
        "\n",
        "Why are the `number of unique characters` (i.e., **dctk.unique_chars**) and the `number of model input features` (i.e., **dctk.n_features**) the same?\n",
        "\n",
        "**Hint:** The model that we will shortly build here is very similar to the text generation model we built in the guided project."
      ]
    },
    {
      "cell_type": "markdown",
      "metadata": {
        "id": "n-ke3hsFcqLV"
      },
      "source": [
        "**Answer 1:**\n",
        "Our model is a classification model. When given a sequence of characters, it will predict what charecter should come next. so all the possible options are every unique charecter that shows up in the sonnets is a possible option. Therefore our model is a multi-class classification model that out puts a probability score (# using the Softmax activation function in the output layer) for each of the unique charecter that it can predict as the charecter that should show up next in the sonnet line.\n",
        "Number of unique charecters(i.e,dctk.unique_chars) and the number of model input features (i.e., dctk.n_features) are the same because all unique charecters are a possible outcome for our model to predict."
      ]
    },
    {
      "cell_type": "markdown",
      "metadata": {
        "id": "aPiNJ6FmcqLW"
      },
      "source": [
        "\n",
        "**Question 2:**\n",
        "\n",
        "Take a look at the printout of `dctk.unique_chars` one more time. Notice that there is a white space. \n",
        "\n",
        "Why is it desirable to have a white space as a possible character to predict?"
      ]
    },
    {
      "cell_type": "markdown",
      "metadata": {
        "id": "T1yVqEWZcqLW"
      },
      "source": [
        "**Answer 2:**\n",
        "The model will be given a sequence of charecters that make up a portion of a sonnet. It's task is to predict what charecters should come next order to sonnets of its own. In order for the model to be able to generate words, it needs to be able to include white spaces between non-white space charecters.\n"
      ]
    },
    {
      "cell_type": "markdown",
      "metadata": {
        "id": "pAwB6dLHcqLW"
      },
      "source": [
        "----"
      ]
    },
    {
      "cell_type": "markdown",
      "metadata": {
        "id": "xXZMkLckcqLW"
      },
      "source": [
        "### Use Our Data Tool to Create X and Y Splits\n",
        "\n",
        "You'll need the `create_X_and_Y` method for this task. "
      ]
    },
    {
      "cell_type": "code",
      "metadata": {
        "id": "JK-1GQzncqLW"
      },
      "source": [
        "# TODO: provide a walkthrough of data_cleaning_toolkit with unit tests that check for understanding \n",
        "X, y = dctk.create_X_and_Y()"
      ],
      "execution_count": null,
      "outputs": []
    },
    {
      "cell_type": "markdown",
      "metadata": {
        "id": "_gvcygSTcqLW"
      },
      "source": [
        "![](https://miro.medium.com/max/891/0*jGB1CGQ9HdeUwlgB)"
      ]
    },
    {
      "cell_type": "code",
      "metadata": {
        "id": "6xtDCd8wcqLW",
        "colab": {
          "base_uri": "https://localhost:8080/"
        },
        "outputId": "a4455af2-73a9-414b-f64e-0efd1fddf80c"
      },
      "source": [
        "# notice that our input array isn't a matrix - it's a rank three tensor\n",
        "X.shape"
      ],
      "execution_count": null,
      "outputs": [
        {
          "output_type": "execute_result",
          "data": {
            "text/plain": [
              "(17851, 40, 27)"
            ]
          },
          "metadata": {},
          "execution_count": 24
        }
      ]
    },
    {
      "cell_type": "markdown",
      "metadata": {
        "id": "T0_YHHQdcqLX"
      },
      "source": [
        "In $X$.shape, we see three numbers (*n1*, *n2*, *n3*). What do these numbers mean?\n",
        "\n",
        "Well, *n1* tells us the number of samples that we have. But what about the other two?"
      ]
    },
    {
      "cell_type": "code",
      "metadata": {
        "id": "jB-n6_P4cqLX",
        "colab": {
          "base_uri": "https://localhost:8080/"
        },
        "outputId": "af08f6bb-2cf4-40c4-c89a-60e7161435f7"
      },
      "source": [
        "# first index returns a signle sample, which we can see is a sequence \n",
        "first_sample_index = 0 \n",
        "X[first_sample_index]"
      ],
      "execution_count": null,
      "outputs": [
        {
          "output_type": "execute_result",
          "data": {
            "text/plain": [
              "array([[False, False, False, ..., False, False,  True],\n",
              "       [False, False, False, ..., False, False, False],\n",
              "       [False, False, False, ..., False,  True, False],\n",
              "       ...,\n",
              "       [False, False, False, ..., False, False, False],\n",
              "       [False, False, False, ..., False, False, False],\n",
              "       [False, False,  True, ..., False, False, False]])"
            ]
          },
          "metadata": {},
          "execution_count": 25
        }
      ]
    },
    {
      "cell_type": "markdown",
      "metadata": {
        "id": "A75Caji7cqLX"
      },
      "source": [
        "Notice that each sequence (i.e., $X[i]$ where $i$ is some index value) is `maxlen` long and <br>\n",
        "has a number of features equal to `dctk.n_features`. <br>Let's try to understand this shape."
      ]
    },
    {
      "cell_type": "code",
      "metadata": {
        "id": "Q1E8AFAIcqLX",
        "colab": {
          "base_uri": "https://localhost:8080/"
        },
        "outputId": "3c299ae6-0a78-4f11-8baf-eced5f36a168"
      },
      "source": [
        "# each sequence is maxlen long and has dctk.n_features number of features\n",
        "X[first_sample_index].shape"
      ],
      "execution_count": null,
      "outputs": [
        {
          "output_type": "execute_result",
          "data": {
            "text/plain": [
              "(40, 27)"
            ]
          },
          "metadata": {},
          "execution_count": 26
        }
      ]
    },
    {
      "cell_type": "markdown",
      "metadata": {
        "id": "iChccLKWcqLX"
      },
      "source": [
        "**Each row corresponds to a character vector,** and there is `maxlen` number of character vectors. \n",
        "\n",
        "**Each column corresponds to a unique character,** and there are `dctk.n_features` number of features. \n"
      ]
    },
    {
      "cell_type": "code",
      "metadata": {
        "id": "IbWKVpd5cqLX",
        "colab": {
          "base_uri": "https://localhost:8080/"
        },
        "outputId": "f6d6b8e4-d3a2-4fbc-a92b-3d0daff8b004"
      },
      "source": [
        "# let's index for a single character vector \n",
        "first_char_vect_index = 0\n",
        "X[first_sample_index][first_char_vect_index]"
      ],
      "execution_count": null,
      "outputs": [
        {
          "output_type": "execute_result",
          "data": {
            "text/plain": [
              "array([False, False, False, False, False, False, False, False, False,\n",
              "       False, False, False, False, False, False, False, False, False,\n",
              "       False, False, False, False, False, False, False, False,  True])"
            ]
          },
          "metadata": {},
          "execution_count": 27
        }
      ]
    },
    {
      "cell_type": "markdown",
      "metadata": {
        "id": "6cVGE3wtcqLX"
      },
      "source": [
        "Notice that there is a single `True` value, and all the rest of the values are `False`. \n",
        "\n",
        "This is a one-hot encoding for which character appears at each index within a sequence. Specifically, the cell above is looking at the first character in the sequence.\n",
        "\n",
        "Only a single character can appear as the first character in a sequence, so there will be a single `True` value, and the rest will be `False`. \n",
        "\n",
        "Let's say that `True` appears in the $ith$ index; by  $ith$ index we mean some index in the general case. So how can we find out which character corresponds to?\n",
        "\n",
        "To answer this question, we need to use the character-to-integer look-up dictionary. "
      ]
    },
    {
      "cell_type": "code",
      "metadata": {
        "id": "RJ8dIATxcqLX",
        "colab": {
          "base_uri": "https://localhost:8080/"
        },
        "outputId": "fcf2352e-7228-476f-e32e-3f01c281a129"
      },
      "source": [
        "# take a look at the index to character dictionary\n",
        "# if a TRUE appears in the 0th index of a character vector,\n",
        "# then we know that whatever char you see below next to the 0th key \n",
        "# is the character that character vector is endcoding for\n",
        "dctk.int_char"
      ],
      "execution_count": null,
      "outputs": [
        {
          "output_type": "execute_result",
          "data": {
            "text/plain": [
              "{0: 'q',\n",
              " 1: 'm',\n",
              " 2: 'h',\n",
              " 3: 'k',\n",
              " 4: 'n',\n",
              " 5: 'p',\n",
              " 6: 'x',\n",
              " 7: ' ',\n",
              " 8: 'o',\n",
              " 9: 'r',\n",
              " 10: 'c',\n",
              " 11: 'z',\n",
              " 12: 'b',\n",
              " 13: 'f',\n",
              " 14: 'u',\n",
              " 15: 'e',\n",
              " 16: 's',\n",
              " 17: 'g',\n",
              " 18: 'y',\n",
              " 19: 'i',\n",
              " 20: 'l',\n",
              " 21: 't',\n",
              " 22: 'v',\n",
              " 23: 'w',\n",
              " 24: 'j',\n",
              " 25: 'd',\n",
              " 26: 'a'}"
            ]
          },
          "metadata": {},
          "execution_count": 28
        }
      ]
    },
    {
      "cell_type": "code",
      "metadata": {
        "id": "lXy52FuHcqLY",
        "colab": {
          "base_uri": "https://localhost:8080/"
        },
        "outputId": "1e7f0df5-1720-4a27-f98f-9c9ef7d75a19"
      },
      "source": [
        "# let's look at an example to tie it all together\n",
        "\n",
        "seq_len_counter = 0\n",
        "\n",
        "# index for a single sample \n",
        "for seq_of_char_vects in X[first_sample_index]:\n",
        "    \n",
        "    # get index with max value, which will be the one TRUE value \n",
        "    index_with_TRUE_val = np.argmax(seq_of_char_vects)\n",
        "    \n",
        "    print (dctk.int_char[index_with_TRUE_val])\n",
        "    \n",
        "    seq_len_counter+=1\n",
        "    \n",
        "print (\"Sequence length: {}\".format(seq_len_counter))"
      ],
      "execution_count": null,
      "outputs": [
        {
          "output_type": "stream",
          "name": "stdout",
          "text": [
            "a\n",
            "n\n",
            "d\n",
            " \n",
            "o\n",
            "n\n",
            "l\n",
            "y\n",
            " \n",
            "h\n",
            "e\n",
            "r\n",
            "a\n",
            "l\n",
            "d\n",
            " \n",
            "t\n",
            "o\n",
            " \n",
            "t\n",
            "h\n",
            "e\n",
            " \n",
            "g\n",
            "a\n",
            "u\n",
            "d\n",
            "y\n",
            " \n",
            "s\n",
            "p\n",
            "r\n",
            "i\n",
            "n\n",
            "g\n",
            " \n",
            "w\n",
            "i\n",
            "t\n",
            "h\n",
            "Sequence length: 40\n"
          ]
        }
      ]
    },
    {
      "cell_type": "markdown",
      "metadata": {
        "id": "ufESNp0mcqLY"
      },
      "source": [
        "## Time for Questions \n",
        "\n",
        "----\n",
        "**Question 1:** \n",
        "\n",
        "In your own words, how would you describe the numbers from the shape printout of `X.shape` to a classmate?\n"
      ]
    },
    {
      "cell_type": "markdown",
      "metadata": {
        "id": "UfuBw3hHcqLY"
      },
      "source": [
        "**Answer 1:**\n",
        "\n",
        "X.shapeis a rank 3 tensor. Each of the numbers in this shape can be summerized as follows:\n",
        "X.shape = (num of seqs, len of seqs, num of features)\n",
        "num of seqs: number of sequence samples that we have created\n",
        "len of seqs: length of the sequences (i.e. number of charecters in sequence)\n",
        "num of features: number of features for our model to predict(i.e. number of unique charecters)"
      ]
    },
    {
      "cell_type": "markdown",
      "metadata": {
        "id": "F-H9jSq6cqLY"
      },
      "source": [
        "----\n"
      ]
    },
    {
      "cell_type": "markdown",
      "metadata": {
        "id": "N7Fo7tn5cqLY"
      },
      "source": [
        "### Build a Shakespeare Sonnet Text Generation Model\n",
        "\n",
        "Now that we have prepped our data (and understood that process), let's finally build out our character generation model, similar to what we did in the guided project.<br>\n",
        "\n",
        "First, we'll create a callback to monitor the training -- by printing a sample of text generated by the model at the end of each epoch."
      ]
    },
    {
      "cell_type": "markdown",
      "source": [
        "Helper function to generate a sample character:"
      ],
      "metadata": {
        "id": "kVc4tb1OSMMr"
      }
    },
    {
      "cell_type": "code",
      "metadata": {
        "id": "9Xgk-JomzwGX"
      },
      "source": [
        "def sample(preds, temperature=1.0):\n",
        "    \"\"\"\n",
        "    Helper function to generate a sample character\n",
        "    Input is a predictions vector from our model, for example a set of 27 character probabilities\n",
        "    Output is the index of the generated character \n",
        "    \"\"\"\n",
        "    # convert predictions to an array \n",
        "    preds = np.asarray(preds).astype('float64')\n",
        "\n",
        "    # use the temperature hyper-parameter to \"warp\" (sharpen or spread out) the probability distribution \n",
        "    preds = np.log(preds) / temperature\n",
        "\n",
        "    # use the softmax activation function to create a new list of probabilities \n",
        "    #   corresponding to the \"warped\" probability distribution\n",
        "    exp_preds = np.exp(preds)\n",
        "    preds = exp_preds / np.sum(exp_preds)\n",
        "\n",
        "    # Draw a single sample from a multinomial distribution, given these probabilities\n",
        "    #   The sample will be a one-hot encoded character\n",
        "    \"\"\" Notes on the np.random.multinomial() function \n",
        "       The first argument is the number of \"trials\" we want: 1 in this case\n",
        "       The second argument is the list of probabilities for each character\n",
        "       The third argument is number of sets of \"trials\" we want: again, 1 in this case\n",
        "       By analogy with a dice-rolling experiment: \n",
        "          This \"trial\" consists of generating a single \"throw\" of a die with 27 faces;\n",
        "             each face corresponds to a character and its associated probability\n",
        "    \"\"\"\n",
        "\n",
        "    probas = np.random.multinomial(1, preds, 1)\n",
        "    \n",
        "    # return the index that corresponds to the max probability \n",
        "    return np.argmax(probas)\n"
      ],
      "execution_count": null,
      "outputs": []
    },
    {
      "cell_type": "markdown",
      "metadata": {
        "id": "HPhu860ZEd3g"
      },
      "source": [
        "Create the `on_epoch_end` function to be passed into `LambdaCallback()`"
      ]
    },
    {
      "cell_type": "code",
      "metadata": {
        "id": "o9cBsweJcqLY"
      },
      "source": [
        "def on_epoch_end(epoch, _):\n",
        "    \"\"\"\"\n",
        "    Function invoked at the end of each epoch. Prints the text generated by our model.\n",
        "    \"\"\"\n",
        "    \n",
        "    print()\n",
        "    print('----- Generating text after Epoch: %d' % epoch)\n",
        "    \n",
        "\n",
        "    # randomly pick a starting index \n",
        "    # will be used to take a random sequence of chars from `text`\n",
        "    start_index = random.randint(0, len(text) - dctk.maxlen - 1)\n",
        "    \n",
        "    # this is our seed string (i.e. input seqeunece into the model)\n",
        "    generated = ''\n",
        "\n",
        "    # start the sentence at index `start_index` and include the next` dctk.maxlen` number of chars\n",
        "    sentence = text[start_index: start_index + dctk.maxlen]\n",
        "\n",
        "    # add to generated\n",
        "    generated += sentence\n",
        "\n",
        "    \n",
        "    print('----- Generating with seed: \"' + sentence + '\"')\n",
        "    sys.stdout.write(generated)\n",
        "    \n",
        "    # use model to predict what the next maxlen chars should be that follow the seed string\n",
        "    for i in range(maxlen):\n",
        "\n",
        "        # shape of a single sample in a rank 3 tensor \n",
        "        x_dims = (1, dctk.maxlen, dctk.n_features)\n",
        "        # create an array of zeros with shape x_dims\n",
        "        # recall that python considers zeros and boolean FALSE as the same\n",
        "        x_pred = np.zeros(x_dims)\n",
        "\n",
        "        # create a seq vector for our randomly select sequence \n",
        "        # i.e. create a numerical encoding for each char in the sequence \n",
        "        for t, char in enumerate(sentence):\n",
        "            # for sample 0 in seq index t and character `char` encode a 1 (which is the same as a TRUE)\n",
        "            x_pred[0, t, dctk.char_int[char]] = 1\n",
        "\n",
        "        # next, take the seq vector and pass into model to get a prediction of what the next char should be \n",
        "        preds = model.predict(x_pred, verbose=0)[0]\n",
        "        # use the sample helper function to get index for next char \n",
        "        next_index = sample(preds)\n",
        "        # use look up dict to get next char \n",
        "        next_char = dctk.int_char[next_index]\n",
        "\n",
        "        # append next char to sequence \n",
        "        sentence = sentence[1:] + next_char \n",
        "        \n",
        "        sys.stdout.write(next_char)\n",
        "        sys.stdout.flush()\n",
        "    print()"
      ],
      "execution_count": null,
      "outputs": []
    },
    {
      "cell_type": "code",
      "metadata": {
        "id": "s6xJijWAcqLZ",
        "colab": {
          "base_uri": "https://localhost:8080/"
        },
        "outputId": "03b90833-edd0-4bae-83c8-c1e73bef0071"
      },
      "source": [
        "# need this for on_epoch_end()\n",
        "text = \" \".join(clean_sonnets)\n",
        "print(f'All of Shakespeare\\'s sonnets comprise about {len(text)} characters')"
      ],
      "execution_count": null,
      "outputs": [
        {
          "output_type": "stream",
          "name": "stdout",
          "text": [
            "All of Shakespeare's sonnets comprise about 89294 characters\n"
          ]
        }
      ]
    },
    {
      "cell_type": "markdown",
      "source": [
        "Create the callback object"
      ],
      "metadata": {
        "id": "91FywCwoUzn0"
      }
    },
    {
      "cell_type": "code",
      "metadata": {
        "id": "TKDdNLhBcqLZ"
      },
      "source": [
        "# create callback object that will print out text generation at the end of each epoch \n",
        "# use for real-time monitoring of model performance\n",
        "print_callback = LambdaCallback(on_epoch_end=on_epoch_end)"
      ],
      "execution_count": null,
      "outputs": []
    },
    {
      "cell_type": "markdown",
      "metadata": {
        "id": "0Cq75YmTcqLZ"
      },
      "source": [
        "----\n",
        "### Build and Train Model\n",
        "\n",
        "Build a text generation model using LSTMs. Feel free to reference the model used in the guided project. \n",
        "\n",
        "It is recommended that you train this model to at least 50 epochs (but more if you're computer can handle it). \n",
        "\n",
        "You are free to change up the architecture as you wish. \n",
        "\n",
        "Just in case you have difficultly training a model, there is a pre-trained model saved to a file called `trained_text_gen_model.h5` that you can load (in the same way that you learned how to load in Keras models in Sprint 2 Module 4). "
      ]
    },
    {
      "cell_type": "code",
      "metadata": {
        "deletable": false,
        "nbgrader": {
          "cell_type": "code",
          "checksum": "e17312b57e17284124ce562dff81b00d",
          "grade": false,
          "grade_id": "cell-f34be90367fd9071",
          "locked": false,
          "schema_version": 3,
          "solution": true,
          "task": false
        },
        "id": "3JLmhL36cqLZ",
        "colab": {
          "base_uri": "https://localhost:8080/"
        },
        "outputId": "cc751b2b-f9a1-44a2-a54e-c64f28774684"
      },
      "source": [
        "# build text generation model layer by layer \n",
        "# fit model\n",
        "from tensorflow.keras.optimizers import Adam\n",
        "\n",
        "# YOUR CODE HERE\n",
        "#model for forcasting what text should follow from our seed string\n",
        "model = Sequential()\n",
        "#hidden layer 1\n",
        "model.add(LSTM(256, input_shape=(dctk.maxlen, dctk.n_features),\n",
        "               return_sequences=True, #set to true whenever using 2 or more layers\n",
        "               activation=\"relu\"))\n",
        "#hidden layer 2\n",
        "model.add(LSTM(128, activation=\"relu\"))\n",
        "#this is output layer\n",
        "#recall that n_features = num of nodes in ouput layer\n",
        "model.add(Dense(dctk.n_features,activation='softmax'))\n",
        "\n",
        "#compile model\n",
        "model.compile(loss='categorical_crossentropy',optimizer='adam')\n",
        "#fit the model\n",
        "model.fit(X, y,\n",
        "          batch_size=256,\n",
        "          epochs=50,\n",
        "          callbacks=[print_callback],\n",
        "          workers=10)"
      ],
      "execution_count": null,
      "outputs": [
        {
          "output_type": "stream",
          "name": "stdout",
          "text": [
            "WARNING:tensorflow:Layer lstm_2 will not use cuDNN kernels since it doesn't meet the criteria. It will use a generic GPU kernel as fallback when running on GPU.\n",
            "WARNING:tensorflow:Layer lstm_3 will not use cuDNN kernels since it doesn't meet the criteria. It will use a generic GPU kernel as fallback when running on GPU.\n",
            "Epoch 1/50\n",
            "70/70 [==============================] - ETA: 0s - loss: 3.2632\n",
            "----- Generating text after Epoch: 0\n",
            "----- Generating with seed: \"deformedst creature the mountain or the \"\n",
            "deformedst creature the mountain or the aofeh i  imnrkic dit   w epohui  uuwhthf\n",
            "70/70 [==============================] - 15s 153ms/step - loss: 3.2632\n",
            "Epoch 2/50\n",
            "70/70 [==============================] - ETA: 0s - loss: 2.8326\n",
            "----- Generating text after Epoch: 1\n",
            "----- Generating with seed: \"t did canopy the herd and summers green \"\n",
            "t did canopy the herd and summers green t ehoyeeebma udhhm ashod  scstnngr rneie\n",
            "70/70 [==============================] - 10s 147ms/step - loss: 2.8326\n",
            "Epoch 3/50\n",
            "70/70 [==============================] - ETA: 0s - loss: 2.8196\n",
            "----- Generating text after Epoch: 2\n",
            "----- Generating with seed: \"ender feeling to base touches prone nor \"\n",
            "ender feeling to base touches prone nor rtfuhi  thahowdadhucistt  sie eewtu cody\n",
            "70/70 [==============================] - 10s 150ms/step - loss: 2.8196\n",
            "Epoch 4/50\n",
            "70/70 [==============================] - ETA: 0s - loss: 2.8165\n",
            "----- Generating text after Epoch: 3\n",
            "----- Generating with seed: \"alse eyes dote what means the world to s\"\n",
            "alse eyes dote what means the world to sttnesoeal  ivi teein    s mnth  fleorhea\n",
            "70/70 [==============================] - 10s 149ms/step - loss: 2.8165\n",
            "Epoch 5/50\n",
            "70/70 [==============================] - ETA: 0s - loss: 2.8147\n",
            "----- Generating text after Epoch: 4\n",
            "----- Generating with seed: \"uld you to love things nothing worth tha\"\n",
            "uld you to love things nothing worth thavepuhtuht na  hiodpvi sdh   tptulshahbsn\n",
            "70/70 [==============================] - 11s 150ms/step - loss: 2.8147\n",
            "Epoch 6/50\n",
            "70/70 [==============================] - ETA: 0s - loss: 2.8110\n",
            "----- Generating text after Epoch: 5\n",
            "----- Generating with seed: \"the very birds are mute or if they sing \"\n",
            "the very birds are mute or if they sing idrnoosiusoaoofrlnei nhgnct attr culuowd\n",
            "70/70 [==============================] - 11s 151ms/step - loss: 2.8110\n",
            "Epoch 7/50\n",
            "70/70 [==============================] - ETA: 0s - loss: 2.8017\n",
            "----- Generating text after Epoch: 6\n",
            "----- Generating with seed: \"ocked treasure the which he will not eve\"\n",
            "ocked treasure the which he will not evermnp oa n eern  i eun  etar o e vdnd ot \n",
            "70/70 [==============================] - 10s 149ms/step - loss: 2.8017\n",
            "Epoch 8/50\n",
            "70/70 [==============================] - ETA: 0s - loss: 2.7275\n",
            "----- Generating text after Epoch: 7\n",
            "----- Generating with seed: \" quick objects hath the mind no part nor\"\n",
            " quick objects hath the mind no part norn antvt flh ouggfruyns r fadh ohf lt wle\n",
            "70/70 [==============================] - 11s 153ms/step - loss: 2.7275\n",
            "Epoch 9/50\n",
            "70/70 [==============================] - ETA: 0s - loss: 2.5855\n",
            "----- Generating text after Epoch: 8\n",
            "----- Generating with seed: \"eye doth dwell will play the tyrants to \"\n",
            "eye doth dwell will play the tyrants to bae oth asctor rogerse drg daawe knd slt\n",
            "70/70 [==============================] - 10s 147ms/step - loss: 2.5855\n",
            "Epoch 10/50\n",
            "70/70 [==============================] - ETA: 0s - loss: 2.4997\n",
            "----- Generating text after Epoch: 9\n",
            "----- Generating with seed: \"s and yours must ransom me tis better to\"\n",
            "s and yours must ransom me tis better tod ravos setp lat uew hh aiak gglrnanpdy \n",
            "70/70 [==============================] - 10s 148ms/step - loss: 2.4997\n",
            "Epoch 11/50\n",
            "70/70 [==============================] - ETA: 0s - loss: 2.3768\n",
            "----- Generating text after Epoch: 10\n",
            "----- Generating with seed: \" nothing novel nothing strange they are \"\n",
            " nothing novel nothing strange they are anici m tatne liiscan e hat il bbucofksd\n",
            "70/70 [==============================] - 10s 150ms/step - loss: 2.3768\n",
            "Epoch 12/50\n",
            "70/70 [==============================] - ETA: 0s - loss: 2.2532\n",
            "----- Generating text after Epoch: 11\n",
            "----- Generating with seed: \"of praise add something more but that is\"\n",
            "of praise add something more but that is wunrard wind lusevins ilinh cye und pnf\n",
            "70/70 [==============================] - 10s 147ms/step - loss: 2.2532\n",
            "Epoch 13/50\n",
            "70/70 [==============================] - ETA: 0s - loss: 2.1916\n",
            "----- Generating text after Epoch: 12\n",
            "----- Generating with seed: \"emptation follows where thou art gentle \"\n",
            "emptation follows where thou art gentle corg bottefr bethe ore biches ove tfeust\n",
            "70/70 [==============================] - 11s 150ms/step - loss: 2.1916\n",
            "Epoch 14/50\n",
            "70/70 [==============================] - ETA: 0s - loss: 2.1489\n",
            "----- Generating text after Epoch: 13\n",
            "----- Generating with seed: \" to pardon of selfdoing crime i am to wa\"\n",
            " to pardon of selfdoing crime i am to wal mine o ir a iu houscy whave thareur mo\n",
            "70/70 [==============================] - 10s 149ms/step - loss: 2.1489\n",
            "Epoch 15/50\n",
            "70/70 [==============================] - ETA: 0s - loss: 2.1054\n",
            "----- Generating text after Epoch: 14\n",
            "----- Generating with seed: \"n winged speed no motion shall i know th\"\n",
            "n winged speed no motion shall i know thoudd laveut the nesrtenunt tomy mound wo\n",
            "70/70 [==============================] - 11s 151ms/step - loss: 2.1054\n",
            "Epoch 16/50\n",
            "70/70 [==============================] - ETA: 0s - loss: 2.0489\n",
            "----- Generating text after Epoch: 15\n",
            "----- Generating with seed: \"y or i shall live your epitaph to make o\"\n",
            "y or i shall live your epitaph to make onyey thabe miatine ind thive so asy were\n",
            "70/70 [==============================] - 10s 148ms/step - loss: 2.0489\n",
            "Epoch 17/50\n",
            "70/70 [==============================] - ETA: 0s - loss: 2.0165\n",
            "----- Generating text after Epoch: 16\n",
            "----- Generating with seed: \"gments place in nothing art thou black s\"\n",
            "gments place in nothing art thou black store thit hrucd gengst so ghep deed hey \n",
            "70/70 [==============================] - 10s 148ms/step - loss: 2.0165\n",
            "Epoch 18/50\n",
            "70/70 [==============================] - ETA: 0s - loss: 1.9825\n",
            "----- Generating text after Epoch: 17\n",
            "----- Generating with seed: \"ll not be free for thou art covetous and\"\n",
            "ll not be free for thou art covetous and love reanvenke are a me the re faarn th\n",
            "70/70 [==============================] - 11s 151ms/step - loss: 1.9825\n",
            "Epoch 19/50\n",
            "70/70 [==============================] - ETA: 0s - loss: 1.9389\n",
            "----- Generating text after Epoch: 18\n",
            "----- Generating with seed: \" doth homage to his newappearing sight s\"\n",
            " doth homage to his newappearing sight shoudlusling thee ulfsicgathrunthighath m\n",
            "70/70 [==============================] - 10s 149ms/step - loss: 1.9389\n",
            "Epoch 20/50\n",
            "70/70 [==============================] - ETA: 0s - loss: 1.9119\n",
            "----- Generating text after Epoch: 19\n",
            "----- Generating with seed: \"true that better is by evil still made b\"\n",
            "true that better is by evil still made by hat viice af apy cevy jeielen miae heo\n",
            "70/70 [==============================] - 11s 151ms/step - loss: 1.9119\n",
            "Epoch 21/50\n",
            "70/70 [==============================] - ETA: 0s - loss: 1.8759\n",
            "----- Generating text after Epoch: 20\n",
            "----- Generating with seed: \"you when you look in it to me fair frien\"\n",
            "you when you look in it to me fair friens lof whe in rolater liell thou hongert \n",
            "70/70 [==============================] - 10s 148ms/step - loss: 1.8759\n",
            "Epoch 22/50\n",
            "70/70 [==============================] - ETA: 0s - loss: 1.8453\n",
            "----- Generating text after Epoch: 21\n",
            "----- Generating with seed: \"o decay which husbandry in honour might \"\n",
            "o decay which husbandry in honour might save frow des fite thoul who nuler as of\n",
            "70/70 [==============================] - 10s 148ms/step - loss: 1.8453\n",
            "Epoch 23/50\n",
            "70/70 [==============================] - ETA: 0s - loss: 1.8200\n",
            "----- Generating text after Epoch: 22\n",
            "----- Generating with seed: \"nd doom the mortal moon hath her eclipse\"\n",
            "nd doom the mortal moon hath her eclipseid sull thear ald hounquiade alow them a\n",
            "70/70 [==============================] - 10s 149ms/step - loss: 1.8200\n",
            "Epoch 24/50\n",
            "70/70 [==============================] - ETA: 0s - loss: 1.7874\n",
            "----- Generating text after Epoch: 23\n",
            "----- Generating with seed: \"move and i am still with them and they w\"\n",
            "move and i am still with them and they whel love thy fhat what tho sofres dessse\n",
            "70/70 [==============================] - 10s 149ms/step - loss: 1.7874\n",
            "Epoch 25/50\n",
            "70/70 [==============================] - ETA: 0s - loss: 1.7677\n",
            "----- Generating text after Epoch: 24\n",
            "----- Generating with seed: \"u when you look in it to me fair friend \"\n",
            "u when you look in it to me fair friend beodd on my freefrthom hath vering and t\n",
            "70/70 [==============================] - 10s 148ms/step - loss: 1.7677\n",
            "Epoch 26/50\n",
            "70/70 [==============================] - ETA: 0s - loss: 1.7529\n",
            "----- Generating text after Epoch: 25\n",
            "----- Generating with seed: \" unfatherd fruit for summer and his plea\"\n",
            " unfatherd fruit for summer and his please dy o eaben the segring beare dathens \n",
            "70/70 [==============================] - 11s 151ms/step - loss: 1.7529\n",
            "Epoch 27/50\n",
            "70/70 [==============================] - ETA: 0s - loss: 1.7144\n",
            "----- Generating text after Epoch: 26\n",
            "----- Generating with seed: \"n thee let him bring forth eternal numbe\"\n",
            "n thee let him bring forth eternal numbet weattord all love thear to be rechrse \n",
            "70/70 [==============================] - 10s 150ms/step - loss: 1.7144\n",
            "Epoch 28/50\n",
            "70/70 [==============================] - ETA: 0s - loss: 1.6929\n",
            "----- Generating text after Epoch: 27\n",
            "----- Generating with seed: \"shows me myself indeed beated and choppd\"\n",
            "shows me myself indeed beated and choppdence that measterigh beage muthsunghen g\n",
            "70/70 [==============================] - 10s 146ms/step - loss: 1.6929\n",
            "Epoch 29/50\n",
            "70/70 [==============================] - ETA: 0s - loss: 1.6680\n",
            "----- Generating text after Epoch: 28\n",
            "----- Generating with seed: \"immd in jollity and purest faith unhappi\"\n",
            "immd in jollity and purest faith unhappied me if me to ape me noth in that why l\n",
            "70/70 [==============================] - 10s 148ms/step - loss: 1.6680\n",
            "Epoch 30/50\n",
            "70/70 [==============================] - ETA: 0s - loss: 1.6433\n",
            "----- Generating text after Epoch: 29\n",
            "----- Generating with seed: \"till to thy sweet will making addition t\"\n",
            "till to thy sweet will making addition to my ave of gryes as ind cosenfe to geil\n",
            "70/70 [==============================] - 10s 150ms/step - loss: 1.6433\n",
            "Epoch 31/50\n",
            "70/70 [==============================] - ETA: 0s - loss: 1.6228\n",
            "----- Generating text after Epoch: 30\n",
            "----- Generating with seed: \"winters ragged hand deface in thee thy s\"\n",
            "winters ragged hand deface in thee thy sucowens siveloods a preeods comy head th\n",
            "70/70 [==============================] - 10s 148ms/step - loss: 1.6228\n",
            "Epoch 32/50\n",
            "70/70 [==============================] - ETA: 0s - loss: 1.5985\n",
            "----- Generating text after Epoch: 31\n",
            "----- Generating with seed: \"eaves spread but as the marigold at the \"\n",
            "eaves spread but as the marigold at the funely thou heilh wherey sue adad sherla\n",
            "70/70 [==============================] - 10s 149ms/step - loss: 1.5985\n",
            "Epoch 33/50\n",
            "70/70 [==============================] - ETA: 0s - loss: 1.5777\n",
            "----- Generating text after Epoch: 32\n",
            "----- Generating with seed: \" forsworn but thou art twice forsworn to\"\n",
            " forsworn but thou art twice forsworn tort and that in try eeden wheris om fance\n",
            "70/70 [==============================] - 10s 148ms/step - loss: 1.5777\n",
            "Epoch 34/50\n",
            "70/70 [==============================] - ETA: 0s - loss: 1.5398\n",
            "----- Generating text after Epoch: 33\n",
            "----- Generating with seed: \"e mark how with my neglect i do dispense\"\n",
            "e mark how with my neglect i do dispense my love being that you will lispy love \n",
            "70/70 [==============================] - 10s 149ms/step - loss: 1.5398\n",
            "Epoch 35/50\n",
            "70/70 [==============================] - ETA: 0s - loss: 1.5125\n",
            "----- Generating text after Epoch: 34\n",
            "----- Generating with seed: \"d keep invention in a noted weed that ev\"\n",
            "d keep invention in a noted weed that everying grow all whis ouring thas alladis\n",
            "70/70 [==============================] - 10s 150ms/step - loss: 1.5125\n",
            "Epoch 36/50\n",
            "70/70 [==============================] - ETA: 0s - loss: 1.4795\n",
            "----- Generating text after Epoch: 35\n",
            "----- Generating with seed: \"from me far off with others all too near\"\n",
            "from me far off with others all too nearse thentrecpolvest my sweet destimy as o\n",
            "70/70 [==============================] - 11s 150ms/step - loss: 1.4795\n",
            "Epoch 37/50\n",
            "70/70 [==============================] - ETA: 0s - loss: 1.4519\n",
            "----- Generating text after Epoch: 36\n",
            "----- Generating with seed: \"more to shame nor me nor you for i am sh\"\n",
            "more to shame nor me nor you for i am shall cotporsong do mes worms wonent prime\n",
            "70/70 [==============================] - 10s 149ms/step - loss: 1.4519\n",
            "Epoch 38/50\n",
            "70/70 [==============================] - ETA: 0s - loss: 1.4268\n",
            "----- Generating text after Epoch: 37\n",
            "----- Generating with seed: \" doom so till the judgment that yourself\"\n",
            " doom so till the judgment that yourself my seat a houlae as to goppard and tall\n",
            "70/70 [==============================] - 11s 151ms/step - loss: 1.4268\n",
            "Epoch 39/50\n",
            "70/70 [==============================] - ETA: 0s - loss: 1.3908\n",
            "----- Generating text after Epoch: 38\n",
            "----- Generating with seed: \" such heavenly touches neer touchd earth\"\n",
            " such heavenly touches neer touchd earth in whenemech whece me ind hi to that my\n",
            "70/70 [==============================] - 11s 151ms/step - loss: 1.3908\n",
            "Epoch 40/50\n",
            "70/70 [==============================] - ETA: 0s - loss: 1.3533\n",
            "----- Generating text after Epoch: 39\n",
            "----- Generating with seed: \"ew come daily to the banks that when the\"\n",
            "ew come daily to the banks that when thee whith mounnes you mere their will i su\n",
            "70/70 [==============================] - 10s 150ms/step - loss: 1.3533\n",
            "Epoch 41/50\n",
            "70/70 [==============================] - ETA: 0s - loss: 1.3245\n",
            "----- Generating text after Epoch: 40\n",
            "----- Generating with seed: \"me both to each friend i guess one angel\"\n",
            "me both to each friend i guess one angel helf she lafs home hore the lich frot y\n",
            "70/70 [==============================] - 10s 150ms/step - loss: 1.3245\n",
            "Epoch 42/50\n",
            "70/70 [==============================] - ETA: 0s - loss: 1.2863\n",
            "----- Generating text after Epoch: 41\n",
            "----- Generating with seed: \"ghtsfrom far where i abide intend a zeal\"\n",
            "ghtsfrom far where i abide intend a zeals heade fame braichwles the beart benger\n",
            "70/70 [==============================] - 11s 153ms/step - loss: 1.2863\n",
            "Epoch 43/50\n",
            "70/70 [==============================] - ETA: 0s - loss: 1.2659\n",
            "----- Generating text after Epoch: 42\n",
            "----- Generating with seed: \"s of the fairest wights and beauty makin\"\n",
            "s of the fairest wights and beauty makings his acranyer be thou in beauty weich \n",
            "70/70 [==============================] - 11s 151ms/step - loss: 1.2659\n",
            "Epoch 44/50\n",
            "70/70 [==============================] - ETA: 0s - loss: 1.2227\n",
            "----- Generating text after Epoch: 43\n",
            "----- Generating with seed: \"e than mine own desert and hang more pra\"\n",
            "e than mine own desert and hang more praan dreest nt anmers pounner dostand swee\n",
            "70/70 [==============================] - 10s 150ms/step - loss: 1.2227\n",
            "Epoch 45/50\n",
            "70/70 [==============================] - ETA: 0s - loss: 1.1766\n",
            "----- Generating text after Epoch: 44\n",
            "----- Generating with seed: \"f youth in every thing that heavy saturn\"\n",
            "f youth in every thing that heavy saturns for the wire of fer ruaus keaght my se\n",
            "70/70 [==============================] - 10s 150ms/step - loss: 1.1766\n",
            "Epoch 46/50\n",
            "70/70 [==============================] - ETA: 0s - loss: 1.1457\n",
            "----- Generating text after Epoch: 45\n",
            "----- Generating with seed: \"th more flowers i noted yet i none could\"\n",
            "th more flowers i noted yet i none could and fallyobs nin paking songerseging th\n",
            "70/70 [==============================] - 11s 152ms/step - loss: 1.1457\n",
            "Epoch 47/50\n",
            "70/70 [==============================] - ETA: 0s - loss: 1564463.8750\n",
            "----- Generating text after Epoch: 46\n",
            "----- Generating with seed: \"might that in black ink my love may stil\"\n",
            "might that in black ink my love may stilssss"
          ]
        },
        {
          "output_type": "stream",
          "name": "stderr",
          "text": [
            "/usr/local/lib/python3.7/dist-packages/ipykernel_launcher.py:11: RuntimeWarning: divide by zero encountered in log\n",
            "  # This is added back by InteractiveShellApp.init_path()\n"
          ]
        },
        {
          "output_type": "stream",
          "name": "stdout",
          "text": [
            "ssssssssssssssssssiirsssssssssssssss\n",
            "70/70 [==============================] - 10s 148ms/step - loss: 1564463.8750\n",
            "Epoch 48/50\n",
            "70/70 [==============================] - ETA: 0s - loss: 386590.0312\n",
            "----- Generating text after Epoch: 47\n",
            "----- Generating with seed: \" all thy beauty lies where all the treas\"\n",
            " all thy beauty lies where all the treaseee e e e     ee e e e e e  e  eee e ee \n",
            "70/70 [==============================] - 10s 148ms/step - loss: 386590.0312\n",
            "Epoch 49/50\n",
            "70/70 [==============================] - ETA: 0s - loss: 2876.8833\n",
            "----- Generating text after Epoch: 48\n",
            "----- Generating with seed: \"summer is less pleasant now than when he\"\n",
            "summer is less pleasant now than when hep  hologhehhhhe googhh  hehggghhehpe hhe\n",
            "70/70 [==============================] - 11s 152ms/step - loss: 2876.8833\n",
            "Epoch 50/50\n",
            "70/70 [==============================] - ETA: 0s - loss: 285.3362\n",
            "----- Generating text after Epoch: 49\n",
            "----- Generating with seed: \"eneral best thy love is better than high\"\n",
            "eneral best thy love is better than highheeee   ehhett tt iehhet hggnrgobkpkphel\n",
            "70/70 [==============================] - 11s 151ms/step - loss: 285.3362\n"
          ]
        },
        {
          "output_type": "execute_result",
          "data": {
            "text/plain": [
              "<keras.callbacks.History at 0x7fbc36647310>"
            ]
          },
          "metadata": {},
          "execution_count": 39
        }
      ]
    },
    {
      "cell_type": "markdown",
      "metadata": {
        "id": "94I0bGvfJQ0a"
      },
      "source": [
        "### Save the trained model to a file"
      ]
    },
    {
      "cell_type": "code",
      "metadata": {
        "id": "4amWje1ncqLZ"
      },
      "source": [
        "# save trained model to file \n",
        "model.save(\"trained_text_gen_model.h5\")"
      ],
      "execution_count": null,
      "outputs": []
    },
    {
      "cell_type": "markdown",
      "metadata": {
        "id": "xWWRV1VJcqLa"
      },
      "source": [
        "### Let's Play With Our Trained Model \n",
        "\n",
        "Now that we have a trained model that, though far from perfect, can generate actual English words, we can look at the predictions to continue learning more about how a text generation model works.\n",
        "\n",
        "We can also take this as an opportunity to unpack the `def on_epoch_end` function to understand better how it works. "
      ]
    },
    {
      "cell_type": "code",
      "metadata": {
        "id": "gktQ5JQqcqLa",
        "colab": {
          "base_uri": "https://localhost:8080/",
          "height": 160
        },
        "outputId": "d541cd72-ad45-400b-976b-a69bb7d800f3"
      },
      "source": [
        "# this is our joined clean sonnet data\n",
        "text"
      ],
      "execution_count": null,
      "outputs": [
        {
          "output_type": "execute_result",
          "data": {
            "text/plain": [
              "'and only herald to the gaudy spring within thine own bud buriest thy content and tender churl makst waste in niggarding pity the world or else this glutton be to eat the worlds due by the grave and thee when forty winters shall besiege thy brow and dig deep trenches in thy beautys field thy youths proud livery so gazed on now will be a tatterd weed of small worth held then being asked where all thy beauty lies where all the treasure of thy lusty days to say within thine own deep sunken eyes were an alleating shame and thriftless praise how much more praise deservd thy beautys use if thou couldst answer this fair child of mine shall sum my count and make my old excuse proving his beauty by succession thine this were to be new made when thou art old and see thy blood warm when thou feelst it cold look in thy glass and tell the face thou viewest now is the time that face should form another whose fresh repair if now thou not renewest thou dost beguile the world unbless some mother for where is she so fair whose uneard womb disdains the tillage of thy husbandry or who is he so fond will be the tomb of his selflove to stop posterity thou art thy mothers glass and she in thee calls back the lovely april of her prime so thou through windows of thine age shalt see despite of wrinkles this thy golden time but if thou live rememberd not to be die single and thine image dies with thee unthrifty loveliness why dost thou spend upon thy self thy beautys legacy natures bequest gives nothing but doth lend and being frank she lends to those are free then beauteous niggard why dost thou abuse the bounteous largess given thee to give profitless usurer why dost thou use so great a sum of sums yet canst not live for having traffic with thy self alone thou of thy self thy sweet self dost deceive then how when nature calls thee to be gone what acceptable audit canst thou leave thy unused beauty must be tombed with thee which used lives th executor to be those hours that with gentle work did frame the lovely gaze where every eye doth dwell will play the tyrants to the very same and that unfair which fairly doth excel for neverresting time leads summer on to hideous winter and confounds him there sap checked with frost and lusty leaves quite gone beauty oersnowed and bareness every where then were not summers distillation left a liquid prisoner pent in walls of glass beautys effect with beauty were bereft nor it nor no remembrance what it was but flowers distilld though they with winter meet leese but their show their substance still lives sweet then let not winters ragged hand deface in thee thy summer ere thou be distilld make sweet some vial treasure thou some place with beautys treasure ere it be selfkilld that use is not forbidden usury which happies those that pay the willing loan thats for thy self to breed another thee or ten times happier be it ten for one ten times thy self were happier than thou art if ten of thine ten times refigurd thee then what could death do if thou shouldst depart leaving thee living in posterity be not selfwilld for thou art much too fair to be deaths conquest and make worms thine heir lo in the orient when the gracious light lifts up his burning head each under eye doth homage to his newappearing sight serving with looks his sacred majesty and having climbd the steepup heavenly hill resembling strong youth in his middle age yet mortal looks adore his beauty still attending on his golden pilgrimage but when from highmost pitch with weary car like feeble age he reeleth from the day the eyes fore duteous now converted are from his low tract and look another way so thou thyself outgoing in thy noon unlookd on diest unless thou get a son music to hear why hearst thou music sadly sweets with sweets war not joy delights in joy why lovst thou that which thou receivst not gladly or else receivst with pleasure thine annoy if the true concord of welltuned sounds by unions married do offend thine ear they do but sweetly chide thee who confounds in singleness the parts that thou shouldst bear mark how one string sweet husband to another strikes each in each by mutual ordering resembling sire and child and happy mother who all in one one pleasing note do sing whose speechless song being many seeming one sings this to thee thou single wilt prove none is it for fear to wet a widows eye that thou consumst thy self in single life ah if thou issueless shalt hap to die the world will wail thee like a makeless wife the world will be thy widow and still weep that thou no form of thee hast left behind when every private widow well may keep by childrens eyes her husbands shape in mind look what an unthrift in the world doth spend shifts but his place for still the world enjoys it but beautys waste hath in the world an end and kept unused the user so destroys it no love toward others in that bosom sits that on himself such murdrous shame commits for shame deny that thou bearst love to any who for thy self art so unprovident grant if thou wilt thou art belovd of many but that thou none lovst is most evident for thou art so possessd with murderous hate that gainst thy self thou stickst not to conspire seeking that beauteous roof to ruinate which to repair should be thy chief desire o change thy thought that i may change my mind shall hate be fairer lodgd than gentle love be as thy presence is gracious and kind or to thyself at least kindhearted prove make thee another self for love of me that beauty still may live in thine or thee as fast as thou shalt wane so fast thou growst in one of thine from that which thou departest and that fresh blood which youngly thou bestowst thou mayst call thine when thou from youth convertest herein lives wisdom beauty and increase without this folly age and cold decay if all were minded so the times should cease and threescore year would make the world away let those whom nature hath not made for store harsh featureless and rude barrenly perish look whom she best endowd she gave thee more which bounteous gift thou shouldst in bounty cherish she carvd thee for her seal and meant thereby thou shouldst print more not let that copy die when i do count the clock that tells the time and see the brave day sunk in hideous night when i behold the violet past prime and sable curls all silvered oer with white when lofty trees i see barren of leaves which erst from heat did canopy the herd and summers green all girded up in sheaves borne on the bier with white and bristly beard then of thy beauty do i question make that thou among the wastes of time must go since sweets and beauties do themselves forsake and die as fast as they see others grow and nothing gainst times scythe can make defence save breed to brave him when he takes thee hence o that you were your self but love you are no longer yours than you your self here live against this coming end you should prepare and your sweet semblance to some other give so should that beauty which you hold in lease find no determination then you were yourself again after yourselfs decease when your sweet issue your sweet form should bear who lets so fair a house fall to decay which husbandry in honour might uphold against the stormy gusts of winters day and barren rage of deaths eternal cold o none but unthrifts dear my love you know you had a father let your son say so not from the stars do i my judgement pluck and yet methinks i have astronomy but not to tell of good or evil luck of plagues of dearths or seasons quality nor can i fortune to brief minutes tell pointing to each his thunder rain and wind or say with princes if it shall go well by oft predict that i in heaven find but from thine eyes my knowledge i derive and constant stars in them i read such art as truth and beauty shall together thrive if from thyself to store thou wouldst convert or else of thee this i prognosticate thy end is truths and beautys doom and date when i consider every thing that grows holds in perfection but a little moment that this huge stage presenteth nought but shows whereon the stars in secret influence comment when i perceive that men as plants increase cheered and checked even by the selfsame sky vaunt in their youthful sap at height decrease and wear their brave state out of memory then the conceit of this inconstant stay sets you most rich in youth before my sight where wasteful time debateth with decay to change your day of youth to sullied night and all in war with time for love of you as he takes from you i engraft you new but wherefore do not you a mightier way make war upon this bloody tyrant time and fortify your self in your decay with means more blessed than my barren rhyme now stand you on the top of happy hours and many maiden gardens yet unset with virtuous wish would bear you living flowers much liker than your painted counterfeit so should the lines of life that life repair which this times pencil or my pupil pen neither in inward worth nor outward fair can make you live your self in eyes of men to give away yourself keeps yourself still and you must live drawn by your own sweet skill who will believe my verse in time to come if it were filld with your most high deserts though yet heaven knows it is but as a tomb which hides your life and shows not half your parts if i could write the beauty of your eyes and in fresh numbers number all your graces the age to come would say this poet lies such heavenly touches neer touchd earthly faces so should my papers yellowd with their age be scornd like old men of less truth than tongue and your true rights be termd a poets rage and stretched metre of an antique song but were some child of yours alive that time you should live twicein it and in my rhyme shall i compare thee to a summers day thou art more lovely and more temperate rough winds do shake the darling buds of may and summers lease hath all too short a date sometime too hot the eye of heaven shines and often is his gold complexion dimmd and every fair from fair sometime declines by chance or natures changing course untrimmd but thy eternal summer shall not fade nor lose possession of that fair thou owst nor shall death brag thou wanderst in his shade when in eternal lines to time thou growst so long as men can breathe or eyes can see so long lives this and this gives life to thee devouring time blunt thou the lions paws and make the earth devour her own sweet brood pluck the keen teeth from the fierce tigers jaws and burn the longlivd phoenix in her blood make glad and sorry seasons as thou fleets and do whateer thou wilt swiftfooted time to the wide world and all her fading sweets but i forbid thee one most heinous crime o carve not with thy hours my loves fair brow nor draw no lines there with thine antique pen him in thy course untainted do allow for beautys pattern to succeeding men yet do thy worst old time despite thy wrong my love shall in my verse ever live young a womans face with natures own hand painted hast thou the master mistress of my passion a womans gentle heart but not acquainted with shifting change as is false womens fashion an eye more bright than theirs less false in rolling gilding the object whereupon it gazeth a man in hue all hues in his controlling which steals mens eyes and womens souls amazeth and for a woman wert thou first created till nature as she wrought thee fell adoting and by addition me of thee defeated by adding one thing to my purpose nothing but since she prickd thee out for womens pleasure mine be thy love and thy loves use their treasure so is it not with me as with that muse stirrd by a painted beauty to his verse who heaven itself for ornament doth use and every fair with his fair doth rehearse making a couplement of proud compare with sun and moon with earth and seas rich gems with aprils firstborn flowers and all things rare that heavens air in this huge rondure hems o let me true in love but truly write and then believe me my love is as fair as any mothers child though not so bright as those gold candles fixd in heavens air let them say more that like of hearsay well i will not praise that purpose not to sell my glass shall not persuade me i am old so long as youth and thou are of one date but when in thee times furrows i behold then look i death my days should expiate for all that beauty that doth cover thee is but the seemly raiment of my heart which in thy breast doth live as thine in me how can i then be elder than thou art o therefore love be of thyself so wary as i not for myself but for thee will bearing thy heart which i will keep so chary as tender nurse her babe from faring ill presume not on thy heart when mine is slain thou gavst me thine not to give back again as an unperfect actor on the stage who with his fear is put beside his part or some fierce thing replete with too much rage whose strengths abundance weakens his own heart so i for fear of trust forget to say the perfect ceremony of loves rite and in mine own loves strength seem to decay oerchargd with burthen of mine own loves might o let my looks be then the eloquence and dumb presagers of my speaking breast who plead for love and look for recompense more than that tongue that more hath more expressd o learn to read what silent love hath writ to hear with eyes belongs to loves fine wit mine eye hath playd the painter and hath stelld thy beautys form in table of my heart my body is the frame wherein tis held and perspective it is best painters art for through the painter must you see his skill to find where your true image picturd lies which in my bosoms shop is hanging still that hath his windows glazed with thine eyes now see what good turns eyes for eyes have done mine eyes have drawn thy shape and thine for me are windows to my breast wherethrough the sun delights to peep to gaze therein on thee yet eyes this cunning want to grace their art they draw but what they see know not the heart let those who are in favour with their stars of public honour and proud titles boast whilst i whom fortune of such triumph bars unlookd for joy in that i honour most great princes favourites their fair leaves spread but as the marigold at the suns eye and in themselves their pride lies buried for at a frown they in their glory die the painful warrior famoused for fight after a thousand victories once foild is from the book of honour razed quite and all the rest forgot for which he toild then happy i that love and am belovd where i may not remove nor be removd lord of my love to whom in vassalage thy merit hath my duty strongly knit to thee i send this written embassage to witness duty not to show my wit duty so great which wit so poor as mine may make seem bare in wanting words to show it but that i hope some good conceit of thine in thy souls thought all naked will bestow it till whatsoever star that guides my moving points on me graciously with fair aspect and puts apparel on my tatterd loving to show me worthy of thy sweet respect then may i dare to boast how i do love thee till then not show my head where thou mayst prove me weary with toil i haste me to my bed the dear respose for limbs with travel tird but then begins a journey in my head to work my mind when bodys works expired for then my thoughtsfrom far where i abide intend a zealous pilgrimage to thee and keep my drooping eyelids open wide looking on darkness which the blind do see save that my souls imaginary sight presents thy shadow to my sightless view which like a jewel hung in ghastly night makes black night beauteous and her old face new lo thus by day my limbs by night my mind for thee and for myself no quiet find how can i then return in happy plight that am debarred the benefit of rest when days oppression is not easd by night but day by night and night by day oppressd and each though enemies to eithers reign do in consent shake hands to torture me the one by toil the other to complain how far i toil still farther off from thee i tell the day to please him thou art bright and dost him grace when clouds do blot the heaven so flatter i the swartcomplexiond night when sparkling stars twire not thou gildst the even but day doth daily draw my sorrows longer and night doth nightly make griefs length seem stronger when in disgrace with fortune and mens eyes i all alone beweep my outcast state and trouble deaf heaven with my bootless cries and look upon myself and curse my fate wishing me like to one more rich in hope featurd like him like him with friends possessd desiring this mans art and that mans scope with what i most enjoy contented least yet in these thoughts my self almost despising haply i think on thee and then my state like to the lark at break of day arising from sullen earth sings hymns at heavens gate for thy sweet love rememberd such wealth brings that then i scorn to change my state with kings when to the sessions of sweet silent thought i summon up remembrance of things past i sigh the lack of many a thing i sought and with old woes new wail my dear times waste then can i drown an eye unused to flow for precious friends hid in deaths dateless night and weep afresh loves long since cancelld woe and moan the expense of many a vanishd sight then can i grieve at grievances foregone and heavily from woe to woe tell oer the sad account of forebemoaned moan which i new pay as if not paid before but if the while i think on thee dear friend all losses are restord and sorrows end thy bosom is endeared with all hearts which i by lacking have supposed dead and there reigns love and all loves loving parts and all those friends which i thought buried how many a holy and obsequious tear hath dear religious love stoln from mine eye as interest of the dead which now appear but things removd that hidden in thee lie thou art the grave where buried love doth live hung with the trophies of my lovers gone who all their parts of me to thee did give that due of many now is thine alone their images i lovd i view in thee and thouall theyhast all the all of me if thou survive my wellcontented day when that churl death my bones with dust shall cover and shalt by fortune once more resurvey these poor rude lines of thy deceased lover compare them with the bettring of the time and though they be outstrippd by every pen reserve them for my love not for their rhyme exceeded by the height of happier men o then vouchsafe me but this loving thought had my friends muse grown with this growing age a dearer birth than this his love had brought to march in ranks of better equipage but since he died and poets better prove theirs for their style ill read his for his love full many a glorious morning have i seen flatter the mountain tops with sovereign eye kissing with golden face the meadows green gilding pale streams with heavenly alchemy anon permit the basest clouds to ride with ugly rack on his celestial face and from the forlorn world his visage hide stealing unseen to west with this disgrace even so my sun one early morn did shine with all triumphant splendour on my brow but out alack he was but one hour mine the region cloud hath maskd him from me now yet him for this my love no whit disdaineth suns of the world may stain when heavens sun staineth why didst thou promise such a beauteous day and make me travel forth without my cloak to let base clouds oertake me in my way hiding thy bravery in their rotten smoke tis not enough that through the cloud thou break to dry the rain on my stormbeaten face for no man well of such a salve can speak that heals the wound and cures not the disgrace nor can thy shame give physic to my grief though thou repent yet i have still the loss the offenders sorrow lends but weak relief to him that bears the strong offences cross ah but those tears are pearl which thy love sheds and they are rich and ransom all ill deeds no more be grievd at that which thou hast done roses have thorns and silver fountains mud clouds and eclipses stain both moon and sun and loathsome canker lives in sweetest bud all men make faults and even i in this authorizing thy trespass with compare myself corrupting salving thy amiss excusing thy sins more than thy sins are for to thy sensual fault i bring in sense thy adverse party is thy advocate and gainst myself a lawful plea commence such civil war is in my love and hate that i an accessary needs must be to that sweet thief which sourly robs from me let me confess that we two must be twain although our undivided loves are one so shall those blots that do with me remain without thy help by me be borne alone in our two loves there is but one respect though in our lives a separable spite which though it alter not loves sole effect yet doth it steal sweet hours from loves delight i may not evermore acknowledge thee lest my bewailed guilt should do thee shame nor thou with public kindness honour me unless thou take that honour from thy name but do not so i love thee in such sort as thou being mine mine is thy good report as a decrepit father takes delight to see his active child do deeds of youth so i made lame by fortunes dearest spite take all my comfort of thy worth and truth for whether beauty birth or wealth or wit or any of these all or all or more entitled in thy parts do crowned sit i make my love engrafted to this store so then i am not lame poor nor despisd whilst that this shadow doth such substance give that i in thy abundance am sufficd and by a part of all thy glory live look what is best that best i wish in thee this wish i have then ten times happy me how can my muse want subject to invent while thou dost breathe that pourst into my verse thine own sweet argument too excellent for every vulgar paper to rehearse o give thy self the thanks if aught in me worthy perusal stand against thy sight for whos so dumb that cannot write to thee when thou thy self dost give invention light be thou the tenth muse ten times more in worth than those old nine which rhymers invocate and he that calls on thee let him bring forth eternal numbers to outlive long date if my slight muse do please these curious days the pain be mine but thine shall be the praise o how thy worth with manners may i sing when thou art all the better part of me what can mine own praise to mine own self bring and what ist but mine own when i praise thee even for this let us divided live and our dear love lose name of single one that by this separation i may give that due to thee which thou deservst alone o absence what a torment wouldst thou prove were it not thy sour leisure gave sweet leave to entertain the time with thoughts of love which time and thoughts so sweetly doth deceive and that thou teachest how to make one twain by praising him here who doth hence remain take all my loves my love yea take them all what hast thou then more than thou hadst before no love my love that thou mayst true love call all mine was thine before thou hadst this more then if for my love thou my love receivest i cannot blame thee for my love thou usest but yet be blamd if thou thy self deceivest by wilful taste of what thyself refusest i do forgive thy robbery gentle thief although thou steal thee all my poverty and yet love knows it is a greater grief to bear loves wrong than hates known injury lascivious grace in whom all ill well shows kill me with spites yet we must not be foes those pretty wrongs that liberty commits when i am sometime absent from thy heart thy beauty and thy years full well befits for still temptation follows where thou art gentle thou art and therefore to be won beauteous thou art therefore to be assaild and when a woman woos what womans son will sourly leave her till he have prevaild ay me but yet thou mightst my seat forbear and chide thy beauty and thy straying youth who lead thee in their riot even there where thou art forced to break a twofold truth hers by thy beauty tempting her to thee thine by thy beauty being false to me that thou hast her it is not all my grief and yet it may be said i loved her dearly that she hath thee is of my wailing chief a loss in love that touches me more nearly loving offenders thus i will excuse ye thou dost love her because thou knowst i love her and for my sake even so doth she abuse me suffering my friend for my sake to approve her if i lose thee my loss is my loves gain and losing her my friend hath found that loss both find each other and i lose both twain and both for my sake lay on me this cross but heres the joy my friend and i are one sweet flattery then she loves but me alone when most i wink then do mine eyes best see for all the day they view things unrespected but when i sleep in dreams they look on thee and darkly bright are bright in dark directed then thou whose shadow shadows doth make bright how would thy shadows form form happy show to the clear day with thy much clearer light when to unseeing eyes thy shade shines so how would i say mine eyes be blessed made by looking on thee in the living day when in dead night thy fair imperfect shade through heavy sleep on sightless eyes doth stay all days are nights to see till i see thee and nights bright days when dreams do show thee me if the dull substance of my flesh were thought injurious distance should not stop my way for then despite of space i would be brought from limits far remote where thou dost stay no matter then although my foot did stand upon the farthest earth removd from thee for nimble thought can jump both sea and land as soon as think the place where he would be but ah thought kills me that i am not thought to leap large lengths of miles when thou art gone but that so much of earth and water wrought i must attend times leisure with my moan receiving nought by elements so slow but heavy tears badges of eithers woe the other two slight air and purging fire are both with thee wherever i abide the first my thought the other my desire these presentabsent with swift motion slide for when these quicker elements are gone in tender embassy of love to thee my life being made of four with two alone sinks down to death oppressd with melancholy until lifes composition be recurd by those swift messengers returnd from thee who even but now come back again assurd of thy fair health recounting it to me this told i joy but then no longer glad i send them back again and straight grow sad mine eye and heart are at a mortal war how to divide the conquest of thy sight mine eye my heart thy pictures sight would bar my heart mine eye the freedom of that right my heart doth plead that thou in him dost lie a closet never piercd with crystal eyes but the defendant doth that plea deny and says in him thy fair appearance lies to side this title is impannelled a quest of thoughts all tenants to the heart and by their verdict is determined the clear eyes moiety and the dear hearts part as thus mine eyes due is thy outward part and my hearts right thy inward love of heart betwixt mine eye and heart a league is took and each doth good turns now unto the other when that mine eye is famishd for a look or heart in love with sighs himself doth smother with my loves picture then my eye doth feast and to the painted banquet bids my heart another time mine eye is my hearts guest and in his thoughts of love doth share a part so either by thy picture or my love thy self away art present still with me for thou not farther than my thoughts canst move and i am still with them and they with thee or if they sleep thy picture in my sight awakes my heart to hearts and eyes delight how careful was i when i took my way each trifle under truest bars to thrust that to my use it might unused stay from hands of falsehood in sure wards of trust but thou to whom my jewels trifles are most worthy comfort now my greatest grief thou best of dearest and mine only care art left the prey of every vulgar thief thee have i not lockd up in any chest save where thou art not though i feel thou art within the gentle closure of my breast from whence at pleasure thou mayst come and part and even thence thou wilt be stoln i fear for truth proves thievish for a prize so dear against that time if ever that time come when i shall see thee frown on my defects when as thy love hath cast his utmost sum calld to that audit by advisd respects against that time when thou shalt strangely pass and scarcely greet me with that sun thine eye when love converted from the thing it was shall reasons find of settled gravity against that time do i ensconce me here within the knowledge of mine own desert and this my hand against my self uprear to guard the lawful reasons on thy part to leave poor me thou hast the strength of laws since why to love i can allege no cause how heavy do i journey on the way when what i seek my weary travels end doth teach that ease and that repose to say thus far the miles are measured from thy friend the beast that bears me tired with my woe plods dully on to bear that weight in me as if by some instinct the wretch did know his rider lovd not speed being made from thee the bloody spur cannot provoke him on that sometimes anger thrusts into his hide which heavily he answers with a groan more sharp to me than spurring to his side for that same groan doth put this in my mind my grief lies onward and my joy behind thus can my love excuse the slow offence of my dull bearer when from thee i speed from where thou art why should i haste me thence till i return of posting is no need o what excuse will my poor beast then find when swift extremity can seem but slow then should i spur though mounted on the wind in winged speed no motion shall i know then can no horse with my desire keep pace therefore desire of perfectst love being made shall neighno dull fleshin his fiery race but love for love thus shall excuse my jade since from thee going he went wilfulslow towards thee ill run and give him leave to go so am i as the rich whose blessed key can bring him to his sweet uplocked treasure the which he will not every hour survey for blunting the fine point of seldom pleasure therefore are feasts so solemn and so rare since seldom coming in that long year set like stones of worth they thinly placed are or captain jewels in the carcanet so is the time that keeps you as my chest or as the wardrobe which the robe doth hide to make some special instant specialblest by new unfolding his imprisond pride blessed are you whose worthiness gives scope being had to triumph being lacked to hope what is your substance whereof are you made that millions of strange shadows on you tend since every one hath every one one shade and you but one can every shadow lend describe adonis and the counterfeit is poorly imitated after you on helens cheek all art of beauty set and you in grecian tires are painted new speak of the spring and foison of the year the one doth shadow of your beauty show the other as your bounty doth appear and you in every blessed shape we know in all external grace you have some part but you like none none you for constant heart o how much more doth beauty beauteous seem by that sweet ornament which truth doth give the rose looks fair but fairer we it deem for that sweet odour which doth in it live the canker blooms have full as deep a dye as the perfumed tincture of the roses hang on such thorns and play as wantonly when summers breath their masked buds discloses but for their virtue only is their show they live unwood and unrespected fade die to themselves sweet roses do not so of their sweet deaths are sweetest odours made and so of you beauteous and lovely youth when that shall vade by verse distills your truth not marble nor the gilded monuments of princes shall outlive this powerful rhyme but you shall shine more bright in these contents than unswept stone besmeard with sluttish time when wasteful war shall statues overturn and broils root out the work of masonry nor mars his sword nor wars quick fire shall burn the living record of your memory gainst death and alloblivious enmity shall you pace forth your praise shall still find room even in the eyes of all posterity that wear this world out to the ending doom so till the judgment that yourself arise you live in this and dwell in lovers eyes sweet love renew thy force be it not said thy edge should blunter be than appetite which but today by feeding is allayd tomorrow sharpened in his former might so love be thou although today thou fill thy hungry eyes even till they wink with fulness tomorrow see again and do not kill the spirit of love with a perpetual dulness let this sad interim like the ocean be which parts the shore where two contracted new come daily to the banks that when they see return of love more blest may be the view or call it winter which being full of care makes summers welcome thrice more wished more rare being your slave what should i do but tend upon the hours and times of your desire i have no precious time at all to spend nor services to do till you require nor dare i chide the worldwithoutend hour whilst i my sovereign watch the clock for you nor think the bitterness of absence sour when you have bid your servant once adieu nor dare i question with my jealous thought where you may be or your affairs suppose but like a sad slave stay and think of nought save where you are how happy you make those so true a fool is love that in your will though you do anything he thinks no ill that god forbid that made me first your slave i should in thought control your times of pleasure or at your hand the account of hours to crave being your vassal bound to stay your leisure o let me suffer being at your beck the imprisond absence of your liberty and patience tame to sufferance bide each check without accusing you of injury be where you list your charter is so strong that you yourself may privilage your time to what you will to you it doth belong yourself to pardon of selfdoing crime i am to wait though waiting so be hell not blame your pleasure be it ill or well if there be nothing new but that which is hath been before how are our brains beguild which labouring for invention bear amiss the second burthen of a former child o that record could with a backward look even of five hundred courses of the sun show me your image in some antique book since mind at first in character was done that i might see what the old world could say to this composed wonder of your frame whr we are mended or whr better they or whether revolution be the same o sure i am the wits of former days to subjects worse have given admiring praise like as the waves make towards the pebbled shore so do our minutes hasten to their end each changing place with that which goes before in sequent toil all forwards do contend nativity once in the main of light crawls to maturity wherewith being crownd crooked eclipses gainst his glory fight and time that gave doth now his gift confound time doth transfix the flourish set on youth and delves the parallels in beautys brow feeds on the rarities of natures truth and nothing stands but for his scythe to mow and yet to times in hope my verse shall stand praising thy worth despite his cruel hand is it thy will thy image should keep open my heavy eyelids to the weary night dost thou desire my slumbers should be broken while shadows like to thee do mock my sight is it thy spirit that thou sendst from thee so far from home into my deeds to pry to find out shames and idle hours in me the scope and tenure of thy jealousy o no thy love though much is not so great it is my love that keeps mine eye awake mine own true love that doth my rest defeat to play the watchman ever for thy sake for thee watch i whilst thou dost wake elsewhere from me far off with others all too near sin of selflove possesseth all mine eye and all my soul and all my every part and for this sin there is no remedy it is so grounded inward in my heart methinks no face so gracious is as mine no shape so true no truth of such account and for myself mine own worth do define as i all other in all worths surmount but when my glass shows me myself indeed beated and choppd with tanned antiquity mine own selflove quite contrary i read self so selfloving were iniquity tis theemyselfthat for myself i praise painting my age with beauty of thy days against my love shall be as i am now with times injurious hand crushd and oerworn when hours have draind his blood and filld his brow with lines and wrinkles when his youthful morn hath travelld on to ages steepy night and all those beauties whereof now hes king are vanishing or vanished out of sight stealing away the treasure of his spring for such a time do i now fortify against confounding ages cruel knife that he shall never cut from memory my sweet loves beauty though my lovers life his beauty shall in these black lines be seen and they shall live and he in them still green when i have seen by times fell hand defacd the richproud cost of outworn buried age when sometime lofty towers i see downrazd and brass eternal slave to mortal rage when i have seen the hungry ocean gain advantage on the kingdom of the shore and the firm soil win of the watery main increasing store with loss and loss with store when i have seen such interchange of state or state itself confounded to decay ruin hath taught me thus to ruminate that time will come and take my love away this thought is as a death which cannot choose but weep to have that which it fears to lose since brass nor stone nor earth nor boundless sea but sad mortality oersways their power how with this rage shall beauty hold a plea whose action is no stronger than a flower o how shall summers honey breath hold out against the wrackful siege of battering days when rocks impregnable are not so stout nor gates of steel so strong but time decays o fearful meditation where alack shall times best jewel from times chest lie hid or what strong hand can hold his swift foot back or who his spoil of beauty can forbid o none unless this miracle have might that in black ink my love may still shine bright tired with all these for restful death i cry as to behold desert a beggar born and needy nothing trimmd in jollity and purest faith unhappily forsworn and gilded honour shamefully misplacd and maiden virtue rudely strumpeted and right perfection wrongfully disgracd and strength by limping sway disabled and art made tonguetied by authority and follydoctorlikecontrolling skill and simple truth miscalld simplicity and captive good attending captain ill tird with all these from these would i be gone save that to die i leave my love alone ah wherefore with infection should he live and with his presence grace impiety that sin by him advantage should achieve and lace itself with his society why should false painting imitate his cheek and steel dead seeming of his living hue why should poor beauty indirectly seek roses of shadow since his rose is true why should he live now nature bankrupt is beggard of blood to blush through lively veins for she hath no exchequer now but his and proud of many lives upon his gains o him she stores to show what wealth she had in days long since before these last so bad thus is his cheek the map of days outworn when beauty lived and died as flowers do now before these bastard signs of fair were born or durst inhabit on a living brow before the golden tresses of the dead the right of sepulchres were shorn away to live a second life on second head ere beautys dead fleece made another gay in him those holy antique hours are seen without all ornament itself and true making no summer of anothers green robbing no old to dress his beauty new and him as for a map doth nature store to show false art what beauty was of yore those parts of thee that the worlds eye doth view want nothing that the thought of hearts can mend all tonguesthe voice of soulsgive thee that due uttering bare truth even so as foes commend thy outward thus with outward praise is crownd but those same tongues that give thee so thine own in other accents do this praise confound by seeing farther than the eye hath shown they look into the beauty of thy mind and that in guess they measure by thy deeds thenchurlstheir thoughts although their eyes were kind to thy fair flower add the rank smell of weeds but why thy odour matcheth not thy show the soil is this that thou dost common grow that thou art blamd shall not be thy defect for slanders mark was ever yet the fair the ornament of beauty is suspect a crow that flies in heavens sweetest air so thou be good slander doth but approve thy worth the greater being wood of time for canker vice the sweetest buds doth love and thou presentst a pure unstained prime thou hast passed by the ambush of young days either not assaild or victor being chargd yet this thy praise cannot be so thy praise to tie up envy evermore enlargd if some suspect of ill maskd not thy show then thou alone kingdoms of hearts shouldst owe no longer mourn for me when i am dead than you shall hear the surly sullen bell give warning to the world that i am fled from this vile world with vilest worms to dwell nay if you read this line remember not the hand that writ it for i love you so that i in your sweet thoughts would be forgot if thinking on me then should make you woe o ifi say you look upon this verse when i perhaps compounded am with clay do not so much as my poor name rehearse but let your love even with my life decay lest the wise world should look into your moan and mock you with me after i am gone o lest the world should task you to recite what merit lived in me that you should love after my deathdear love forget me quite for you in me can nothing worthy prove unless you would devise some virtuous lie to do more for me than mine own desert and hang more praise upon deceased i than niggard truth would willingly impart o lest your true love may seem false in this that you for love speak well of me untrue my name be buried where my body is and live no more to shame nor me nor you for i am shamed by that which i bring forth and so should you to love things nothing worth that time of year thou mayst in me behold when yellow leaves or none or few do hang upon those boughs which shake against the cold bare ruind choirs where late the sweet birds sang in me thou seest the twilight of such day as after sunset fadeth in the west which by and by black night doth take away deaths second self that seals up all in rest in me thou seest the glowing of such fire that on the ashes of his youth doth lie as the deathbed whereon it must expire consumd with that which it was nourishd by this thou perceivst which makes thy love more strong to love that well which thou must leave ere long but be contented when that fell arrest without all bail shall carry me away my life hath in this line some interest which for memorial still with thee shall stay when thou reviewest this thou dost review the very part was consecrate to thee the earth can have but earth which is his due my spirit is thine the better part of me so then thou hast but lost the dregs of life the prey of worms my body being dead the coward conquest of a wretchs knife too base of thee to be remembered the worth of that is that which it contains and that is this and this with thee remains so are you to my thoughts as food to life or as sweetseasond showers are to the ground and for the peace of you i hold such strife as twixt a miser and his wealth is found now proud as an enjoyer and anon doubting the filching age will steal his treasure now counting best to be with you alone then betterd that the world may see my pleasure sometime all full with feasting on your sight and by and by clean starved for a look possessing or pursuing no delight save what is had or must from you be took thus do i pine and surfeit day by day or gluttoning on all or all away why is my verse so barren of new pride so far from variation or quick change why with the time do i not glance aside to newfound methods and to compounds strange why write i still all one ever the same and keep invention in a noted weed that every word doth almost tell my name showing their birth and where they did proceed o know sweet love i always write of you and you and love are still my argument so all my best is dressing old words new spending again what is already spent for as the sun is daily new and old so is my love still telling what is told thy glass will show thee how thy beauties wear thy dial how thy precious minutes waste these vacant leaves thy minds imprint will bear and of this book this learning mayst thou taste the wrinkles which thy glass will truly show of mouthed graves will give thee memory thou by thy dials shady stealth mayst know times thievish progress to eternity look what thy memory cannot contain commit to these waste blanks and thou shalt find those children nursed deliverd from thy brain to take a new acquaintance of thy mind these offices so oft as thou wilt look shall profit thee and much enrich thy book so oft have i invoked thee for my muse and found such fair assistance in my verse as every alien pen hath got my use and under thee their poesy disperse thine eyes that taught the dumb on high to sing and heavy ignorance aloft to fly have added feathers to the learneds wing and given grace a double majesty yet be most proud of that which i compile whose influence is thine and born of thee in others works thou dost but mend the style and arts with thy sweet graces graced be but thou art all my art and dost advance as high as learning my rude ignorance whilst i alone did call upon thy aid my verse alone had all thy gentle grace but now my gracious numbers are decayd and my sick muse doth give an other place i grant sweet love thy lovely argument deserves the travail of a worthier pen yet what of thee thy poet doth invent he robs thee of and pays it thee again he lends thee virtue and he stole that word from thy behaviour beauty doth he give and found it in thy cheek he can afford no praise to thee but what in thee doth live then thank him not for that which he doth say since what he owes thee thou thyself dost pay o how i faint when i of you do write knowing a better spirit doth use your name and in the praise thereof spends all his might to make me tonguetied speaking of your fame but since your worthwide as the ocean is the humble as the proudest sail doth bear my saucy bark inferior far to his on your broad main doth wilfully appear your shallowest help will hold me up afloat whilst he upon your soundless deep doth ride or being wrackd i am a worthless boat he of tall building and of goodly pride then if he thrive and i be cast away the worst was thismy love was my decay or i shall live your epitaph to make or you survive when i in earth am rotten from hence your memory death cannot take although in me each part will be forgotten your name from hence immortal life shall have though i once gone to all the world must die the earth can yield me but a common grave when you entombed in mens eyes shall lie your monument shall be my gentle verse which eyes not yet created shall oerread and tongues to be your being shall rehearse when all the breathers of this world are dead you still shall livesuch virtue hath my pen where breath most breathes even in the mouths of men i grant thou wert not married to my muse and therefore mayst without attaint oerlook the dedicated words which writers use of their fair subject blessing every book thou art as fair in knowledge as in hue finding thy worth a limit past my praise and therefore art enforced to seek anew some fresher stamp of the timebettering days and do so love yet when they have devisd what strained touches rhetoric can lend thou truly fair wert truly sympathizd in true plain words by thy truetelling friend and their gross painting might be better usd where cheeks need blood in thee it is abusd i never saw that you did painting need and therefore to your fair no painting set i found or thought i found you did exceed that barren tender of a poets debt and therefore have i slept in your report that you yourself being extant well might show how far a modern quill doth come too short speaking of worth what worth in you doth grow this silence for my sin you did impute which shall be most my glory being dumb for i impair not beauty being mute when others would give life and bring a tomb there lives more life in one of your fair eyes than both your poets can in praise devise who is it that says most which can say more than this rich praisethat you alone are you in whose confine immured is the store which should example where your equal grew lean penury within that pen doth dwell that to his subject lends not some small glory but he that writes of you if he can tell that you are you so dignifies his story let him but copy what in you is writ not making worse what nature made so clear and such a counterpart shall fame his wit making his style admired every where you to your beauteous blessings add a curse being fond on praise which makes your praises worse my tonguetied muse in manners holds her still while comments of your praise richly compild reserve their character with golden quill and precious phrase by all the muses fild i think good thoughts whilst others write good words and like unlettered clerk still cry amen to every hymn that able spirit affords in polishd form of wellrefined pen hearing you praised i say tis so tis true and to the most of praise add something more but that is in my thought whose love to you though words come hindmost holds his rank before then others for the breath of words respect me for my dumb thoughts speaking in effect was it the proud full sail of his great verse bound for the prize of all too precious you that did my ripe thoughts in my brain inhearse making their tomb the womb wherein they grew was it his spirit by spirits taught to write above a mortal pitch that struck me dead no neither he nor his compeers by night giving him aid my verse astonished he nor that affable familiar ghost which nightly gulls him with intelligence as victors of my silence cannot boast i was not sick of any fear from thence but when your countenance filld up his line then lacked i matter that enfeebled mine farewell thou art too dear for my possessing and like enough thou knowst thy estimate the charter of thy worth gives thee releasing my bonds in thee are all determinate for how do i hold thee but by thy granting and for that riches where is my deserving the cause of this fair gift in me is wanting and so my patent back again is swerving thy self thou gavst thy own worth then not knowing or me to whom thou gavst it else mistaking so thy great gift upon misprision growing comes home again on better judgement making thus have i had thee as a dream doth flatter in sleep a king but waking no such matter when thou shalt be disposd to set me light and place my merit in the eye of scorn upon thy side against myself ill fight and prove thee virtuous though thou art forsworn with mine own weakness being best acquainted upon thy part i can set down a story of faults conceald wherein i am attainted that thou in losing me shalt win much glory and i by this will be a gainer too for bending all my loving thoughts on thee the injuries that to myself i do doing thee vantage doublevantage me such is my love to thee i so belong that for thy right myself will bear all wrong say that thou didst forsake me for some fault and i will comment upon that offence speak of my lameness and i straight will halt against thy reasons making no defence thou canst not love disgrace me half so ill to set a form upon desired change as ill myself disgrace knowing thy will i will acquaintance strangle and look strange be absent from thy walks and in my tongue thy sweet beloved name no more shall dwell lest i too much profane should do it wrong and haply of our old acquaintance tell for thee against my self ill vow debate for i must neer love him whom thou dost hate then hate me when thou wilt if ever now now while the world is bent my deeds to cross join with the spite of fortune make me bow and do not drop in for an afterloss ah do not when my heart hath scapd this sorrow come in the rearward of a conquerd woe give not a windy night a rainy morrow to linger out a purposd overthrow if thou wilt leave me do not leave me last when other petty griefs have done their spite but in the onset come so shall i taste at first the very worst of fortunes might and other strains of woe which now seem woe compard with loss of thee will not seem so some glory in their birth some in their skill some in their wealth some in their bodys force some in their garments though newfangled ill some in their hawks and hounds some in their horse and every humour hath his adjunct pleasure wherein it finds a joy above the rest but these particulars are not my measure all these i better in one general best thy love is better than high birth to me richer than wealth prouder than garments costs of more delight than hawks and horses be and having thee of all mens pride i boast wretched in this alone that thou mayst take all this away and me most wretchcd make but do thy worst to steal thyself away for term of life thou art assured mine and life no longer than thy love will stay for it depends upon that love of thine then need i not to fear the worst of wrongs when in the least of them my life hath end i see a better state to me belongs than that which on thy humour doth depend thou canst not vex me with inconstant mind since that my life on thy revolt doth lie o what a happy title do i find happy to have thy love happy to die but whats so blessedfair that fears no blot thou mayst be false and yet i know it not so shall i live supposing thou art true like a deceived husband so loves face may still seem love to me though alterd new thy looks with me thy heart in other place for there can live no hatred in thine eye therefore in that i cannot know thy change in manys looks the false hearts history is writ in moods and frowns and wrinkles strange but heaven in thy creation did decree that in thy face sweet love should ever dwell whateer thy thoughts or thy hearts workings be thy looks should nothing thence but sweetness tell how like eves apple doth thy beauty grow if thy sweet virtue answer not thy show they that have power to hurt and will do none that do not do the thing they most do show who moving others are themselves as stone unmoved cold and to temptation slow they rightly do inherit heavens graces and husband natures riches from expense they are the lords and owners of their faces others but stewards of their excellence the summers flower is to the summer sweet though to itself it only live and die but if that flower with base infection meet the basest weed outbraves his dignity for sweetest things turn sourest by their deeds lilies that fester smell far worse than weeds how sweet and lovely dost thou make the shame which like a canker in the fragrant rose doth spot the beauty of thy budding name o in what sweets dost thou thy sins enclose that tongue that tells the story of thy days making lascivious comments on thy sport cannot dispraise but in a kind of praise naming thy name blesses an ill report o what a mansion have those vices got which for their habitation chose out thee where beautys veil doth cover every blot and all things turns to fair that eyes can see take heed dear heart of this large privilege the hardest knife illusd doth lose his edge some say thy fault is youth some wantonness some say thy grace is youth and gentle sport both grace and faults are lovd of more and less thou makst faults graces that to thee resort as on the finger of a throned queen the basest jewel will be well esteemd so are those errors that in thee are seen to truths translated and for true things deemd how many lambs might the stern wolf betray if like a lamb he could his looks translate how many gazers mightst thou lead away if thou wouldst use the strength of all thy state but do not so i love thee in such sort as thou being mine mine is thy good report how like a winter hath my absence been from thee the pleasure of the fleeting year what freezings have i felt what dark days seen what old decembers bareness everywhere and yet this time removed was summers time the teeming autumn big with rich increase bearing the wanton burden of the prime like widowd wombs after their lords decease yet this abundant issue seemd to me but hope of orphans and unfatherd fruit for summer and his pleasures wait on thee and thou away the very birds are mute or if they sing tis with so dull a cheer that leaves look pale dreading the winters near from you have i been absent in the spring when proudpied april dressd in all his trim hath put a spirit of youth in every thing that heavy saturn laughd and leapd with him yet nor the lays of birds nor the sweet smell of different flowers in odour and in hue could make me any summers story tell or from their proud lap pluck them where they grew nor did i wonder at the lilys white nor praise the deep vermilion in the rose they were but sweet but figures of delight drawn after you you pattern of all those yet seemd it winter still and you away as with your shadow i with these did play the forward violet thus did i chide sweet thief whence didst thou steal thy sweet that smells if not from my loves breath the purple pride which on thy soft cheek for complexion dwells in my loves veins thou hast too grossly dyd the lily i condemned for thy hand and buds of marjoram had stoln thy hair the roses fearfully on thorns did stand one blushing shame another white despair a third nor red nor white had stoln of both and to his robbery had annexd thy breath but for his theft in pride of all his growth a vengeful canker eat him up to death more flowers i noted yet i none could see but sweet or colour it had stoln from thee where art thou muse that thou forgetst so long to speak of that which gives thee all thy might spendst thou thy fury on some worthless song darkening thy power to lend base subjects light return forgetful muse and straight redeem in gentle numbers time so idly spent sing to the ear that doth thy lays esteem and gives thy pen both skill and argument rise resty muse my loves sweet face survey if time have any wrinkle graven there if any be a satire to decay and make times spoils despised every where give my love fame faster than time wastes life so thou preventst his scythe and crooked knife o truant muse what shall be thy amends for thy neglect of truth in beauty dyd both truth and beauty on my love depends so dost thou too and therein dignified make answer muse wilt thou not haply say truth needs no colour with his colour fixd beauty no pencil beautys truth to lay but best is best if never intermixd because he needs no praise wilt thou be dumb excuse not silence so fort lies in thee to make him much outlive a gilded tomb and to be praisd of ages yet to be then do thy office muse i teach thee how to make him seem long hence as he shows now my love is strengthend though more weak in seeming i love not less though less the show appear that love is merchandizd whose rich esteeming the owners tongue doth publish every where our love was new and then but in the spring when i was wont to greet it with my lays as philomel in summers front doth sing and stops her pipe in growth of riper days not that the summer is less pleasant now than when her mournful hymns did hush the night but that wild music burthens every bough and sweets grown common lose their dear delight therefore like her i sometime hold my tongue because i would not dull you with my song alack what poverty my muse brings forth that having such a scope to show her pride the argument all bare is of more worth than when it hath my added praise beside o blame me not if i no more can write look in your glass and there appears a face that overgoes my blunt invention quite dulling my lines and doing me disgrace were it not sinful then striving to mend to mar the subject that before was well for to no other pass my verses tend than of your graces and your gifts to tell and more much more than in my verse can sit your own glass shows you when you look in it to me fair friend you never can be old for as you were when first your eye i eyd such seems your beauty still three winters cold have from the forests shook three summers pride three beauteous springs to yellow autumn turnd in process of the seasons have i seen three april perfumes in three hot junes burnd since first i saw you fresh which yet are green ah yet doth beauty like a dialhand steal from his figure and no pace perceivd so your sweet hue which methinks still doth stand hath motion and mine eye may be deceivd for fear of which hear this thou age unbred ere you were born was beautys summer dead let not my love be calld idolatry nor my beloved as an idol show since all alike my songs and praises be to one of one still such and ever so kind is my love today tomorrow kind still constant in a wondrous excellence therefore my verse to constancy confind one thing expressing leaves out difference fair kind and true is all my argument fair kind and true varying to other words and in this change is my invention spent three themes in one which wondrous scope affords fair kind and true have often livd alone which three till now never kept seat in one when in the chronicle of wasted time i see descriptions of the fairest wights and beauty making beautiful old rime in praise of ladies dead and lovely knights then in the blazon of sweet beautys best of hand of foot of lip of eye of brow i see their antique pen would have expressd even such a beauty as you master now so all their praises are but prophecies of this our time all you prefiguring and for they looked but with divining eyes they had not skill enough your worth to sing for we which now behold these present days have eyes to wonder but lack tongues to praise not mine own fears nor the prophetic soul of the wide world dreaming on things to come can yet the lease of my true love control supposed as forfeit to a confind doom the mortal moon hath her eclipse endurd and the sad augurs mock their own presage incertainties now crown themselves assurd and peace proclaims olives of endless age now with the drops of this most balmy time my love looks fresh and death to me subscribes since spite of him ill live in this poor rime while he insults oer dull and speechless tribes and thou in this shalt find thy monument when tyrants crests and tombs of brass are spent whats in the brain that ink may character which hath not figurd to thee my true spirit whats new to speak what now to register that may express my love or thy dear merit nothing sweet boy but yet like prayers divine i must each day say oer the very same counting no old thing old thou mine i thine even as when first i hallowd thy fair name so that eternal love in loves fresh case weighs not the dust and injury of age nor gives to necessary wrinkles place but makes antiquity for aye his page finding the first conceit of love there bred where time and outward form would show it dead o never say that i was false of heart though absence seemd my flame to qualify as easy might i from my self depart as from my soul which in thy breast doth lie that is my home of love if i have rangd like him that travels i return again just to the time not with the time exchangd so that myself bring water for my stain never believe though in my nature reignd all frailties that besiege all kinds of blood that it could so preposterously be staind to leave for nothing all thy sum of good for nothing this wide universe i call save thou my rose in it thou art my all alas tis true i have gone here and there and made my self a motley to the view gord mine own thoughts sold cheap what is most dear made old offences of affections new most true it is that i have lookd on truth askance and strangely but by all above these blenches gave my heart another youth and worse essays provd thee my best of love now all is done save what shall have no end mine appetite i never more will grind on newer proof to try an older friend a god in love to whom i am confind then give me welcome next my heaven the best even to thy pure and most most loving breast o for my sake do you with fortune chide the guilty goddess of my harmful deeds that did not better for my life provide than public means which public manners breeds thence comes it that my name receives a brand and almost thence my nature is subdud to what it works in like the dyers hand pity me then and wish i were renewd whilst like a willing patient i will drink potions of eisel gainst my strong infection no bitterness that i will bitter think nor double penance to correct correction pity me then dear friend and i assure ye even that your pity is enough to cure me your love and pity doth the impression fill which vulgar scandal stampd upon my brow for what care i who calls me well or ill so you oergreen my bad my good allow you are my alltheworld and i must strive to know my shames and praises from your tongue none else to me nor i to none alive that my steeld sense or changes right or wrong in so profound abysm i throw all care of others voices that my adders sense to critic and to flatterer stopped are mark how with my neglect i do dispense you are so strongly in my purpose bred that all the world besides methinks are dead since i left you mine eye is in my mind and that which governs me to go about doth part his function and is partly blind seems seeing but effectually is out for it no form delivers to the heart of bird of flower or shape which it doth latch of his quick objects hath the mind no part nor his own vision holds what it doth catch for if it see the rudst or gentlest sight the most sweet favour or deformedst creature the mountain or the sea the day or night the crow or dove it shapes them to your feature incapable of more replete with you my most true mind thus maketh mine untrue or whether doth my mind being crownd with you drink up the monarchs plague this flattery or whether shall i say mine eye saith true and that your love taught it this alchemy to make of monsters and things indigest such cherubins as your sweet self resemble creating every bad a perfect best as fast as objects to his beams assemble o tis the first tis flattery in my seeing and my great mind most kingly drinks it up mine eye well knows what with his gust is greeing and to his palate doth prepare the cup if it be poisond tis the lesser sin that mine eye loves it and doth first begin those lines that i before have writ do lie even those that said i could not love you dearer yet then my judgment knew no reason why my most full flame should afterwards burn clearer but reckoning time whose milliond accidents creep in twixt vows and change decrees of kings tan sacred beauty blunt the sharpst intents divert strong minds to the course of altering things alas why fearing of times tyranny might i not then say now i love you best when i was certain oer incertainty crowning the present doubting of the rest love is a babe then might i not say so to give full growth to that which still doth grow let me not to the marriage of true minds admit impediments love is not love which alters when it alteration finds or bends with the remover to remove o no it is an everfixed mark that looks on tempests and is never shaken it is the star to every wandering bark whose worths unknown although his height be taken loves not times fool though rosy lips and cheeks within his bending sickles compass come love alters not with his brief hours and weeks but bears it out even to the edge of doom if this be error and upon me provd i never writ nor no man ever lovd accuse me thus that i have scanted all wherein i should your great deserts repay forgot upon your dearest love to call whereto all bonds do tie me day by day that i have frequent been with unknown minds and given to time your own dearpurchasd right that i have hoisted sail to all the winds which should transport me farthest from your sight book both my wilfulness and errors down and on just proof surmise accumulate bring me within the level of your frown but shoot not at me in your wakend hate since my appeal says i did strive to prove the constancy and virtue of your love like as to make our appetite more keen with eager compounds we our palate urge as to prevent our maladies unseen we sicken to shun sickness when we purge even so being full of your neercloying sweetness to bitter sauces did i frame my feeding and sick of welfare found a kind of meetness to be diseasd ere that there was true needing thus policy in love to anticipate the ills that were not grew to faults assurd and brought to medicine a healthful state which rank of goodness would by ill be curd but thence i learn and find the lesson true drugs poison him that so fell sick of you what potions have i drunk of siren tears distilld from limbecks foul as hell within applying fears to hopes and hopes to fears still losing when i saw myself to win what wretched errors hath my heart committed whilst it hath thought itself so blessed never how have mine eyes out of their spheres been fitted in the distraction of this madding fever o benefit of ill now i find true that better is by evil still made better and ruind love when it is built anew grows fairer than at first more strong far greater so i return rebukd to my content and gain by ill thrice more than i have spent that you were once unkind befriends me now and for that sorrow which i then did feel needs must i under my transgression bow unless my nerves were brass or hammerd steel for if you were by my unkindness shaken as i by yours youve passd a hell of time and i a tyrant have no leisure taken to weigh how once i sufferd in your crime o that our night of woe might have rememberd my deepest sense how hard true sorrow hits and soon to you as you to me then tenderd the humble salve which wounded bosoms fits but that your trespass now becomes a fee mine ransoms yours and yours must ransom me tis better to be vile than vile esteemd when not to be receives reproach of being and the just pleasure lost which is so deemd not by our feeling but by others seeing for why should others false adulterate eyes give salutation to my sportive blood or on my frailties why are frailer spies which in their wills count bad what i think good no i am that i am and they that level at my abuses reckon up their own i may be straight though they themselves be bevel by their rank thoughts my deeds must not be shown unless this general evil they maintain all men are bad and in their badness reign thy gift thy tables are within my brain full characterd with lasting memory which shall above that idle rank remain beyond all date even to eternity or at the least so long as brain and heart have faculty by nature to subsist till each to razd oblivion yield his part of thee thy record never can be missd that poor retention could not so much hold nor need i tallies thy dear love to score therefore to give them from me was i bold to trust those tables that receive thee more to keep an adjunct to remember thee were to import forgetfulness in me no time thou shalt not boast that i do change thy pyramids built up with newer might to me are nothing novel nothing strange they are but dressings of a former sight our dates are brief and therefore we admire what thou dost foist upon us that is old and rather make them born to our desire than think that we before have heard them told thy registers and thee i both defy not wondering at the present nor the past for thy records and what we see doth lie made more or less by thy continual haste this i do vow and this shall ever be i will be true despite thy scythe and thee if my dear love were but the child of state it might for fortunes bastard be unfatherd as subject to times love or to times hate weeds among weeds or flowers with flowers gatherd no it was builded far from accident it suffers not in smiling pomp nor falls under the blow of thralled discontent whereto th inviting time our fashion calls it fears not policy that heretic which works on leases of shortnumberd hours but all alone stands hugely politic that it nor grows with heat nor drowns with showers to this i witness call the fools of time which die for goodness who have lived for crime weret aught to me i bore the canopy with my extern the outward honouring or laid great bases for eternity which proves more short than waste or ruining have i not seen dwellers on form and favour lose all and more by paying too much rent for compound sweet forgoing simple savour pitiful thrivers in their gazing spent no let me be obsequious in thy heart and take thou my oblation poor but free which is not mixd with seconds knows no art but mutual render only me for thee hence thou suborned informer a true soul when most impeachd stands least in thy control o thou my lovely boy who in thy power dost hold times fickle glass his fickle hour who hast by waning grown and therein showst thy lovers withering as thy sweet self growst if nature sovereign mistress over wrack as thou goest onwards still will pluck thee back she keeps thee to this purpose that her skill may time disgrace and wretched minutes kill yet fear her o thou minion of her pleasure she may detain but not still keep her treasure her audit though delayed answered must be and her quietus is to render thee in the old age black was not counted fair or if it were it bore not beautys name but now is black beautys successive heir and beauty slanderd with a bastard shame for since each hand hath put on natures power fairing the foul with arts false borrowed face sweet beauty hath no name no holy bower but is profand if not lives in disgrace therefore my mistress eyes are raven black her eyes so suited and they mourners seem at such who not born fair no beauty lack slandring creation with a false esteem yet so they mourn becoming of their woe that every tongue says beauty should look so how oft when thou my music music playst upon that blessed wood whose motion sounds with thy sweet fingers when thou gently swayst the wiry concord that mine ear confounds do i envy those jacks that nimble leap to kiss the tender inward of thy hand whilst my poor lips which should that harvest reap at the woods boldness by thee blushing stand to be so tickled they would change their state and situation with those dancing chips oer whom thy fingers walk with gentle gait making dead wood more blessd than living lips since saucy jacks so happy are in this give them thy fingers me thy lips to kiss the expense of spirit in a waste of shame is lust in action and till action lust is perjurd murderous bloody full of blame savage extreme rude cruel not to trust enjoyd no sooner but despised straight past reason hunted and no sooner had past reason hated as a swallowd bait on purpose laid to make the taker mad mad in pursuit and in possession so had having and in quest to have extreme a bliss in proof and provd a very woe before a joy proposd behind a dream all this the world well knows yet none knows well to shun the heaven that leads men to this hell my mistress eyes are nothing like the sun coral is far more red than her lips red if snow be white why then her breasts are dun if hairs be wires black wires grow on her head i have seen roses damaskd red and white but no such roses see i in her cheeks and in some perfumes is there more delight than in the breath that from my mistress reeks i love to hear her speak yet well i know that music hath a far more pleasing sound i grant i never saw a goddess go my mistress when she walks treads on the ground and yet by heaven i think my love as rare as any she belied with false compare thou art as tyrannous so as thou art as those whose beauties proudly make them cruel for well thou knowst to my dear doting heart thou art the fairest and most precious jewel yet in good faith some say that thee behold thy face hath not the power to make love groan to say they err i dare not be so bold although i swear it to myself alone and to be sure that is not false i swear a thousand groans but thinking on thy face one on anothers neck do witness bear thy black is fairest in my judgments place in nothing art thou black save in thy deeds and thence this slander as i think proceeds thine eyes i love and they as pitying me knowing thy heart torment me with disdain have put on black and loving mourners be looking with pretty ruth upon my pain and truly not the morning sun of heaven better becomes the grey cheeks of the east nor that full star that ushers in the even doth half that glory to the sober west as those two mourning eyes become thy face o let it then as well beseem thy heart to mourn for me since mourning doth thee grace and suit thy pity like in every part then will i swear beauty herself is black and all they foul that thy complexion lack beshrew that heart that makes my heart to groan for that deep wound it gives my friend and me ist not enough to torture me alone but slave to slavery my sweetst friend must be me from myself thy cruel eye hath taken and my next self thou harder hast engrossd of him myself and thee i am forsaken a torment thrice threefold thus to be crossd prison my heart in thy steel bosoms ward but then my friends heart let my poor heart bail whoeer keeps me let my heart be his guard thou canst not then use rigour in my jail and yet thou wilt for i being pent in thee perforce am thine and all that is in me so now i have confessd that he is thine and i my self am mortgagd to thy will myself ill forfeit so that other mine thou wilt restore to be my comfort still but thou wilt not nor he will not be free for thou art covetous and he is kind he learnd but suretylike to write for me under that bond that him as fast doth bind the statute of thy beauty thou wilt take thou usurer that puttst forth all to use and sue a friend came debtor for my sake so him i lose through my unkind abuse him have i lost thou hast both him and me he pays the whole and yet am i not free whoever hath her wish thou hast thy will and will to boot and will in overplus more than enough am i that vexd thee still to thy sweet will making addition thus wilt thou whose will is large and spacious not once vouchsafe to hide my will in thine shall will in others seem right gracious and in my will no fair acceptance shine the sea all water yet receives rain still and in abundance addeth to his store so thou being rich in will add to thy will one will of mine to make thy large will more let no unkind no fair beseechers kill think all but one and me in that one will if thy soul check thee that i come so near swear to thy blind soul that i was thy will and will thy soul knows is admitted there thus far for love my lovesuit sweet fulfil will will fulfil the treasure of thy love ay fill it full with wills and my will one in things of great receipt with ease we prove among a number one is reckond none then in the number let me pass untold though in thy stores account i one must be for nothing hold me so it please thee hold that nothing me a something sweet to thee make but my name thy love and love that still and then thou lovst me for my name is will thou blind fool love what dost thou to mine eyes that they behold and see not what they see they know what beauty is see where it lies yet what the best is take the worst to be if eyes corrupt by overpartial looks be anchord in the bay where all men ride why of eyes falsehood hast thou forged hooks whereto the judgment of my heart is tied why should my heart think that a several plot which my heart knows the wide worlds common place or mine eyes seeing this say this is not to put fair truth upon so foul a face in things right true my heart and eyes have errd and to this false plague are they now transferrd when my love swears that she is made of truth i do believe her though i know she lies that she might think me some untutord youth unlearned in the worlds false subtleties thus vainly thinking that she thinks me young although she knows my days are past the best simply i credit her falsespeaking tongue on both sides thus is simple truth suppressed but wherefore says she not she is unjust and wherefore say not i that i am old o loves best habit is in seeming trust and age in love loves not to have years told therefore i lie with her and she with me and in our faults by lies we flatterd be o call not me to justify the wrong that thy unkindness lays upon my heart wound me not with thine eye but with thy tongue use power with power and slay me not by art tell me thou lovst elsewhere but in my sight dear heart forbear to glance thine eye aside what needst thou wound with cunning when thy might is more than my oerpressd defence can bide let me excuse thee ah my love well knows her pretty looks have been mine enemies and therefore from my face she turns my foes that they elsewhere might dart their injuries yet do not so but since i am near slain kill me outright with looks and rid my pain be wise as thou art cruel do not press my tonguetied patience with too much disdain lest sorrow lend me words and words express the manner of my pitywanting pain if i might teach thee wit better it were though not to love yet love to tell me so as testy sick men when their deaths be near no news but health from their physicians know for if i should despair i should grow mad and in my madness might speak ill of thee now this illwresting world is grown so bad mad slanderers by mad ears believed be that i may not be so nor thou belied bear thine eyes straight though thy proud heart go wide in faith i do not love thee with mine eyes for they in thee a thousand errors note but tis my heart that loves what they despise who in despite of view is pleased to dote nor are mine ears with thy tongues tune delighted nor tender feeling to base touches prone nor taste nor smell desire to be invited to any sensual feast with thee alone but my five wits nor my five senses can dissuade one foolish heart from serving thee who leaves unswayd the likeness of a man thy proud hearts slave and vassal wretch to be only my plague thus far i count my gain that she that makes me sin awards me pain love is my sin and thy dear virtue hate hate of my sin grounded on sinful loving o but with mine compare thou thine own state and thou shalt find it merits not reproving or if it do not from those lips of thine that have profand their scarlet ornaments and seald false bonds of love as oft as mine robbd others beds revenues of their rents be it lawful i love thee as thou lovst those whom thine eyes woo as mine importune thee root pity in thy heart that when it grows thy pity may deserve to pitied be if thou dost seek to have what thou dost hide by selfexample mayst thou be denied lo as a careful housewife runs to catch one of her featherd creatures broke away sets down her babe and makes all swift dispatch in pursuit of the thing she would have stay whilst her neglected child holds her in chase cries to catch her whose busy care is bent to follow that which flies before her face not prizing her poor infants discontent so runnst thou after that which flies from thee whilst i thy babe chase thee afar behind but if thou catch thy hope turn back to me and play the mothers part kiss me be kind so will i pray that thou mayst have thy will if thou turn back and my loud crying still two loves i have of comfort and despair which like two spirits do suggest me still the better angel is a man right fair the worser spirit a woman colourd ill to win me soon to hell my female evil tempteth my better angel from my side and would corrupt my saint to be a devil wooing his purity with her foul pride and whether that my angel be turnd fiend suspect i may yet not directly tell but being both from me both to each friend i guess one angel in anothers hell yet this shall i neer know but live in doubt till my bad angel fire my good one out those lips that loves own hand did make breathed forth the sound that said i hate to me that languishd for her sake but when she saw my woeful state straight in her heart did mercy come chiding that tongue that ever sweet was usd in giving gentle doom and taught it thus anew to greet i hate she alterd with an end that followed it as gentle day doth follow night who like a fiend from heaven to hell is flown away i hate from hate away she threw and savd my life saying not you poor soul the centre of my sinful earth my sinful earth these rebel powers array why dost thou pine within and suffer dearth painting thy outward walls so costly gay why so large cost having so short a lease dost thou upon thy fading mansion spend shall worms inheritors of this excess eat up thy charge is this thy bodys end then soul live thou upon thy servants loss and let that pine to aggravate thy store buy terms divine in selling hours of dross within be fed without be rich no more so shall thou feed on death that feeds on men and death once dead theres no more dying then my love is as a fever longing still for that which longer nurseth the disease feeding on that which doth preserve the ill the uncertain sickly appetite to please my reason the physician to my love angry that his prescriptions are not kept hath left me and i desperate now approve desire is death which physic did except past cure i am now reason is past care and franticmad with evermore unrest my thoughts and my discourse as madmens are at random from the truth vainly expressd for i have sworn thee fair and thought thee bright who art as black as hell as dark as night o me what eyes hath love put in my head which have no correspondence with true sight or if they have where is my judgment fled that censures falsely what they see aright if that be fair whereon my false eyes dote what means the world to say it is not so if it be not then love doth well denote loves eye is not so true as all mens no how can it o how can loves eye be true that is so vexed with watching and with tears no marvel then though i mistake my view the sun itself sees not till heaven clears o cunning love with tears thou keepst me blind lest eyes wellseeing thy foul faults should find canst thou o cruel say i love thee not when i against myself with thee partake do i not think on thee when i forgot am of my self all tyrant for thy sake who hateth thee that i do call my friend on whom frownst thou that i do fawn upon nay if thou lourst on me do i not spend revenge upon myself with present moan what merit do i in my self respect that is so proud thy service to despise when all my best doth worship thy defect commanded by the motion of thine eyes but love hate on for now i know thy mind those that can see thou lovst and i am blind o from what power hast thou this powerful might with insufficiency my heart to sway to make me give the lie to my true sight and swear that brightness doth not grace the day whence hast thou this becoming of things ill that in the very refuse of thy deeds there is such strength and warrantise of skill that in my mind thy worst all best exceeds who taught thee how to make me love thee more the more i hear and see just cause of hate o though i love what others do abhor with others thou shouldst not abhor my state if thy unworthiness raisd love in me more worthy i to be belovd of thee love is too young to know what conscience is yet who knows not conscience is born of love then gentle cheater urge not my amiss lest guilty of my faults thy sweet self prove for thou betraying me i do betray my nobler part to my gross bodys treason my soul doth tell my body that he may triumph in love flesh stays no farther reason but rising at thy name doth point out thee as his triumphant prize proud of this pride he is contented thy poor drudge to be to stand in thy affairs fall by thy side no want of conscience hold it that i call her love for whose dear love i rise and fall in loving thee thou knowst i am forsworn but thou art twice forsworn to me love swearing in act thy bedvow broke and new faith torn in vowing new hate after new love bearing but why of two oaths breach do i accuse thee when i break twenty i am perjurd most for all my vows are oaths but to misuse thee and all my honest faith in thee is lost for i have sworn deep oaths of thy deep kindness oaths of thy love thy truth thy constancy and to enlighten thee gave eyes to blindness or made them swear against the thing they see for i have sworn thee fair more perjurd i to swear against the truth so foul a lie cupid laid by his brand and fell asleep a maid of dians this advantage found and his lovekindling fire did quickly steep in a cold valleyfountain of that ground which borrowd from this holy fire of love a dateless lively heat still to endure and grew a seeting bath which yet men prove against strange maladies a sovereign cure but at my mistress eye loves brand newfired the boy for trial needs would touch my breast i sick withal the help of bath desired and thither hied a sad distemperd guest but found no cure the bath for my help lies where cupid got new fire my mistress eyes'"
            ],
            "application/vnd.google.colaboratory.intrinsic+json": {
              "type": "string"
            }
          },
          "metadata": {},
          "execution_count": 41
        }
      ]
    },
    {
      "cell_type": "code",
      "metadata": {
        "id": "kSGHFS4QcqLa",
        "colab": {
          "base_uri": "https://localhost:8080/"
        },
        "outputId": "88b4d6e5-472c-49be-a326-cc3f4136a2a2"
      },
      "source": [
        "# randomly pick a starting index \n",
        "# will be used to take a random sequence of chars from `text`\n",
        "# run this cell a few times and you'll see `start_index` is random\n",
        "start_index = random.randint(0, len(text) - dctk.maxlen - 1)\n",
        "start_index"
      ],
      "execution_count": null,
      "outputs": [
        {
          "output_type": "execute_result",
          "data": {
            "text/plain": [
              "46276"
            ]
          },
          "metadata": {},
          "execution_count": 42
        }
      ]
    },
    {
      "cell_type": "code",
      "metadata": {
        "id": "2ak7epOKcqLa"
      },
      "source": [
        "# next use the randomly selected starting index to sample a sequence from the `text`\n",
        "\n",
        "# this is our seed string (i.e., input sequence into the model)\n",
        "generated = ''\n",
        "\n",
        "# start the sentence at index `start_index` and include the next` dctk.maxlen` number of chars\n",
        "sentence = text[start_index: start_index + dctk.maxlen]\n",
        "\n",
        "# add to generated\n",
        "generated += sentence"
      ],
      "execution_count": null,
      "outputs": []
    },
    {
      "cell_type": "code",
      "metadata": {
        "id": "QfbUcUBXcqLa",
        "colab": {
          "base_uri": "https://localhost:8080/"
        },
        "outputId": "3beb4b97-4ff9-4322-b3aa-9b9ca2e47d90"
      },
      "source": [
        "# display the \"seed string\" i.e. the input sequence into the model\n",
        "print('----- Input seed: \"' + sentence + '\"')"
      ],
      "execution_count": null,
      "outputs": [
        {
          "output_type": "stream",
          "name": "stdout",
          "text": [
            "----- Input seed: \"our worthwide as the ocean is the humble\"\n"
          ]
        }
      ]
    },
    {
      "cell_type": "code",
      "metadata": {
        "id": "6nop-G7CcqLa",
        "colab": {
          "base_uri": "https://localhost:8080/"
        },
        "outputId": "84733e40-eb90-45e2-e048-2166505425c0"
      },
      "source": [
        "# use model to predict what the next maxlen chars should be that follow the seed string\n",
        "for i in range(maxlen):\n",
        "\n",
        "    # shape of a single sample in a rank 3 tensor \n",
        "    x_dims = (1, dctk.maxlen, dctk.n_features)\n",
        "    # create an array of zeros with shape x_dims\n",
        "    # recall that python considers zeros and boolean FALSE as the same\n",
        "    x_pred = np.zeros(x_dims)\n",
        "\n",
        "    # create a seq vector for our randomly select sequence \n",
        "    # i.e. create a numerical encoding for each char in the sequence \n",
        "    for t, char in enumerate(sentence):\n",
        "        # for sample 0 in seq index t and character `char` encode a 1 (which is the same as a TRUE)\n",
        "        x_pred[0, t, dctk.char_int[char]] = 1\n",
        "\n",
        "    # next, take the seq vector and pass into model to get a prediction of what the next char should be \n",
        "    preds = model.predict(x_pred, verbose=0)[0]\n",
        "    # use the sample helper function to get index for next char \n",
        "    next_index = sample(preds)\n",
        "    # use look up dict to get next char \n",
        "    next_char = dctk.int_char[next_index]\n",
        "\n",
        "    # append next char to sequence \n",
        "    sentence = sentence[1:] + next_char "
      ],
      "execution_count": null,
      "outputs": [
        {
          "output_type": "stream",
          "name": "stderr",
          "text": [
            "/usr/local/lib/python3.7/dist-packages/ipykernel_launcher.py:11: RuntimeWarning: divide by zero encountered in log\n",
            "  # This is added back by InteractiveShellApp.init_path()\n"
          ]
        }
      ]
    },
    {
      "cell_type": "code",
      "metadata": {
        "id": "wX9daz2rcqLb",
        "colab": {
          "base_uri": "https://localhost:8080/",
          "height": 35
        },
        "outputId": "ce3ff41b-d117-466c-af67-bc1840e51d45"
      },
      "source": [
        "# this is the seed string\n",
        "generated"
      ],
      "execution_count": null,
      "outputs": [
        {
          "output_type": "execute_result",
          "data": {
            "text/plain": [
              "'our worthwide as the ocean is the humble'"
            ],
            "application/vnd.google.colaboratory.intrinsic+json": {
              "type": "string"
            }
          },
          "metadata": {},
          "execution_count": 46
        }
      ]
    },
    {
      "cell_type": "code",
      "metadata": {
        "id": "a3jnYVwccqLb",
        "colab": {
          "base_uri": "https://localhost:8080/",
          "height": 35
        },
        "outputId": "86fecc92-51a1-4c79-b49f-b42db6f37fb9"
      },
      "source": [
        "# these are the maxlen chars that the model thinks should come after the seed stirng\n",
        "sentence"
      ],
      "execution_count": null,
      "outputs": [
        {
          "output_type": "execute_result",
          "data": {
            "text/plain": [
              "'b nhkg ppeghgngghppehhehhpppkehe trrabib'"
            ],
            "application/vnd.google.colaboratory.intrinsic+json": {
              "type": "string"
            }
          },
          "metadata": {},
          "execution_count": 47
        }
      ]
    },
    {
      "cell_type": "code",
      "metadata": {
        "id": "O1aqFH4BcqLb",
        "colab": {
          "base_uri": "https://localhost:8080/",
          "height": 35
        },
        "outputId": "c5a8b0d8-4d77-4974-9e12-25ce4ef0d9a0"
      },
      "source": [
        "# how put it all together\n",
        "generated + sentence"
      ],
      "execution_count": null,
      "outputs": [
        {
          "output_type": "execute_result",
          "data": {
            "text/plain": [
              "'our worthwide as the ocean is the humbleb nhkg ppeghgngghppehhehhpppkehe trrabib'"
            ],
            "application/vnd.google.colaboratory.intrinsic+json": {
              "type": "string"
            }
          },
          "metadata": {},
          "execution_count": 48
        }
      ]
    },
    {
      "cell_type": "markdown",
      "metadata": {
        "id": "zE4a4O7Bp5x1"
      },
      "source": [
        "# Resources and Stretch Goals"
      ]
    },
    {
      "cell_type": "markdown",
      "metadata": {
        "id": "uT3UV3gap9H6"
      },
      "source": [
        "## Stretch Goals:\n",
        "- Refine the training and generation of text to be able to ask for different genres/styles of Shakespearean text (e.g., plays versus sonnets)\n",
        "- Train a classification model that takes text and returns which work of Shakespeare it is most likely to be from\n",
        "- Make it more performant! Many possible routes here - lean on Keras, optimize the code, and/or use more resources (AWS, etc.)\n",
        "- Revisit the news example from class, and improve it - use categories or tags to refine the model/generation, or train a news classifier\n",
        "- Run on bigger, better data\n",
        "\n",
        "## Resources:\n",
        "- [The Unreasonable Effectiveness of Recurrent Neural Networks](https://karpathy.github.io/2015/05/21/rnn-effectiveness/) - a seminal writeup demonstrating a simple but effective character-level NLP RNN\n",
        "- [Simple NumPy implementation of RNN](https://github.com/JY-Yoon/RNN-Implementation-using-NumPy/blob/master/RNN%20Implementation%20using%20NumPy.ipynb) - Python 3 version of the code from \"Unreasonable Effectiveness\"\n",
        "- [TensorFlow RNN Tutorial](https://www.tensorflow.org/text/tutorials/text_generation) - code for training an RNN on the Penn Tree Bank language dataset\n",
        "- [4 part tutorial on RNN](http://www.wildml.com/2015/09/recurrent-neural-networks-tutorial-part-1-introduction-to-rnns/) - relates RNN to the vanishing gradient problem and provides an example implementation\n",
        "- [RNN training tips and tricks](https://github.com/karpathy/char-rnn#tips-and-tricks) - some rules of thumb for parameterizing and training your RNN"
      ]
    },
    {
      "cell_type": "code",
      "metadata": {
        "id": "EyGlTC_8Z4Ea"
      },
      "source": [
        ""
      ],
      "execution_count": null,
      "outputs": []
    }
  ]
}