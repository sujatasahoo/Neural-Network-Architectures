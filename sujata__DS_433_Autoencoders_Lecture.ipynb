{
  "nbformat": 4,
  "nbformat_minor": 0,
  "metadata": {
    "accelerator": "GPU",
    "colab": {
      "name": "sujata_ DS_433_Autoencoders_Lecture.ipynb",
      "provenance": [],
      "collapsed_sections": [],
      "include_colab_link": true
    },
    "kernelspec": {
      "display_name": "Python 3",
      "language": "python",
      "name": "python3"
    },
    "language_info": {
      "codemirror_mode": {
        "name": "ipython",
        "version": 3
      },
      "file_extension": ".py",
      "mimetype": "text/x-python",
      "name": "python",
      "nbconvert_exporter": "python",
      "pygments_lexer": "ipython3",
      "version": "3.8.5"
    }
  },
  "cells": [
    {
      "cell_type": "markdown",
      "metadata": {
        "id": "view-in-github",
        "colab_type": "text"
      },
      "source": [
        "<a href=\"https://colab.research.google.com/github/sujatasahoo/Neural-Network-Architectures/blob/main/sujata__DS_433_Autoencoders_Lecture.ipynb\" target=\"_parent\"><img src=\"https://colab.research.google.com/assets/colab-badge.svg\" alt=\"Open In Colab\"/></a>"
      ]
    },
    {
      "cell_type": "markdown",
      "metadata": {
        "id": "rr7YTT3AcXaN"
      },
      "source": [
        "*Unit 4, Sprint 3, Module 3*\n",
        "\n",
        "---"
      ]
    },
    {
      "cell_type": "markdown",
      "metadata": {
        "id": "3uqI18GbcXaO"
      },
      "source": [
        "# Autoencoders\n",
        "\n",
        "> An **autoencoder** is a type of artificial neural network used to learn efficient data representations in an unsupervised manner. The aim of an autoencoder is to learn a representation (coding) for a set of data, by training the network to capture the signal and ignore the noise, so as to reconstruct the data as well as possible. Autoencoders consist of two parts: the **encoder** which transforms the data to a **coding** (often -- but not always -- of lower dimension), and the **decoder**, which reconstructs the original data from its **coding**. "
      ]
    },
    {
      "cell_type": "markdown",
      "metadata": {
        "id": "VWvVBDJTcXaP"
      },
      "source": [
        "## Learning Objectives\n",
        "*At the end of the lecture you should be to*:\n",
        "* <a href=\"#p1\">Part 1</a>: Describe the components of an autoencoder\n",
        "* <a href=\"#p2\">Part 2</a>: Apply an autoencoder to an image reconstruction problem\n",
        "* <a href=\"#p3\">Part 3</a>: Apply an autoencoder to a basic information retrieval problem, i.e. a \"recommender system\"\n",
        "\n",
        "__Problem:__ Can we embed images in vectors of a specified size, as spacy does for words and documents?\n",
        "\n",
        "__Solution:__ Use an autoencoder\n",
        "\n",
        "Why would we want to represent an image as a fixed-sized vector? \n",
        "\n",
        "* __Information Retrieval__\n",
        "    - [Reverse Image Search](https://en.wikipedia.org/wiki/Reverse_image_search)\n",
        "    - [Recommendation Systems - Content Based Filtering](https://en.wikipedia.org/wiki/Recommender_system#Content-based_filtering)\n",
        "* __Dimensionality Reduction__\n",
        "    - [Feature Extraction](https://www.kaggle.com/c/vsb-power-line-fault-detection/discussion/78285)\n",
        "    - [Manifold Learning](https://en.wikipedia.org/wiki/Nonlinear_dimensionality_reduction)\n",
        "\n",
        "We've already encountered *representation learning* when we modeled text documents via 300-dimensional word embeddings during our NLP week. Today we're going to achieve a similiar goal on images using *autoencoders*. An autoencoder is a neural network that is trained to attempt to copy its input to its output. Usually they are restricted in ways that allow them to copy only approximately. The model often learns useful properties of the data, because it is forced to prioritize which aspects of the input should be copied. The properties of autoencoders have made them an important part of modern generative modeling approaches. Autoencoders a special case of feed-forward networks (the kind we've been studying); the weights and biases are determined by backpropagation and gradient descent. "
      ]
    },
    {
      "cell_type": "markdown",
      "metadata": {
        "id": "b1i4mE8XcXaP"
      },
      "source": [
        "# 1. Autoencoder Architecture (Learn)\n",
        "<a id=\"p1\"></a>"
      ]
    },
    {
      "cell_type": "markdown",
      "metadata": {
        "id": "zrjRqfCMcXaQ"
      },
      "source": [
        "## Overview\n",
        "\n",
        "The *encoder* compresses the input data and the *decoder* does the reverse to produce the uncompressed version of the data to create a reconstruction of the input as accurately as possible:\n",
        "\n",
        "<img src='https://miro.medium.com/max/1400/1*44eDEuZBEsmG_TCAKRI3Kw@2x.png' width=800/>\n",
        "\n",
        "The learning process is, as usual, minimizing a loss function: \n",
        "$ L(x, g(f(x))) $\n",
        "\n",
        "- $x$ is the input\n",
        "- $f$ is the encoder function, $f(x)$ is the coding\n",
        "- $g$ is the decoder function, g(f(x))) is the reconstructed input\n",
        "- $L$ is a loss function that  penalizes the reconstructed input for being dissimiliar from $x$ (such as mean squared error)\n"
      ]
    },
    {
      "cell_type": "markdown",
      "metadata": {
        "id": "wifP1LkflK0c"
      },
      "source": [
        "![](https://miro.medium.com/max/3110/0*uq2_ZipB9TqI9G_k)"
      ]
    },
    {
      "cell_type": "markdown",
      "metadata": {
        "id": "Ok2R0X_tcXaQ"
      },
      "source": [
        "## Follow Along\n",
        "We'll use an autoencoder to compress and reconstruct images from the `quickdraw10` data set.\n",
        "### Simple Autoencoder"
      ]
    },
    {
      "cell_type": "markdown",
      "metadata": {
        "id": "Gr963aAy4O1O"
      },
      "source": [
        "#### Imports"
      ]
    },
    {
      "cell_type": "code",
      "metadata": {
        "id": "4QaZ8snDhGTZ",
        "colab": {
          "base_uri": "https://localhost:8080/"
        },
        "outputId": "bdc32699-75e8-4580-80d5-604cb1538e7a"
      },
      "source": [
        "# imports \n",
        "import tensorflow as tf\n",
        "import numpy as np\n",
        "import os\n",
        "import matplotlib.pyplot as plt\n",
        "%load_ext tensorboard\n",
        "from sklearn.utils import shuffle\n",
        "from sklearn.neighbors import NearestNeighbors\n",
        "\n",
        "from tensorflow.keras.models import Model\n",
        "from tensorflow.keras.callbacks import EarlyStopping, TensorBoard\n",
        "from tensorflow.keras.layers import Input, Dense, Conv2D, MaxPooling2D, UpSampling2D, Flatten, Reshape\n",
        "from tensorflow.keras.metrics import mean_squared_error\n",
        "\n",
        "\n"
      ],
      "execution_count": null,
      "outputs": [
        {
          "output_type": "stream",
          "name": "stdout",
          "text": [
            "The tensorboard extension is already loaded. To reload it, use:\n",
            "  %reload_ext tensorboard\n"
          ]
        }
      ]
    },
    {
      "cell_type": "markdown",
      "metadata": {
        "id": "bGz7BPKb4U_3"
      },
      "source": [
        "#### Get the the `quickdraw` data set"
      ]
    },
    {
      "cell_type": "code",
      "metadata": {
        "colab": {
          "base_uri": "https://localhost:8080/"
        },
        "id": "jyb24VA-h08O",
        "outputId": "773a0218-3bc5-4fde-9a94-230330ef2e56"
      },
      "source": [
        "# get the quickdraw data set\n",
        "URL_ = \"https://github.com/LambdaSchool/DS-Unit-4-Sprint-2-Neural-Networks/blob/main/quickdraw10.npz?raw=true\"\n",
        "\n",
        "# create directory to store images that we'll we will be using to train auto-encoders \n",
        "path_to_downloaded_npz_file = tf.keras.utils.get_file('./quickdraw10.npz', origin=URL_, extract=False)\n",
        "data = np.load(path_to_downloaded_npz_file)\n",
        "\n",
        "x_train = data['arr_0']\n",
        "y_train = data['arr_1']\n",
        "\n",
        "print(x_train.shape)\n",
        "print(y_train.shape)"
      ],
      "execution_count": null,
      "outputs": [
        {
          "output_type": "stream",
          "name": "stdout",
          "text": [
            "(100000, 784)\n",
            "(100000,)\n"
          ]
        }
      ]
    },
    {
      "cell_type": "code",
      "metadata": {
        "id": "1osYVpTFlK0g",
        "colab": {
          "base_uri": "https://localhost:8080/"
        },
        "outputId": "641c340c-6498-4cd5-cb3e-b90b45cfbbb5"
      },
      "source": [
        "# 28x28 images are already flattened into 784-dimensional row vectors \n",
        "x_train[0].shape"
      ],
      "execution_count": null,
      "outputs": [
        {
          "output_type": "execute_result",
          "data": {
            "text/plain": [
              "(784,)"
            ]
          },
          "metadata": {},
          "execution_count": 26
        }
      ]
    },
    {
      "cell_type": "markdown",
      "metadata": {
        "id": "DeW_qmWer2MA"
      },
      "source": [
        "`quickdraw10` class names"
      ]
    },
    {
      "cell_type": "code",
      "metadata": {
        "id": "muNdhQdbiLlk"
      },
      "source": [
        "class_names = ['apple',\n",
        " 'anvil',\n",
        " 'airplane',\n",
        " 'banana',\n",
        " 'The Eiffel Tower',\n",
        " 'The Mona Lisa',\n",
        " 'The Great Wall of China',\n",
        " 'alarm clock',\n",
        " 'ant',\n",
        " 'asparagus']"
      ],
      "execution_count": null,
      "outputs": []
    },
    {
      "cell_type": "markdown",
      "metadata": {
        "id": "fHtNn_o4r7y5"
      },
      "source": [
        "Plot some `quickdraw10` images, with their labels"
      ]
    },
    {
      "cell_type": "code",
      "metadata": {
        "colab": {
          "base_uri": "https://localhost:8080/",
          "height": 289
        },
        "id": "U8qMbTQoiNUz",
        "outputId": "256e3631-268e-49c0-87f1-6911adc15bba"
      },
      "source": [
        "plt.figure(figsize=(10,5))\n",
        "start = 0\n",
        "\n",
        "# helper function used to plot images \n",
        "for num, name in enumerate(class_names):\n",
        "    plt.subplot(2,5, num+1)\n",
        "    plt.xticks([])\n",
        "    plt.yticks([])\n",
        "    plt.grid(False)\n",
        "    #plt.imshow(x_train[start].reshape(28,28), cmap=plt.cm.binary)\n",
        "    plt.imshow(x_train[start].reshape(28,28), cmap=plt.cm.gray)\n",
        "    plt.xlabel(name)\n",
        "    start += 10000\n",
        "plt.show()"
      ],
      "execution_count": null,
      "outputs": [
        {
          "output_type": "display_data",
          "data": {
            "image/png": "[encoded data removed]",
            "text/plain": [
              "<Figure size 720x360 with 10 Axes>"
            ]
          },
          "metadata": {}
        }
      ]
    },
    {
      "cell_type": "markdown",
      "metadata": {
        "id": "8YOkk-_klK0i"
      },
      "source": [
        "### Prepare the data for modeling"
      ]
    },
    {
      "cell_type": "code",
      "metadata": {
        "id": "DuqkZsIJlK0i",
        "colab": {
          "base_uri": "https://localhost:8080/"
        },
        "outputId": "ddc34a86-46fd-4088-d7a9-0b955a017f7e"
      },
      "source": [
        "\n",
        "# It's often a good idea to shuffle the training data before using it to build a model\n",
        "x_train, y_train = shuffle(x_train, y_train)\n",
        "\n",
        "# Normalize \n",
        "# scale the pixel values between 0 and 1 by dividing by the largest pixel value (i.e. 255)\n",
        "max_pixel_value = x_train.max()\n",
        "print(f'maximum pixel value = {max_pixel_value}')\n",
        "x_train = x_train.astype('float32') / max_pixel_value\n",
        "print(x_train.shape)"
      ],
      "execution_count": null,
      "outputs": [
        {
          "output_type": "stream",
          "name": "stdout",
          "text": [
            "maximum pixel value = 255\n",
            "(100000, 784)\n"
          ]
        }
      ]
    },
    {
      "cell_type": "code",
      "metadata": {
        "id": "hLvriHgllK0j"
      },
      "source": [
        "# Check that our pixel values are indeed normalized \n",
        "assert x_train.min() == 0.0\n",
        "assert x_train.max() == 1.0"
      ],
      "execution_count": null,
      "outputs": []
    },
    {
      "cell_type": "markdown",
      "metadata": {
        "id": "XpUPDdNI0xyH"
      },
      "source": [
        "### Build the simple autoencoder\n",
        "Notice that for the output layer below, we are \"borrowing\" the same structure and<br> \n",
        "the same loss function (cross-entropy) as the output of a binary class problem! <br>\n",
        "\n",
        "A neuron with a sigmoid activation function outputs a single number -- the probability of being in the positive class. <br>\n",
        "\n",
        "But normalized pixel values, like probabilities, are also on the interval $[0, 1]$. <br>\n",
        "We can interpret the probability outputs as pixel values: the \"brightness\", or \"lit-up-ness\" of a pixel. <br>\n",
        "\n",
        "Long story short, we can use $784$ neurons, each with a sigmoid activation function to produce our output pixel values."
      ]
    },
    {
      "cell_type": "code",
      "metadata": {
        "id": "6DdClvN6lK0j"
      },
      "source": [
        "### build simple auto-encoder\n",
        "\n",
        "# save input data dims to variable \n",
        "input_dims = x_train.shape[1]\n",
        "shape = (input_dims,)\n",
        "\n",
        "# decoder output size (i.e. 784 dims)\n",
        "decoding_size = input_dims\n",
        "\n",
        "# encoder output size\n",
        "coding_size = 64\n",
        "\n",
        "# Create input layer \n",
        "inputs = Input(shape=shape)\n",
        "\n",
        "# Create encoder layer \n",
        "encoded = Dense(coding_size, activation=\"relu\")(inputs)\n",
        "\n",
        "# Create decoder layer \n",
        "decoded = Dense(decoding_size,activation=\"sigmoid\")(encoded)\n",
        "#decoded = Dense(decoding_size)(encoded)#,activation=\"sigmoid\")\n",
        "\n",
        "# bring it all together using the Functional API\n",
        "autoencoder_simple = Model(inputs=inputs, outputs=decoded, name=\"simple_autoencoder\")"
      ],
      "execution_count": null,
      "outputs": []
    },
    {
      "cell_type": "markdown",
      "metadata": {
        "id": "xeHyENfq06I4"
      },
      "source": [
        "### Compile the simple autoencoder"
      ]
    },
    {
      "cell_type": "code",
      "metadata": {
        "id": "Zf3V-kwOcXad"
      },
      "source": [
        "autoencoder_simple.compile(optimizer='nadam', loss='binary_crossentropy', metrics = [mean_squared_error])\n",
        "#autoencoder_simple.compile(optimizer='nadam', loss='mse', metrics = [mean_squared_error])"
      ],
      "execution_count": null,
      "outputs": []
    },
    {
      "cell_type": "code",
      "metadata": {
        "id": "0q3bjg0DlK0k",
        "colab": {
          "base_uri": "https://localhost:8080/"
        },
        "outputId": "c344a6c2-3775-42d6-846c-0854e69b203a"
      },
      "source": [
        "autoencoder_simple.summary()"
      ],
      "execution_count": null,
      "outputs": [
        {
          "output_type": "stream",
          "name": "stdout",
          "text": [
            "Model: \"simple_autoencoder\"\n",
            "_________________________________________________________________\n",
            " Layer (type)                Output Shape              Param #   \n",
            "=================================================================\n",
            " input_7 (InputLayer)        [(None, 784)]             0         \n",
            "                                                                 \n",
            " dense_12 (Dense)            (None, 64)                50240     \n",
            "                                                                 \n",
            " dense_13 (Dense)            (None, 784)               50960     \n",
            "                                                                 \n",
            "=================================================================\n",
            "Total params: 101,200\n",
            "Trainable params: 101,200\n",
            "Non-trainable params: 0\n",
            "_________________________________________________________________\n"
          ]
        }
      ]
    },
    {
      "cell_type": "markdown",
      "metadata": {
        "id": "q4YIQX89ubgt"
      },
      "source": [
        "### Activity: \n",
        "Explain the number of parameters in the encoder and decoder layers.<br>\n",
        "Your explanation here."
      ]
    },
    {
      "cell_type": "markdown",
      "metadata": {
        "id": "zhj-Z0cf0_lt"
      },
      "source": [
        "### Fit (train) the simple autoencoder"
      ]
    },
    {
      "cell_type": "code",
      "metadata": {
        "colab": {
          "base_uri": "https://localhost:8080/"
        },
        "id": "VO0acALycXak",
        "outputId": "7d9cb7de-19b9-4925-9f8d-4aa8cb36548b"
      },
      "source": [
        "%%time\n",
        "# takes about 30 sec with min_delta=0.001, patience=2\n",
        "\n",
        "# cut off training if loss doesn't decrease by a certain amount over X number of epoches \n",
        "stop = EarlyStopping(monitor='val_loss', min_delta=0.001, patience=2)\n",
        "\n",
        "#  tensorboard callback\n",
        "logdir = os.path.join(\"logs\", f\"SimpleAutoencoder\")\n",
        "tensorboard = TensorBoard(log_dir=logdir)\n",
        "\n",
        "# fit the autoencoder model (train)\n",
        "autoencoder_simple.fit(x_train, # input image to encoder\n",
        "                        x_train, # provide input image as the target, so that the model learns how to reconstruct the input image \n",
        "                        epochs=100,\n",
        "                        batch_size=64,\n",
        "                        shuffle=True,\n",
        "                        validation_split=0.2,\n",
        "                        verbose = True,\n",
        "                        callbacks=[stop, tensorboard], \n",
        "                        workers=10)"
      ],
      "execution_count": null,
      "outputs": [
        {
          "output_type": "stream",
          "name": "stdout",
          "text": [
            "Epoch 1/100\n",
            "1250/1250 [==============================] - 4s 3ms/step - loss: 0.0445 - mean_squared_error: 0.0445 - val_loss: 0.0348 - val_mean_squared_error: 0.0348\n",
            "Epoch 2/100\n",
            "1250/1250 [==============================] - 4s 3ms/step - loss: 0.0329 - mean_squared_error: 0.0329 - val_loss: 0.0319 - val_mean_squared_error: 0.0319\n",
            "Epoch 3/100\n",
            "1250/1250 [==============================] - 4s 3ms/step - loss: 0.0315 - mean_squared_error: 0.0315 - val_loss: 0.0310 - val_mean_squared_error: 0.0310\n",
            "Epoch 4/100\n",
            "1250/1250 [==============================] - 4s 3ms/step - loss: 0.0309 - mean_squared_error: 0.0309 - val_loss: 0.0307 - val_mean_squared_error: 0.0307\n",
            "Epoch 5/100\n",
            "1250/1250 [==============================] - 4s 3ms/step - loss: 0.0307 - mean_squared_error: 0.0307 - val_loss: 0.0306 - val_mean_squared_error: 0.0306\n",
            "Epoch 6/100\n",
            "1250/1250 [==============================] - 4s 3ms/step - loss: 0.0307 - mean_squared_error: 0.0307 - val_loss: 0.0307 - val_mean_squared_error: 0.0307\n",
            "CPU times: user 25.5 s, sys: 1.92 s, total: 27.4 s\n",
            "Wall time: 22.8 s\n"
          ]
        }
      ]
    },
    {
      "cell_type": "markdown",
      "metadata": {
        "id": "QdK2SgsjlK0l"
      },
      "source": [
        "### Use the trained model to reconstruct the input images\n"
      ]
    },
    {
      "cell_type": "code",
      "metadata": {
        "id": "FTWLm80scXao",
        "colab": {
          "base_uri": "https://localhost:8080/"
        },
        "outputId": "94761044-0eb4-4f89-b6ba-ce26c2225280"
      },
      "source": [
        "%%time\n",
        "# encode and decode all the images\n",
        "#     original images go in (i.e, x_train)\n",
        "#     decoded images come out (i.e. a non-perfect reconstruction of x_train)\n",
        "decoded_imgs = autoencoder_simple.predict(x_train)"
      ],
      "execution_count": null,
      "outputs": [
        {
          "output_type": "stream",
          "name": "stdout",
          "text": [
            "CPU times: user 4.11 s, sys: 371 ms, total: 4.48 s\n",
            "Wall time: 18 s\n"
          ]
        }
      ]
    },
    {
      "cell_type": "code",
      "metadata": {
        "colab": {
          "base_uri": "https://localhost:8080/"
        },
        "id": "OAZx-JdtThCo",
        "outputId": "19174756-00d3-46fe-84f3-8c331456a1ce"
      },
      "source": [
        "print(decoded_imgs.shape)\n",
        "print(type(decoded_imgs))"
      ],
      "execution_count": null,
      "outputs": [
        {
          "output_type": "stream",
          "name": "stdout",
          "text": [
            "(100000, 784)\n",
            "<class 'numpy.ndarray'>\n"
          ]
        }
      ]
    },
    {
      "cell_type": "markdown",
      "metadata": {
        "id": "0m4E2Se9tZvm"
      },
      "source": [
        "### Visually compare reconstructed and original images"
      ]
    },
    {
      "cell_type": "code",
      "metadata": {
        "colab": {
          "base_uri": "https://localhost:8080/",
          "height": 248
        },
        "id": "8SUHJ0fWcXaq",
        "outputId": "3cf6584f-34f6-41f7-9a68-cf0da67c0b17"
      },
      "source": [
        "def plot_images(x_train, decoded_imgs):\n",
        "  n_display = 10  # how many digits we will display\n",
        "  plt.figure(figsize=(20, 4))\n",
        "  for index in range(n_display):\n",
        "      # display original\n",
        "      ax = plt.subplot(2, n_display, index + 1)\n",
        "      plt.imshow(x_train[index].reshape(28, 28))\n",
        "      plt.gray()\n",
        "      ax.get_xaxis().set_visible(False)\n",
        "      ax.get_yaxis().set_visible(False)\n",
        "\n",
        "      # display reconstruction\n",
        "      ax = plt.subplot(2, n_display, index + 1 + n_display)\n",
        "      plt.imshow(decoded_imgs[index].reshape(28, 28))\n",
        "      plt.gray()\n",
        "      ax.get_xaxis().set_visible(False)\n",
        "      ax.get_yaxis().set_visible(False)\n",
        "  plt.show()\n",
        "\n",
        "\n",
        "plot_images(x_train, decoded_imgs)"
      ],
      "execution_count": null,
      "outputs": [
        {
          "output_type": "display_data",
          "data": {
            "image/png": "[encoded data removed]",
            "text/plain": [
              "<Figure size 1440x288 with 20 Axes>"
            ]
          },
          "metadata": {
            "needs_background": "light"
          }
        }
      ]
    },
    {
      "cell_type": "markdown",
      "metadata": {
        "id": "yxc_HMmpcXas"
      },
      "source": [
        "## Challenge\n",
        "\n",
        "You'll be expected to discuss the components of a simple autoencoder and their purpose. "
      ]
    },
    {
      "cell_type": "markdown",
      "metadata": {
        "id": "N4Ul6Iy4cXas"
      },
      "source": [
        "# 2. Train an Autoencoder (Learn)\n",
        "<a id=\"p2\"></a>\n",
        "In this section we will learn how to build and train deep autoencoders and convolutional autoencoders"
      ]
    },
    {
      "cell_type": "markdown",
      "metadata": {
        "id": "Ebglt0jdcXas"
      },
      "source": [
        "## Overview\n",
        "\n",
        "As long as our architecture maintains a symmetric \"hourglass\" shape, we can continue to add layers and create a deeper network. "
      ]
    },
    {
      "cell_type": "markdown",
      "metadata": {
        "id": "e_4G6nPkcXat",
        "toc-hr-collapsed": true
      },
      "source": [
        "## Follow Along"
      ]
    },
    {
      "cell_type": "markdown",
      "metadata": {
        "id": "tRKdX-cXcXat"
      },
      "source": [
        "## 2.1 Deep Autoencoder"
      ]
    },
    {
      "cell_type": "code",
      "metadata": {
        "deletable": false,
        "id": "9HMm7qudcXat",
        "nbgrader": {
          "cell_type": "code",
          "checksum": "9fe7b5108b54218104f469bd2034c729",
          "grade": false,
          "grade_id": "cell-714cfeff1d33d217",
          "locked": false,
          "schema_version": 3,
          "solution": true,
          "task": false
        }
      },
      "source": [
        "#                                encoder     ->    decoder \n",
        "# dim of each hidden layer: 784, 128, 64, 32 -> 64, 128, 784\n",
        "\n",
        "# input layer \n",
        "inputs = Input(shape=(784,))\n",
        "\n",
        "#======================================================\n",
        "# Encoder: produces encoded representation of the input\n",
        "# Like \"zip\"\n",
        "#======================================================\n",
        "# 1st encoding layer (compresses input image into 128 dim vect)\n",
        "encoded_1 = Dense(256, activation=\"relu\")(inputs)\n",
        "\n",
        "# 2nd encoding layer (compresses 128 dim vect into 64 dim vect)\n",
        "encoded_2 = Dense(128, activation=\"relu\")(encoded_1)\n",
        "\n",
        "# 3rd encoding layer (compresses 64 dim vect into 32 dim vect)\n",
        "# the output of this layer is the \"codings\" \n",
        "encoded_3 = Dense(64, activation=\"relu\")(encoded_2)\n",
        "\n",
        "#===========================================================\n",
        "# Decoder: produces the reconstructed input from the codings\n",
        "# Like \"unzip\"\n",
        "#===========================================================\n",
        "\n",
        "# 1st decoding layer (decompresses 32 dim vect into 64 dim vect)\n",
        "decoding_1 = Dense(128, activation=\"relu\")(encoded_3)\n",
        "\n",
        "# 2nd decoding layer (decompresses 64 dim vect into 128 dim vect)\n",
        "decoding_2 = Dense(256, activation=\"relu\")(decoding_1)\n",
        "\n",
        "# 3rd decoding layer (decompresses 128 dim vect into 784 dim vect)\n",
        "decoding_3 = Dense(784, activation=\"sigmoid\")(decoding_2)\n",
        "\n",
        "# build an autoencoder model, using the Model API\n",
        "autoencoder_deep = Model(inputs=inputs, outputs=decoding_3, name=\"autoencoder_deep\")\n"
      ],
      "execution_count": null,
      "outputs": []
    },
    {
      "cell_type": "code",
      "metadata": {
        "id": "NpTetc-FlK0o",
        "colab": {
          "base_uri": "https://localhost:8080/"
        },
        "outputId": "dcf53699-9392-4def-db48-7e54ab5595ee"
      },
      "source": [
        "autoencoder_deep.summary()"
      ],
      "execution_count": null,
      "outputs": [
        {
          "output_type": "stream",
          "name": "stdout",
          "text": [
            "Model: \"autoencoder_deep\"\n",
            "_________________________________________________________________\n",
            " Layer (type)                Output Shape              Param #   \n",
            "=================================================================\n",
            " input_2 (InputLayer)        [(None, 784)]             0         \n",
            "                                                                 \n",
            " dense_2 (Dense)             (None, 128)               100480    \n",
            "                                                                 \n",
            " dense_3 (Dense)             (None, 64)                8256      \n",
            "                                                                 \n",
            " dense_4 (Dense)             (None, 32)                2080      \n",
            "                                                                 \n",
            " dense_5 (Dense)             (None, 64)                2112      \n",
            "                                                                 \n",
            " dense_6 (Dense)             (None, 128)               8320      \n",
            "                                                                 \n",
            " dense_7 (Dense)             (None, 784)               101136    \n",
            "                                                                 \n",
            "=================================================================\n",
            "Total params: 222,384\n",
            "Trainable params: 222,384\n",
            "Non-trainable params: 0\n",
            "_________________________________________________________________\n"
          ]
        }
      ]
    },
    {
      "cell_type": "code",
      "metadata": {
        "colab": {
          "base_uri": "https://localhost:8080/"
        },
        "id": "1vxOBlb1cXav",
        "scrolled": true,
        "outputId": "d1c9adaa-09d7-4d69-fb36-cd7e2303ffbc"
      },
      "source": [
        "%%time\n",
        "# compile & fit model\n",
        "# takes about 2 min with min_delta=0.001, patience=2\n",
        "\n",
        "autoencoder_deep.compile(optimizer='nadam', loss='binary_crossentropy', metrics = [mean_squared_error])\n",
        "\n",
        "stop = EarlyStopping(monitor='val_loss', min_delta=0.001, patience=2)\n",
        "\n",
        "logdir = os.path.join(\"logs\", f\"DeepAutoencoder\")\n",
        "tensorboard = TensorBoard(log_dir=logdir)\n",
        "\n",
        "autoencoder_deep.fit(x_train, \n",
        "                     x_train,\n",
        "                     epochs=100,\n",
        "                     batch_size=64,\n",
        "                     shuffle=True,\n",
        "                     validation_split=0.2,\n",
        "                     verbose = True,\n",
        "                     callbacks=[stop, tensorboard], \n",
        "                     workers=10)"
      ],
      "execution_count": null,
      "outputs": [
        {
          "output_type": "stream",
          "name": "stdout",
          "text": [
            "Epoch 1/100\n",
            "1250/1250 [==============================] - 7s 4ms/step - loss: 0.2663 - mean_squared_error: 0.0561 - val_loss: 0.2347 - val_mean_squared_error: 0.0458\n",
            "Epoch 2/100\n",
            "1250/1250 [==============================] - 5s 4ms/step - loss: 0.2207 - mean_squared_error: 0.0408 - val_loss: 0.2145 - val_mean_squared_error: 0.0389\n",
            "Epoch 3/100\n",
            "1250/1250 [==============================] - 5s 4ms/step - loss: 0.2046 - mean_squared_error: 0.0352 - val_loss: 0.1998 - val_mean_squared_error: 0.0337\n",
            "Epoch 4/100\n",
            "1250/1250 [==============================] - 5s 4ms/step - loss: 0.1937 - mean_squared_error: 0.0314 - val_loss: 0.1902 - val_mean_squared_error: 0.0303\n",
            "Epoch 5/100\n",
            "1250/1250 [==============================] - 5s 4ms/step - loss: 0.1860 - mean_squared_error: 0.0287 - val_loss: 0.1825 - val_mean_squared_error: 0.0275\n",
            "Epoch 6/100\n",
            "1250/1250 [==============================] - 5s 4ms/step - loss: 0.1801 - mean_squared_error: 0.0267 - val_loss: 0.1779 - val_mean_squared_error: 0.0257\n",
            "Epoch 7/100\n",
            "1250/1250 [==============================] - 5s 4ms/step - loss: 0.1756 - mean_squared_error: 0.0251 - val_loss: 0.1745 - val_mean_squared_error: 0.0246\n",
            "Epoch 8/100\n",
            "1250/1250 [==============================] - 5s 4ms/step - loss: 0.1720 - mean_squared_error: 0.0239 - val_loss: 0.1743 - val_mean_squared_error: 0.0244\n",
            "Epoch 9/100\n",
            "1250/1250 [==============================] - 5s 4ms/step - loss: 0.1691 - mean_squared_error: 0.0229 - val_loss: 0.1707 - val_mean_squared_error: 0.0233\n",
            "Epoch 10/100\n",
            "1250/1250 [==============================] - 5s 4ms/step - loss: 0.1666 - mean_squared_error: 0.0220 - val_loss: 0.1669 - val_mean_squared_error: 0.0220\n",
            "Epoch 11/100\n",
            "1250/1250 [==============================] - 5s 4ms/step - loss: 0.1644 - mean_squared_error: 0.0212 - val_loss: 0.1651 - val_mean_squared_error: 0.0214\n",
            "Epoch 12/100\n",
            "1250/1250 [==============================] - 5s 4ms/step - loss: 0.1625 - mean_squared_error: 0.0205 - val_loss: 0.1624 - val_mean_squared_error: 0.0204\n",
            "Epoch 13/100\n",
            "1250/1250 [==============================] - 5s 4ms/step - loss: 0.1608 - mean_squared_error: 0.0200 - val_loss: 0.1611 - val_mean_squared_error: 0.0199\n",
            "Epoch 14/100\n",
            "1250/1250 [==============================] - 6s 5ms/step - loss: 0.1595 - mean_squared_error: 0.0195 - val_loss: 0.1606 - val_mean_squared_error: 0.0199\n",
            "Epoch 15/100\n",
            "1250/1250 [==============================] - 5s 4ms/step - loss: 0.1583 - mean_squared_error: 0.0191 - val_loss: 0.1599 - val_mean_squared_error: 0.0195\n",
            "Epoch 16/100\n",
            "1250/1250 [==============================] - 5s 4ms/step - loss: 0.1573 - mean_squared_error: 0.0187 - val_loss: 0.1574 - val_mean_squared_error: 0.0188\n",
            "Epoch 17/100\n",
            "1250/1250 [==============================] - 5s 4ms/step - loss: 0.1564 - mean_squared_error: 0.0184 - val_loss: 0.1567 - val_mean_squared_error: 0.0185\n",
            "Epoch 18/100\n",
            "1250/1250 [==============================] - 5s 4ms/step - loss: 0.1556 - mean_squared_error: 0.0182 - val_loss: 0.1565 - val_mean_squared_error: 0.0184\n",
            "CPU times: user 1min 47s, sys: 7.33 s, total: 1min 54s\n",
            "Wall time: 1min 38s\n"
          ]
        }
      ]
    },
    {
      "cell_type": "markdown",
      "metadata": {
        "id": "EvQ3xClvlK0p"
      },
      "source": [
        "### Use the trained model to reconstruct the input images"
      ]
    },
    {
      "cell_type": "code",
      "metadata": {
        "colab": {
          "base_uri": "https://localhost:8080/"
        },
        "id": "rItHgXkEsAkd",
        "outputId": "9d2cb883-5ebe-4647-8274-dc275929a133"
      },
      "source": [
        "decoded_imgs = autoencoder_deep.predict(x_train)\n",
        "print(type(decoded_imgs))"
      ],
      "execution_count": null,
      "outputs": [
        {
          "output_type": "stream",
          "name": "stdout",
          "text": [
            "<class 'numpy.ndarray'>\n"
          ]
        }
      ]
    },
    {
      "cell_type": "markdown",
      "metadata": {
        "id": "vvZUp7HOuhZD"
      },
      "source": [
        "### Compare reconstructed to original images"
      ]
    },
    {
      "cell_type": "code",
      "metadata": {
        "colab": {
          "base_uri": "https://localhost:8080/",
          "height": 248
        },
        "id": "BNbUfdzmvD9w",
        "outputId": "4566b98f-0c9c-4d75-a475-68b279054709"
      },
      "source": [
        "plot_images(x_train, decoded_imgs)"
      ],
      "execution_count": null,
      "outputs": [
        {
          "output_type": "display_data",
          "data": {
            "image/png": "[encoded data removed]",
            "text/plain": [
              "<Figure size 1440x288 with 20 Axes>"
            ]
          },
          "metadata": {
            "needs_background": "light"
          }
        }
      ]
    },
    {
      "cell_type": "markdown",
      "metadata": {
        "id": "LDIK_lTvcXaz",
        "toc-hr-collapsed": true
      },
      "source": [
        "##2.2 Convolutional autoencoder\n",
        "\n",
        "> Since our inputs are images, it makes sense to use convolutional neural networks (convnets) as encoders and decoders. In practical settings, autoencoders applied to images are always convolutional autoencoders --they simply perform much better.\n",
        "\n",
        "> Let's implement one. The encoder will consist of a stack of `Conv2D` and `MaxPooling2D` layers, while the decoder will consist of a stack of `Conv2D` and `UpSampling2D` layers. Here `MaxPooling2D` layers and `Upsampling2D` layers are used for spatial down-sampling and up-sampling, respectively."
      ]
    },
    {
      "cell_type": "markdown",
      "metadata": {
        "id": "YIK_--5llK0r"
      },
      "source": [
        "### Example Image of a Convolutional Autoencoder \n",
        "\n",
        "![](https://www.researchgate.net/profile/Xifeng-Guo/publication/320658590/figure/fig1/AS:614154637418504@1523437284408/The-structure-of-proposed-Convolutional-AutoEncoders-CAE-for-MNIST-In-the-middle-there.png)"
      ]
    },
    {
      "cell_type": "code",
      "metadata": {
        "id": "rX8irpN0vKqX",
        "colab": {
          "base_uri": "https://localhost:8080/"
        },
        "outputId": "42559c3c-642d-40a8-88be-ccc0a578711b"
      },
      "source": [
        "# we need to transform our row vectors back into matrices\n",
        "# because the convolutional and pooling layers expect images in the form of matrices \n",
        "x_train = x_train.reshape((x_train.shape[0], 28, 28))\n",
        "x_train[0].shape"
      ],
      "execution_count": null,
      "outputs": [
        {
          "output_type": "execute_result",
          "data": {
            "text/plain": [
              "(28, 28)"
            ]
          },
          "metadata": {},
          "execution_count": 57
        }
      ]
    },
    {
      "cell_type": "code",
      "metadata": {
        "deletable": false,
        "id": "BpTNh1YyvYgK",
        "nbgrader": {
          "cell_type": "code",
          "checksum": "fa6de1fde32d9ca2aa2a00588a9d32cb",
          "grade": false,
          "grade_id": "cell-1503cd6388e2ea1a",
          "locked": false,
          "schema_version": 3,
          "solution": true,
          "task": false
        }
      },
      "source": [
        "\n",
        "# define some parameters and the dims of each, individual sample \n",
        "input_shape = (28,28,1)\n",
        "\n",
        "# weight matrix parameters\n",
        "# size of the convolution kernel (or filter)\n",
        "conv_filter_size = (3,3)\n",
        "pooling_filter_size = (2,2)\n",
        "\n",
        "# input layer \n",
        "inputs = Input(shape=input_shape)\n",
        "\n",
        "### encoding layers ### \n",
        "# This layer takes 28x28 image as input and produces 16 feature maps of size 14x14\n",
        "encoded = Conv2D(16, conv_filter_size, activation=\"relu\", padding=\"same\")(inputs)\n",
        "encoded = MaxPooling2D(pooling_filter_size, padding=\"same\")(encoded)\n",
        "\n",
        "# This layer takes the previous layer as input and produces 8 feature maps of size 7x7\n",
        "encoded = Conv2D(8, conv_filter_size, activation=\"relu\", padding=\"same\")(encoded)\n",
        "encoded = MaxPooling2D(pooling_filter_size, padding=\"same\")(encoded)\n",
        "\n",
        "# This layer takes the previous layer as input and produces 8 feature maps of size 4x4\n",
        "encoded = Conv2D(8, conv_filter_size, activation=\"relu\", padding=\"same\")(encoded)\n",
        "encoded = MaxPooling2D(pooling_filter_size, padding=\"same\")(encoded)\n",
        "\n",
        "# flatten 3D tensor into 1D vector in preparation for the Dense layer \n",
        "encoded = Flatten()(encoded)\n",
        "\n",
        "# this is the coding, the output of the encoder layer\n",
        "coding = Dense(64, activation=\"relu\")(encoded)\n",
        "\n",
        "# reshape 1D vectors into 2D arrays, for input to Convolution layers \n",
        "#     64 = 4 * 4 * 4\n",
        "encoded = Reshape((4,4,4))(coding)\n",
        "\n",
        "### decoding layers ###\n",
        "decoded = Conv2D(8, conv_filter_size, activation=\"relu\", padding=\"same\")(encoded)\n",
        "decoded = UpSampling2D(pooling_filter_size)(decoded)\n",
        "                  \n",
        "decoded = Conv2D(8, conv_filter_size, activation=\"relu\", padding=\"same\")(decoded)\n",
        "decoded = UpSampling2D(pooling_filter_size)(decoded)\n",
        "                  \n",
        "decoded = Conv2D(16, conv_filter_size, activation=\"relu\")(decoded) # in order to get to 14x14 instead of 167x16\n",
        "decoded = UpSampling2D(pooling_filter_size)(decoded)\n",
        "\n",
        "# because this is the final reconstruction of the original image,\n",
        "#   we must necessarily use a single weight matrix for the convolution \n",
        "#   so that the final output is a 2D matrix and not a rank 3 Tensor (i.e. a volume)\n",
        "decoded = Conv2D(1, conv_filter_size, activation=\"sigmoid\", padding=\"same\")(decoded)\n",
        "\n",
        "# out it all together using the Model API\n",
        "conv_autoencoder = Model(inputs=inputs, outputs=decoded, name=\"conv_autoencoder\")"
      ],
      "execution_count": null,
      "outputs": []
    },
    {
      "cell_type": "code",
      "metadata": {
        "id": "UveUpiB_lK0s",
        "colab": {
          "base_uri": "https://localhost:8080/"
        },
        "outputId": "af49bc60-975c-4d8c-e731-4c64bcdedb35"
      },
      "source": [
        "conv_autoencoder.summary()"
      ],
      "execution_count": null,
      "outputs": [
        {
          "output_type": "stream",
          "name": "stdout",
          "text": [
            "Model: \"conv_autoencoder\"\n",
            "_________________________________________________________________\n",
            " Layer (type)                Output Shape              Param #   \n",
            "=================================================================\n",
            " input_16 (InputLayer)       [(None, 28, 28, 1)]       0         \n",
            "                                                                 \n",
            " conv2d_43 (Conv2D)          (None, 28, 28, 16)        160       \n",
            "                                                                 \n",
            " max_pooling2d_21 (MaxPoolin  (None, 14, 14, 16)       0         \n",
            " g2D)                                                            \n",
            "                                                                 \n",
            " conv2d_44 (Conv2D)          (None, 14, 14, 8)         1160      \n",
            "                                                                 \n",
            " max_pooling2d_22 (MaxPoolin  (None, 7, 7, 8)          0         \n",
            " g2D)                                                            \n",
            "                                                                 \n",
            " conv2d_45 (Conv2D)          (None, 7, 7, 8)           584       \n",
            "                                                                 \n",
            " max_pooling2d_23 (MaxPoolin  (None, 4, 4, 8)          0         \n",
            " g2D)                                                            \n",
            "                                                                 \n",
            " flatten_7 (Flatten)         (None, 128)               0         \n",
            "                                                                 \n",
            " dense_27 (Dense)            (None, 64)                8256      \n",
            "                                                                 \n",
            " reshape_6 (Reshape)         (None, 4, 4, 4)           0         \n",
            "                                                                 \n",
            " conv2d_46 (Conv2D)          (None, 4, 4, 8)           296       \n",
            "                                                                 \n",
            " up_sampling2d_15 (UpSamplin  (None, 8, 8, 8)          0         \n",
            " g2D)                                                            \n",
            "                                                                 \n",
            " conv2d_47 (Conv2D)          (None, 8, 8, 8)           584       \n",
            "                                                                 \n",
            " up_sampling2d_16 (UpSamplin  (None, 16, 16, 8)        0         \n",
            " g2D)                                                            \n",
            "                                                                 \n",
            " conv2d_48 (Conv2D)          (None, 14, 14, 16)        1168      \n",
            "                                                                 \n",
            " up_sampling2d_17 (UpSamplin  (None, 28, 28, 16)       0         \n",
            " g2D)                                                            \n",
            "                                                                 \n",
            " conv2d_49 (Conv2D)          (None, 28, 28, 1)         145       \n",
            "                                                                 \n",
            "=================================================================\n",
            "Total params: 12,353\n",
            "Trainable params: 12,353\n",
            "Non-trainable params: 0\n",
            "_________________________________________________________________\n"
          ]
        }
      ]
    },
    {
      "cell_type": "code",
      "metadata": {
        "colab": {
          "base_uri": "https://localhost:8080/"
        },
        "id": "zN6zCoovcXa8",
        "scrolled": true,
        "outputId": "52b9e91c-30cc-4f20-b2de-2bdfaec97476"
      },
      "source": [
        "%%time\n",
        "# takes about 5 min on Colab with min_delta=0.01, patience=5\n",
        "# compile & fit model\n",
        "\n",
        "conv_autoencoder.compile(optimizer='nadam', loss='binary_crossentropy', metrics = [mean_squared_error])\n",
        "\n",
        "# make tensorboard callback\n",
        "logdir = os.path.join(\"logs\", f\"ConvolutionalAutoencoder\")\n",
        "tensorboard = TensorBoard(log_dir=logdir)\n",
        "\n",
        "# early stopping callback\n",
        "stop = EarlyStopping(monitor='val_loss', min_delta=0.01, patience=5)\n",
        "\n",
        "\n",
        "conv_autoencoder.fit(x_train, \n",
        "                     x_train,\n",
        "                     epochs=50,\n",
        "                     batch_size=32,\n",
        "                     shuffle=True,\n",
        "                     validation_split=0.2,\n",
        "                     verbose = True,\n",
        "                     callbacks=[stop, tensorboard], \n",
        "                     workers=10)"
      ],
      "execution_count": null,
      "outputs": [
        {
          "output_type": "stream",
          "name": "stdout",
          "text": [
            "Epoch 1/50\n",
            "2500/2500 [==============================] - 21s 8ms/step - loss: 0.2716 - mean_squared_error: 0.0592 - val_loss: 0.2419 - val_mean_squared_error: 0.0496\n",
            "Epoch 2/50\n",
            "2500/2500 [==============================] - 19s 8ms/step - loss: 0.2335 - mean_squared_error: 0.0466 - val_loss: 0.2408 - val_mean_squared_error: 0.0487\n",
            "Epoch 3/50\n",
            "2500/2500 [==============================] - 18s 7ms/step - loss: 0.2224 - mean_squared_error: 0.0425 - val_loss: 0.2183 - val_mean_squared_error: 0.0410\n",
            "Epoch 4/50\n",
            "2500/2500 [==============================] - 18s 7ms/step - loss: 0.2157 - mean_squared_error: 0.0401 - val_loss: 0.2147 - val_mean_squared_error: 0.0395\n",
            "Epoch 5/50\n",
            "2500/2500 [==============================] - 19s 8ms/step - loss: 0.2112 - mean_squared_error: 0.0384 - val_loss: 0.2138 - val_mean_squared_error: 0.0395\n",
            "Epoch 6/50\n",
            "2500/2500 [==============================] - 18s 7ms/step - loss: 0.2080 - mean_squared_error: 0.0372 - val_loss: 0.2086 - val_mean_squared_error: 0.0375\n",
            "Epoch 7/50\n",
            "2500/2500 [==============================] - 18s 7ms/step - loss: 0.2054 - mean_squared_error: 0.0363 - val_loss: 0.2047 - val_mean_squared_error: 0.0360\n",
            "Epoch 8/50\n",
            "2500/2500 [==============================] - 18s 7ms/step - loss: 0.2033 - mean_squared_error: 0.0355 - val_loss: 0.2024 - val_mean_squared_error: 0.0352\n",
            "Epoch 9/50\n",
            "2500/2500 [==============================] - 19s 8ms/step - loss: 0.2017 - mean_squared_error: 0.0349 - val_loss: 0.2017 - val_mean_squared_error: 0.0349\n",
            "Epoch 10/50\n",
            "2500/2500 [==============================] - 19s 8ms/step - loss: 0.2002 - mean_squared_error: 0.0344 - val_loss: 0.2003 - val_mean_squared_error: 0.0343\n",
            "Epoch 11/50\n",
            "2500/2500 [==============================] - 19s 8ms/step - loss: 0.1990 - mean_squared_error: 0.0340 - val_loss: 0.1990 - val_mean_squared_error: 0.0339\n",
            "Epoch 12/50\n",
            "2500/2500 [==============================] - 19s 8ms/step - loss: 0.1978 - mean_squared_error: 0.0336 - val_loss: 0.1975 - val_mean_squared_error: 0.0334\n",
            "CPU times: user 3min 56s, sys: 10.8 s, total: 4min 7s\n",
            "Wall time: 3min 47s\n"
          ]
        }
      ]
    },
    {
      "cell_type": "code",
      "metadata": {
        "colab": {
          "base_uri": "https://localhost:8080/"
        },
        "id": "J7IdMgFvxnT_",
        "outputId": "61c72a34-4c24-45be-ca74-743409ae380e"
      },
      "source": [
        "decoded_imgs = conv_autoencoder.predict(x_train)\n",
        "print(decoded_imgs.shape)\n",
        "print(type(decoded_imgs))\n",
        "# squeeze singleton dimension\n",
        "decoded_imgs = np.squeeze(decoded_imgs)\n",
        "print(decoded_imgs.shape)"
      ],
      "execution_count": null,
      "outputs": [
        {
          "output_type": "stream",
          "name": "stdout",
          "text": [
            "(100000, 28, 28, 1)\n",
            "<class 'numpy.ndarray'>\n",
            "(100000, 28, 28)\n"
          ]
        }
      ]
    },
    {
      "cell_type": "code",
      "metadata": {
        "colab": {
          "base_uri": "https://localhost:8080/",
          "height": 248
        },
        "id": "aJJAztvYwqXT",
        "outputId": "2898eeb3-05b5-41cb-dcb1-64699a9db66e"
      },
      "source": [
        "plot_images(x_train, decoded_imgs)"
      ],
      "execution_count": null,
      "outputs": [
        {
          "output_type": "display_data",
          "data": {
            "image/png": "[encoded data removed]",
            "text/plain": [
              "<Figure size 1440x288 with 20 Axes>"
            ]
          },
          "metadata": {
            "needs_background": "light"
          }
        }
      ]
    },
    {
      "cell_type": "markdown",
      "metadata": {
        "id": "XsEBZxEtcXbC"
      },
      "source": [
        "#### Visualization of the Representations (codings)"
      ]
    },
    {
      "cell_type": "code",
      "metadata": {
        "colab": {
          "base_uri": "https://localhost:8080/",
          "height": 129
        },
        "id": "Kdpr3O_ecXbD",
        "outputId": "406ce7d2-334b-4593-fa29-8daddbe09c31"
      },
      "source": [
        "# we have isolated the encoder portion of our auto-encoder so that we can access the encoder vector (i.e. the output of the encoder)\n",
        "encoder = Model(inputs=inputs, outputs=encoded)\n",
        "\n",
        "# the predictions (i.e. the output) of our encoder model are the original images encoder into a smaller dim space (i.e. the encoder vectors)\n",
        "encoded_imgs = encoder.predict(x_train)\n",
        "\n",
        "# display the codings for the above input images\n",
        "n = 10\n",
        "plt.figure(figsize=(20, 8))\n",
        "for i in range(1, n):\n",
        "    ax = plt.subplot(1, n, i)\n",
        "    plt.imshow(encoded_imgs[i].reshape(8, 8))\n",
        "    plt.gray()\n",
        "    ax.get_xaxis().set_visible(False)\n",
        "    ax.get_yaxis().set_visible(False)\n",
        "plt.show()\n"
      ],
      "execution_count": null,
      "outputs": [
        {
          "output_type": "display_data",
          "data": {
            "image/png": "[encoded data removed]",
            "text/plain": [
              "<Figure size 1440x576 with 9 Axes>"
            ]
          },
          "metadata": {
            "needs_background": "light"
          }
        }
      ]
    },
    {
      "cell_type": "markdown",
      "metadata": {
        "id": "uR6oiK4S29V2"
      },
      "source": [
        "The above images are the $64$-dimensional encoded vectors (codings), <br>represented as $8\\times8$ images, for some of the input images from `x_train`<br>\n",
        "Notice that we really can't interpret the encoded vectors -- this is the price we pay for dimensionality reduction! <br>\n",
        "The features in the encoded vectors are *non-linear* combinations of the input features. <br>\n",
        "Recall that PCA (Principal Components Analysis)\n",
        "-- a *linear* dimensionality reduction technique -- also incurs the cost of interpretability loss.<br>\n",
        "Reference: [Principal Component Analysis Explained Visually](https://setosa.io/ev/principal-component-analysis/). "
      ]
    },
    {
      "cell_type": "markdown",
      "metadata": {
        "id": "PsQkgBxycXbG"
      },
      "source": [
        "## Challenge\n",
        "\n",
        "You will be expected to build and train autoencoders at some point in the near future!"
      ]
    },
    {
      "cell_type": "markdown",
      "metadata": {
        "id": "R1kPEE5EcXbH"
      },
      "source": [
        "# 3. Application of Autoencoders: Information Retrieval -- Recommender Systems (Learn)\n",
        "<a id=\"p3\"></a>"
      ]
    },
    {
      "cell_type": "markdown",
      "metadata": {
        "id": "kfP4RplXcXbH"
      },
      "source": [
        "## Overview\n",
        "\n",
        "A common usecase for autoencoders is for reverse image search. Let's try to draw an image and see what's most similiar in our dataset. \n",
        "\n",
        "To accomplish this we will need to slice our autoendoer in half to extract our reduced features. :) "
      ]
    },
    {
      "cell_type": "markdown",
      "metadata": {
        "id": "QC545MukcXbI"
      },
      "source": [
        "## Follow Along\n",
        "\n",
        "We are going to perform the following: \n",
        "\n",
        "- Build an encoder model\n",
        "- Train a NearestNeighbors on encoded images\n",
        "- Choose a query image \n",
        "- Find similar encoded images using the trained NearestNeighbors model\n",
        "- Check our results: make sure that the selected images are in fact similar to the query image!\n",
        "\n",
        "### 3.1 Build an encoder model\n",
        "\n",
        "Use the `Model` class and the encoder layers to build an encoded model. Remember that we first need to train a full autoencoder model, which has both an encoder and and a decoder, before we can \"break off\" the trained encoder portion. "
      ]
    },
    {
      "cell_type": "code",
      "metadata": {
        "id": "91NAIzeklK0w",
        "colab": {
          "base_uri": "https://localhost:8080/"
        },
        "outputId": "3ca9ba5e-4d16-4004-8726-93d0d4f599f6"
      },
      "source": [
        "coding.shape"
      ],
      "execution_count": null,
      "outputs": [
        {
          "output_type": "execute_result",
          "data": {
            "text/plain": [
              "TensorShape([None, 64])"
            ]
          },
          "metadata": {},
          "execution_count": 80
        }
      ]
    },
    {
      "cell_type": "code",
      "metadata": {
        "deletable": false,
        "id": "HlzNPGNAcXbI",
        "nbgrader": {
          "cell_type": "code",
          "checksum": "f35a97c1b2d32e9fcce18e294355a6ce",
          "grade": false,
          "grade_id": "cell-86a84bb7c1403c77",
          "locked": false,
          "schema_version": 3,
          "solution": true,
          "task": false
        }
      },
      "source": [
        "# in Section 2, we isolated the encoder portion of the convolutional auto-encoder \n",
        "# in the object named coding, so that we can access the encoder part of the model\n",
        "\n",
        "# Build the encoder, which takes input images and producse flattened codings\n",
        "encoder = Model(inputs=inputs, outputs=coding)\n",
        "\n",
        "# Run the encoder on the input data set\n",
        "encoded_imgs = encoder.predict(x_train)"
      ],
      "execution_count": null,
      "outputs": []
    },
    {
      "cell_type": "code",
      "metadata": {
        "id": "pebiesLglK0w",
        "colab": {
          "base_uri": "https://localhost:8080/"
        },
        "outputId": "8b2cca7b-4f5f-4063-8cb2-0b9603c0ea2b"
      },
      "source": [
        "# now we can pass in our row vectors into a Nearest Neighbors model\n",
        "print(encoded_imgs.shape)"
      ],
      "execution_count": null,
      "outputs": [
        {
          "output_type": "stream",
          "name": "stdout",
          "text": [
            "(100000, 64)\n"
          ]
        }
      ]
    },
    {
      "cell_type": "markdown",
      "metadata": {
        "id": "uMspXTtLlK0w"
      },
      "source": [
        "###3.2  Train a NearestNeighbors model\n",
        "\n",
        "Build a `NearestNeighbors` model and train it on the encoded images. \n"
      ]
    },
    {
      "cell_type": "code",
      "metadata": {
        "colab": {
          "base_uri": "https://localhost:8080/"
        },
        "id": "vloe7VtjcXc1",
        "outputId": "ea5d3f90-a7a0-4731-97a9-938f2723874b"
      },
      "source": [
        "%%time\n",
        "\n",
        "# fit KNN on encoded images (i.e. the encoded vectors)\n",
        "nn = NearestNeighbors()\n",
        "\n",
        "# pass in the encoded images (i.e. the encoded vectors )\n",
        "nn.fit(encoded_imgs)"
      ],
      "execution_count": null,
      "outputs": [
        {
          "output_type": "stream",
          "name": "stdout",
          "text": [
            "CPU times: user 9.76 ms, sys: 0 ns, total: 9.76 ms\n",
            "Wall time: 9.46 ms\n"
          ]
        }
      ]
    },
    {
      "cell_type": "markdown",
      "metadata": {
        "id": "Y_Oqyy1RlK0x"
      },
      "source": [
        "### Select a query image\n",
        "\n",
        "Next, we chose an image that we will pass into the `NearestNeighbors` model in order to find similar images. <br>\n",
        "Feel free to select a different image."
      ]
    },
    {
      "cell_type": "code",
      "metadata": {
        "colab": {
          "base_uri": "https://localhost:8080/",
          "height": 281
        },
        "id": "2sVRGWRK2_in",
        "outputId": "9808b656-f644-4406-f9e0-51549483c21d"
      },
      "source": [
        "# get a query image \n",
        "query =  42\n",
        "query_img = x_train[query]\n",
        "query_label = class_names[y_train[query]]\n",
        "\n",
        "# we will pass the query image into NearestNeighbors in order to find similar images, \n",
        "#      by identifying images whose encoded vectors are closest in distance to the query image's encoded vector\n",
        "plt.title(query_label)\n",
        "plt.imshow(query_img);"
      ],
      "execution_count": null,
      "outputs": [
        {
          "output_type": "display_data",
          "data": {
            "image/png": "[encoded data removed]",
            "text/plain": [
              "<Figure size 432x288 with 1 Axes>"
            ]
          },
          "metadata": {
            "needs_background": "light"
          }
        }
      ]
    },
    {
      "cell_type": "markdown",
      "metadata": {
        "id": "4ufnBGfWlK0y"
      },
      "source": [
        "### 3.3 Find and Retrieve Images that are Similar to the Query Image\n",
        "Use the encoder to encode our query image"
      ]
    },
    {
      "cell_type": "code",
      "metadata": {
        "colab": {
          "base_uri": "https://localhost:8080/"
        },
        "deletable": false,
        "id": "2OfvQCRicXc4",
        "nbgrader": {
          "cell_type": "code",
          "checksum": "74ee5f53a50cc3901333be11438d9f21",
          "grade": false,
          "grade_id": "cell-a1412daf9fd457c3",
          "locked": false,
          "schema_version": 3,
          "solution": true,
          "task": false
        },
        "outputId": "f0515e11-8f83-40d0-9bff-16d664b7fc4a"
      },
      "source": [
        "# format the query image for input to our model\n",
        "print(query_img.shape)"
      ],
      "execution_count": null,
      "outputs": [
        {
          "output_type": "stream",
          "name": "stdout",
          "text": [
            "(28, 28)\n"
          ]
        }
      ]
    },
    {
      "cell_type": "code",
      "metadata": {
        "colab": {
          "base_uri": "https://localhost:8080/"
        },
        "id": "SMLj1Tfi1uL9",
        "outputId": "a786739c-0d29-4c3e-d0b3-24832147911e"
      },
      "source": [
        "# reshape for input to encoder: the extra dimension is for the batch index\n",
        "query_img_reshaped = np.reshape(query_img,(1,28,28) )\n",
        "print(query_img_reshaped.shape)"
      ],
      "execution_count": null,
      "outputs": [
        {
          "output_type": "stream",
          "name": "stdout",
          "text": [
            "(1, 28, 28)\n"
          ]
        }
      ]
    },
    {
      "cell_type": "code",
      "metadata": {
        "id": "_yiHsTjtlK00"
      },
      "source": [
        "# encode the query image to a lower dimensional vector using our encoder model \n",
        "query_img_encoded = encoder.predict(query_img_reshaped)"
      ],
      "execution_count": null,
      "outputs": []
    },
    {
      "cell_type": "code",
      "metadata": {
        "id": "tcqod-gglK00",
        "colab": {
          "base_uri": "https://localhost:8080/"
        },
        "outputId": "a0de8494-a27d-423b-e93e-eae8f1283f21"
      },
      "source": [
        "query_img_encoded.shape"
      ],
      "execution_count": null,
      "outputs": [
        {
          "output_type": "execute_result",
          "data": {
            "text/plain": [
              "(1, 64)"
            ]
          },
          "metadata": {},
          "execution_count": 89
        }
      ]
    },
    {
      "cell_type": "markdown",
      "metadata": {
        "id": "Ds-aBRT56Nt_"
      },
      "source": [
        "Select the 10 nearest neighbor images to our query image"
      ]
    },
    {
      "cell_type": "code",
      "metadata": {
        "id": "4TbkGTqalK00"
      },
      "source": [
        "_, neigh_ind = nn.kneighbors(query_img_encoded,n_neighbors=11)"
      ],
      "execution_count": null,
      "outputs": []
    },
    {
      "cell_type": "markdown",
      "metadata": {
        "id": "6wIoUxUkHgdP"
      },
      "source": [
        "Nearest neighbor distances:"
      ]
    },
    {
      "cell_type": "markdown",
      "metadata": {
        "id": "HbJH2vWUHjXa"
      },
      "source": [
        "Nearest neighbor indexes: <br>\n",
        "Of course the model identifies the query image as the closest nearest neighbor to itself. <br>\n",
        "That's why we asked for 11 nearest neigbhbors when really we wanted 10!"
      ]
    },
    {
      "cell_type": "code",
      "metadata": {
        "colab": {
          "base_uri": "https://localhost:8080/"
        },
        "id": "G98GSzNPHt8h",
        "outputId": "08473986-5407-446d-f098-b52f764bbf11"
      },
      "source": [
        "neigh_ind"
      ],
      "execution_count": null,
      "outputs": [
        {
          "output_type": "execute_result",
          "data": {
            "text/plain": [
              "array([[   42, 63615, 94280, 60336, 81998,  8025, 72778, 34829, 30409,\n",
              "        52388, 38629]])"
            ]
          },
          "metadata": {},
          "execution_count": 91
        }
      ]
    },
    {
      "cell_type": "markdown",
      "metadata": {
        "id": "CkHN8An66cCq"
      },
      "source": [
        "### 4. How did our model perform?\n",
        "Let's check!<br>\n",
        "Not bad!<br>\n",
        "With codings of 32 pixels -- a compression factor of about 25 -- <br>\n",
        "our model performed well when asked for images of the same class as the query image!"
      ]
    },
    {
      "cell_type": "code",
      "metadata": {
        "id": "5IOcG3pTlK01",
        "colab": {
          "base_uri": "https://localhost:8080/",
          "height": 1000
        },
        "outputId": "abfac205-2344-4700-e265-5809a865fa68"
      },
      "source": [
        "%%time\n",
        "count = 0\n",
        "for nearest_neigh_index in neigh_ind[0][1:]:\n",
        "  plt.figure()\n",
        "  plt.imshow(x_train[nearest_neigh_index])\n",
        "  plt.title(f'Image {count}: {class_names[y_train[nearest_neigh_index]]}')\n",
        "  count+=1"
      ],
      "execution_count": null,
      "outputs": [
        {
          "output_type": "stream",
          "name": "stdout",
          "text": [
            "CPU times: user 111 ms, sys: 0 ns, total: 111 ms\n",
            "Wall time: 112 ms\n"
          ]
        },
        {
          "output_type": "display_data",
          "data": {
            "image/png": "[encoded data removed]",
            "text/plain": [
              "<Figure size 432x288 with 1 Axes>"
            ]
          },
          "metadata": {
            "needs_background": "light"
          }
        },
        {
          "output_type": "display_data",
          "data": {
            "image/png": "[encoded data removed]",
            "text/plain": [
              "<Figure size 432x288 with 1 Axes>"
            ]
          },
          "metadata": {
            "needs_background": "light"
          }
        },
        {
          "output_type": "display_data",
          "data": {
            "image/png": "[encoded data removed]",
            "text/plain": [
              "<Figure size 432x288 with 1 Axes>"
            ]
          },
          "metadata": {
            "needs_background": "light"
          }
        },
        {
          "output_type": "display_data",
          "data": {
            "image/png": "[encoded data removed]",
            "text/plain": [
              "<Figure size 432x288 with 1 Axes>"
            ]
          },
          "metadata": {
            "needs_background": "light"
          }
        },
        {
          "output_type": "display_data",
          "data": {
            "image/png": "[encoded data removed]",
            "text/plain": [
              "<Figure size 432x288 with 1 Axes>"
            ]
          },
          "metadata": {
            "needs_background": "light"
          }
        },
        {
          "output_type": "display_data",
          "data": {
            "image/png": "[encoded data removed]",
            "text/plain": [
              "<Figure size 432x288 with 1 Axes>"
            ]
          },
          "metadata": {
            "needs_background": "light"
          }
        },
        {
          "output_type": "display_data",
          "data": {
            "image/png": "[encoded data removed]",
            "text/plain": [
              "<Figure size 432x288 with 1 Axes>"
            ]
          },
          "metadata": {
            "needs_background": "light"
          }
        },
        {
          "output_type": "display_data",
          "data": {
            "image/png": "[encoded data removed]",
            "text/plain": [
              "<Figure size 432x288 with 1 Axes>"
            ]
          },
          "metadata": {
            "needs_background": "light"
          }
        },
        {
          "output_type": "display_data",
          "data": {
            "image/png": "[encoded data removed]",
            "text/plain": [
              "<Figure size 432x288 with 1 Axes>"
            ]
          },
          "metadata": {
            "needs_background": "light"
          }
        },
        {
          "output_type": "display_data",
          "data": {
            "image/png": "[encoded data removed]",
            "text/plain": [
              "<Figure size 432x288 with 1 Axes>"
            ]
          },
          "metadata": {
            "needs_background": "light"
          }
        }
      ]
    },
    {
      "cell_type": "markdown",
      "metadata": {
        "id": "uTbKqbEHcXc6"
      },
      "source": [
        "## Challenge\n",
        "\n",
        "You should already be familiar with KNN and similarity queries, so the key component of this section is know which part of the autoencoder (the encoder) to use to extract features from your data. "
      ]
    },
    {
      "cell_type": "markdown",
      "metadata": {
        "id": "6667UUvQcXc6"
      },
      "source": [
        "# Review\n",
        "\n",
        "* <a href=\"#p1\">Part 1</a>: Describe the components of an autoencoder\n",
        "    - Encoder\n",
        "    - Decoder\n",
        "    - Codings\n",
        "* <a href=\"#p2\">Part 2</a>: Train an autoencoder to do image compression and reconstruction\n",
        "    - Can do this easily in Keras\n",
        "    - Can use a variety of architectures\n",
        "    - Architectures must follow hourglass shape\n",
        "* <a href=\"#p3\">Part 3</a>: Apply an autoencoder to a basic information retrieval problem\n",
        "    - Extract just the encoder to use for various tasks\n",
        "    - AutoEncoders are used for dimensionality reduction, reverse image search, and many more applications. \n"
      ]
    },
    {
      "cell_type": "markdown",
      "metadata": {
        "id": "HZWiQPsfcXc7"
      },
      "source": [
        "# Sources\n",
        "\n",
        "__References__\n",
        "- [Building Autoencoders in Keras](https://blog.keras.io/building-autoencoders-in-keras.html)\n",
        "- [Deep Learning Cookbook](http://shop.oreilly.com/product/0636920097471.do)\n",
        "\n",
        "__Additional Material__<br>\n",
        "- [AI Summer -- autoencoder resources](https://theaisummer.com/search/?s=autoencoders)"
      ]
    }
  ]
}